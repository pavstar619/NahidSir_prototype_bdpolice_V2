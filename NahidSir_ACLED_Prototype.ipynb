{
  "nbformat": 4,
  "nbformat_minor": 0,
  "metadata": {
    "colab": {
      "name": "NahidSir_ACLED_Prototype.ipynb",
      "provenance": [],
      "collapsed_sections": [],
      "authorship_tag": "ABX9TyNyqj3X5eblZpZ7/4RcGJu0",
      "include_colab_link": true
    },
    "kernelspec": {
      "name": "python3",
      "display_name": "Python 3"
    },
    "language_info": {
      "name": "python"
    }
  },
  "cells": [
    {
      "cell_type": "markdown",
      "metadata": {
        "id": "view-in-github",
        "colab_type": "text"
      },
      "source": [
        "<a href=\"https://colab.research.google.com/github/pavstar619/NahidSir_prototype_bdpolice_V2/blob/main/NahidSir_ACLED_Prototype.ipynb\" target=\"_parent\"><img src=\"https://colab.research.google.com/assets/colab-badge.svg\" alt=\"Open In Colab\"/></a>"
      ]
    },
    {
      "cell_type": "markdown",
      "metadata": {
        "id": "sXrIvym_FUqv"
      },
      "source": [
        "Note: \n",
        "\n",
        "* Acled xlsx event type had some different worded rows. Fixed that after making the first total counts xlsx\n",
        "\n",
        "* (SOLVED) Tried Specific events by separate years with cities. Didnt work out due to each city having unequal amount of events\n",
        "\n",
        "  * (SOLVED) Tried using dictionary but lots of empty arrays as one city might not have any crimes at all for one year. Not sure how to append dict to excel"
      ]
    },
    {
      "cell_type": "code",
      "metadata": {
        "colab": {
          "base_uri": "https://localhost:8080/"
        },
        "id": "ChDHnWza714w",
        "outputId": "ebcd99d5-6acc-4666-82b3-ecdced9face5"
      },
      "source": [
        "!pip install XlsxWriter"
      ],
      "execution_count": 345,
      "outputs": [
        {
          "output_type": "stream",
          "text": [
            "Requirement already satisfied: XlsxWriter in /usr/local/lib/python3.7/dist-packages (1.4.0)\n"
          ],
          "name": "stdout"
        }
      ]
    },
    {
      "cell_type": "code",
      "metadata": {
        "id": "BNWsqwkyfoIJ"
      },
      "source": [
        "import pandas as pd\n",
        "\n",
        "import matplotlib.pyplot as plt\n",
        "import seaborn as sns\n",
        "\n",
        "import folium\n",
        "\n",
        "from geopy.geocoders import Nominatim, OpenMapQuest\n",
        "from geopy.exc import GeocoderTimedOut\n",
        "\n",
        "\n"
      ],
      "execution_count": 346,
      "outputs": []
    },
    {
      "cell_type": "code",
      "metadata": {
        "id": "p_uDtTnpUAHu"
      },
      "source": [
        "# !pip install geopy\n",
        "# !pip install folium"
      ],
      "execution_count": 347,
      "outputs": []
    },
    {
      "cell_type": "code",
      "metadata": {
        "colab": {
          "base_uri": "https://localhost:8080/"
        },
        "id": "-Z82cj9MeRU1",
        "outputId": "3491d214-c3ca-4c0b-a8c1-f1f2eb4bfaef"
      },
      "source": [
        "from google.colab import drive\n",
        "drive.mount('/content/gdrive')\n"
      ],
      "execution_count": 348,
      "outputs": [
        {
          "output_type": "stream",
          "text": [
            "Drive already mounted at /content/gdrive; to attempt to forcibly remount, call drive.mount(\"/content/gdrive\", force_remount=True).\n"
          ],
          "name": "stdout"
        }
      ]
    },
    {
      "cell_type": "code",
      "metadata": {
        "id": "zM8ZeogDfJas"
      },
      "source": [
        "# # data = pd.read_excel('ACLED_Data_Prototype.xlsx')\n",
        "# data = pd.read_excel('/content/gdrive/MyDrive/Thesis Mates/Thesis Part 2/ACLED Data & Paper Writing Guideline /ACLED_Data_Prototype.xlsx')\n",
        "# data"
      ],
      "execution_count": 349,
      "outputs": []
    },
    {
      "cell_type": "code",
      "metadata": {
        "id": "pn-e-2YfYEiL"
      },
      "source": [
        "# data.loc[0, 'LOCATION']"
      ],
      "execution_count": 351,
      "outputs": []
    },
    {
      "cell_type": "markdown",
      "metadata": {
        "id": "WUlt8kD-ZR6E"
      },
      "source": [
        "Specific Event types total counts by year\n"
      ]
    },
    {
      "cell_type": "code",
      "metadata": {
        "id": "PQ9nzSsKhWBY"
      },
      "source": [
        "# years = data.YEAR.unique()\n",
        "# events = data.EVENT_TYPE.unique() # has duplicates same values actual values is 6 not 9\n",
        "# print(events)\n",
        "\n",
        "# totalcount_df = pd.DataFrame(columns = ['YEAR'])\n",
        "\n",
        "# for i in years:\n",
        "#   year = data.loc[data['YEAR'] == i]\n",
        "#   duplicates = year.pivot_table(index = ['EVENT_TYPE'], aggfunc ='size')\n",
        "#   print(i)\n",
        "#   print(duplicates,'\\n')\n",
        "\n",
        "#   totalcount_df = totalcount_df.append(duplicates, ignore_index=True)\n",
        "\n",
        "# totalcount_df\n",
        "\n",
        "# totalcount_df.to_csv('ACLED_totalcounts.csv',index=False)"
      ],
      "execution_count": 352,
      "outputs": []
    },
    {
      "cell_type": "markdown",
      "metadata": {
        "id": "j3V4dsYFvV1x"
      },
      "source": [
        "Total Events by year and cities"
      ]
    },
    {
      "cell_type": "code",
      "metadata": {
        "id": "Yu7R9LnvnhCt"
      },
      "source": [
        "# years = data['YEAR'].unique()\n",
        "# locations = data['LOCATION'].unique()\n",
        "# events = data['EVENT_TYPE'].unique()\n",
        "\n",
        "# locations_totalcount_df = pd.DataFrame(columns = [years])\n",
        "# count = 0\n",
        "\n",
        "# for i in locations:\n",
        "#   for j in years:\n",
        "#     x = data.loc[(data['LOCATION'] == i) & (data['YEAR'] == j)]\n",
        "#     # duplicates = x.pivot_table(index = ['EVENT_TYPE'], aggfunc ='size') # enable this to show specific events like riots murder etc\n",
        "#     sum = x['EVENT_TYPE'].count()\n",
        "#     # print('~~~~~~~~~~~~~~~~~~~~~~')\n",
        "#     # print(i,j,'Total events: ',sum)\n",
        "#     # print(duplicates)\n",
        "\n",
        "#     locations_totalcount_df.loc[count,j] = sum\n",
        "\n",
        "#   count+=1\n",
        "\n",
        "# # locations_totalcount_df\n",
        "\n"
      ],
      "execution_count": 353,
      "outputs": []
    },
    {
      "cell_type": "code",
      "metadata": {
        "id": "jIqKynl0wCHJ"
      },
      "source": [
        "# # Add cities to dataframe\n",
        "# locations_totalcount_df['LOCATION'] = locations.tolist()\n",
        "# locations_totalcount_df"
      ],
      "execution_count": 354,
      "outputs": []
    },
    {
      "cell_type": "code",
      "metadata": {
        "id": "ZK8WJE3tu42I"
      },
      "source": [
        "# locations_totalcount_df.to_excel('ACLED_locations_totalcount_df.xlsx',index=False)"
      ],
      "execution_count": 355,
      "outputs": []
    },
    {
      "cell_type": "code",
      "metadata": {
        "id": "9Ek_EK1BhN2-"
      },
      "source": [
        "# x = data.loc[(data['LOCATION'] == 'Hathazari') & (data['YEAR'] == 2011)]\n",
        "# x"
      ],
      "execution_count": 356,
      "outputs": []
    },
    {
      "cell_type": "markdown",
      "metadata": {
        "id": "n2mXTpqfb8GE"
      },
      "source": [
        "Specific Events by years by cities (using Dictionary -> excel)"
      ]
    },
    {
      "cell_type": "code",
      "metadata": {
        "id": "BLCofKy-N4pq"
      },
      "source": [
        "# years = data['YEAR'].unique()\n",
        "# locations = data['LOCATION'].unique()\n",
        "# events = data['EVENT_TYPE'].unique()\n",
        "\n",
        "# years_dict = {}\n",
        "# for i in years:\n",
        "#   location_dict = {}\n",
        "#   for j in locations:\n",
        "#     x = data.loc[(data['LOCATION'] == j) & (data['YEAR'] == i)]\n",
        "#     duplicates = x.pivot_table(index = ['EVENT_TYPE'], aggfunc ='size') # enable this to show specific events like riots murder etc\n",
        "#     event_dict = {}\n",
        "#     for event, value in duplicates.items():\n",
        "#       event_dict[event] = value \n",
        "\n",
        "#     location_dict[j] = event_dict\n",
        "\n",
        "#   years_dict[i] = location_dict\n",
        "\n",
        "\n",
        "\n",
        "\n",
        "\n"
      ],
      "execution_count": 357,
      "outputs": []
    },
    {
      "cell_type": "code",
      "metadata": {
        "id": "U3OLeI-tPODg"
      },
      "source": [
        "# for i in years_dict:\n",
        "#   print(years_dict[i])"
      ],
      "execution_count": 358,
      "outputs": []
    },
    {
      "cell_type": "code",
      "metadata": {
        "id": "SAI2S5FKSnZv"
      },
      "source": [
        "# writer = pd.ExcelWriter('yearwise_locations_specificevent.xlsx', engine='xlsxwriter')\n",
        "\n",
        "# yearwise_locations_specificevent = pd.DataFrame()\n",
        "# yearwise_locations_specificevent\n",
        "\n",
        "# for year in years_dict:\n",
        "#   count = 0\n",
        "#   for city in years_dict[year]:\n",
        "#     yearwise_locations_specificevent.loc[count, 'LOCATION'] = city\n",
        "\n",
        "#     x = years_dict[year][city]\n",
        "#     for event,value in x.items():\n",
        "#       yearwise_locations_specificevent.loc[count, event] = value\n",
        "#       # yearwise_locations_specificevent[str(event)].iloc[count] = value\n",
        "\n",
        "#     count+=1\n",
        "\n",
        "#     # for event in years_dict[year][city]:\n",
        "\n",
        "\n",
        "#   yearwise_locations_specificevent.to_excel(writer, sheet_name=str(year),index=False)\n",
        "\n",
        "# writer.save()"
      ],
      "execution_count": 359,
      "outputs": []
    },
    {
      "cell_type": "markdown",
      "metadata": {
        "id": "B3Xzxe8CUd0i"
      },
      "source": [
        "Geo Mapping Stuff"
      ]
    },
    {
      "cell_type": "code",
      "metadata": {
        "id": "KYqqwRdlUdf-"
      },
      "source": [
        "# plt.figure(figsize = (15,8))\n",
        "# sns.scatterplot(data['LATITUDE'], data['LONGITUDE'])"
      ],
      "execution_count": 360,
      "outputs": []
    },
    {
      "cell_type": "code",
      "metadata": {
        "id": "ChlAL6--WheF"
      },
      "source": [
        "# lat_median = data['LATITUDE'].median() # y\n",
        "# long_median = data['LONGITUDE'].median() # x\n",
        "# print(lat_median,long_median)"
      ],
      "execution_count": 361,
      "outputs": []
    },
    {
      "cell_type": "code",
      "metadata": {
        "id": "HehUVH2sVhi8"
      },
      "source": [
        "# # create the map.\n",
        "# map_pickup = folium.Map(location=[lat_median, long_median], zoom_start = 12)\n",
        "\n",
        "# # adding the latitude and longitude points to the map.\n",
        "# data.apply(lambda row:folium.CircleMarker(location=[row['LATITUDE'], row['LONGITUDE']],).add_to(map_pickup), axis=1)\n",
        "\n",
        "# # optional: save the map.\n",
        "# map_pickup.save('geomap_bd.html')\n",
        "\n",
        "# # display the map: just ask for the object representation in juypter notebook.\n",
        "# map_pickup"
      ],
      "execution_count": 362,
      "outputs": []
    },
    {
      "cell_type": "markdown",
      "metadata": {
        "id": "uk4jh_Ob0fSJ"
      },
      "source": [
        "Geo Locater find districts and stuff\n",
        "\n",
        "Problems:\n",
        " * Takes too long for each of the 30000 rows (2rows/sec speed)"
      ]
    },
    {
      "cell_type": "code",
      "metadata": {
        "id": "s83LL7IjvtBp"
      },
      "source": [
        "# # create the locator\n",
        "# geolocator = Nominatim(user_agent=\"GGWP\") # 120 req per min\n",
        "# # geolocator = OpenMapQuest(api_key='x5LPBPjUCj9CUEl4U9fUrnoLGfGv7SWk') # 275 req per min NOT WORKING as limit = 15k\n",
        "\n",
        "# # getting the location address\n",
        "# # location = geolocator.reverse(\"23.1998, 89.6644\")\n",
        "# location = geolocator.reverse((22.6432,\t92.1919))\n",
        "# print(location.address)\n",
        "# # print(location.raw['address']['state_district'])\n",
        "# print(location.raw)\n",
        "# print(geolocator.geocode('Hathazari'))\n",
        "\n",
        "\n"
      ],
      "execution_count": 363,
      "outputs": []
    },
    {
      "cell_type": "code",
      "metadata": {
        "id": "162zpaCzBZNW"
      },
      "source": [
        "\n",
        "# from geopy.geocoders import OpenMapQuest\n",
        "\n",
        "# point = '23.1998, 89.6644' #here's famous Sherlock Holmes' museum lat & lng\n",
        "\n",
        "# geolocator = OpenMapQuest(api_key='x5LPBPjUCj9CUEl4U9fUrnoLGfGv7SWk')\n",
        "# address = geolocator.reverse(point)\n",
        "# print(address[0]) # use other indexes if you want more or less detailed address scope."
      ],
      "execution_count": 364,
      "outputs": []
    },
    {
      "cell_type": "code",
      "metadata": {
        "id": "OUqU8UteBlE0"
      },
      "source": [
        "# # https://stackoverflow.com/questions/31506272/geopy-too-slow-timeout-all-the-time\n",
        "# # TIME OUT ERROR FIX\n",
        "\n",
        "# def geocode(i, recursion=0):\n",
        "#     try:\n",
        "#         return geolocator.reverse((data.loc[i, 'LATITUDE'], data.loc[i, 'LONGITUDE']))\n",
        "#     except GeocoderTimedOut as e:\n",
        "#         if recursion > 10:      # max recursions\n",
        "#             raise e\n",
        "\n",
        "#         time.sleep(2) # wait a bit\n",
        "#         # try again\n",
        "#         return geocode(i, recursion=recursion + 1)"
      ],
      "execution_count": 365,
      "outputs": []
    },
    {
      "cell_type": "code",
      "metadata": {
        "id": "dZ2Ix1Kp3zul"
      },
      "source": [
        "# # THIS ONE TAKES TOO LONG FOR 30k ROWS\n",
        "\n",
        "# for i in range(len(data.index)):\n",
        "#   # location = geolocator.reverse((data.loc[i, 'LATITUDE'], data.loc[i, 'LONGITUDE']))\n",
        "#   location = geocode(i)\n",
        "#   # print(location.raw)\n",
        "#   try:\n",
        "#     data.loc[i, 'COUNTY'] = location.raw['address']['state_district']\n",
        "#     data.loc[i, 'DIVISION'] = location.raw['address']['state']\n",
        "#   except KeyError:\n",
        "#     print('not found')\n",
        "#   print(i)\n",
        "\n",
        "# data.to_excel('location_by_State.xlsx',index=False)\n",
        "# data"
      ],
      "execution_count": 366,
      "outputs": []
    },
    {
      "cell_type": "code",
      "metadata": {
        "id": "oL0epL5mI2MO"
      },
      "source": [
        ""
      ],
      "execution_count": 366,
      "outputs": []
    },
    {
      "cell_type": "code",
      "metadata": {
        "id": "o1aPKvfOOZyg"
      },
      "source": [
        "# RUN FOREVER WITHOUT DISCONNECT \n",
        "# while True:pass"
      ],
      "execution_count": 367,
      "outputs": []
    },
    {
      "cell_type": "markdown",
      "metadata": {
        "id": "rSqgH3F4sI-o"
      },
      "source": [
        "Classification Note:\n",
        " * Predict using Year,City - Find coords and event type(idk how)\n",
        " * Predict using Year, City - Find only event type (multiple events in one city how to handle?) \n",
        "\n"
      ]
    },
    {
      "cell_type": "markdown",
      "metadata": {
        "id": "Tf31jjEcd2-N"
      },
      "source": [
        "Classify years with events only\n"
      ]
    },
    {
      "cell_type": "code",
      "metadata": {
        "id": "z-WXIHVPgpYV"
      },
      "source": [
        "import pandas as pd\n",
        "import numpy as np\n",
        "\n",
        "from sklearn.model_selection import train_test_split\n",
        "from sklearn.metrics import precision_recall_fscore_support\n",
        "from sklearn.metrics import r2_score, mean_squared_error, mean_absolute_error\n",
        "\n",
        "from sklearn.tree import DecisionTreeRegressor\n",
        "from sklearn.ensemble import RandomForestRegressor\n",
        "from sklearn.svm import SVR\n",
        "from sklearn.neural_network import MLPClassifier\n",
        "from sklearn import linear_model \n",
        "from sklearn.linear_model import LinearRegression\n",
        "\n",
        "from sklearn.pipeline import make_pipeline\n",
        "from sklearn.preprocessing import StandardScaler\n",
        "\n",
        "from sklearn.metrics import r2_score\n",
        "from sklearn.metrics import mean_squared_error\n",
        "\n",
        "from numpy import array\n",
        "from sklearn.model_selection import KFold\n",
        "\n",
        "from keras.models import Sequential\n",
        "from keras.layers import Dense, Dropout\n",
        "from keras.utils.vis_utils import plot_model\n",
        "from tensorflow.keras.layers.experimental import preprocessing\n",
        "\n",
        "import matplotlib.pyplot as plt"
      ],
      "execution_count": 368,
      "outputs": []
    },
    {
      "cell_type": "code",
      "metadata": {
        "colab": {
          "base_uri": "https://localhost:8080/",
          "height": 648
        },
        "id": "xGqX6QNXd2q_",
        "outputId": "38466114-a225-43f2-870b-3db7ea30cc8d"
      },
      "source": [
        "data = pd.read_excel('/content/gdrive/MyDrive/Thesis Mates/Thesis Part 2/ACLED Data & Paper Writing Guideline /Data Outputs/ACLED_event_totalcounts.xlsx')\n",
        "data"
      ],
      "execution_count": 369,
      "outputs": [
        {
          "output_type": "execute_result",
          "data": {
            "text/html": [
              "<div>\n",
              "<style scoped>\n",
              "    .dataframe tbody tr th:only-of-type {\n",
              "        vertical-align: middle;\n",
              "    }\n",
              "\n",
              "    .dataframe tbody tr th {\n",
              "        vertical-align: top;\n",
              "    }\n",
              "\n",
              "    .dataframe thead th {\n",
              "        text-align: right;\n",
              "    }\n",
              "</style>\n",
              "<table border=\"1\" class=\"dataframe\">\n",
              "  <thead>\n",
              "    <tr style=\"text-align: right;\">\n",
              "      <th></th>\n",
              "      <th>YEAR</th>\n",
              "      <th>Battles</th>\n",
              "      <th>ExplosionsRemoteViolence</th>\n",
              "      <th>Protests</th>\n",
              "      <th>Riots</th>\n",
              "      <th>StrategicDevelopments</th>\n",
              "      <th>ViolenceAgainstCivilians</th>\n",
              "    </tr>\n",
              "  </thead>\n",
              "  <tbody>\n",
              "    <tr>\n",
              "      <th>0</th>\n",
              "      <td>2001</td>\n",
              "      <td>177</td>\n",
              "      <td>18</td>\n",
              "      <td>462</td>\n",
              "      <td>820</td>\n",
              "      <td>30</td>\n",
              "      <td>340</td>\n",
              "    </tr>\n",
              "    <tr>\n",
              "      <th>1</th>\n",
              "      <td>2002</td>\n",
              "      <td>202</td>\n",
              "      <td>27</td>\n",
              "      <td>350</td>\n",
              "      <td>1738</td>\n",
              "      <td>25</td>\n",
              "      <td>398</td>\n",
              "    </tr>\n",
              "    <tr>\n",
              "      <th>2</th>\n",
              "      <td>2003</td>\n",
              "      <td>199</td>\n",
              "      <td>9</td>\n",
              "      <td>143</td>\n",
              "      <td>512</td>\n",
              "      <td>8</td>\n",
              "      <td>252</td>\n",
              "    </tr>\n",
              "    <tr>\n",
              "      <th>3</th>\n",
              "      <td>2004</td>\n",
              "      <td>137</td>\n",
              "      <td>48</td>\n",
              "      <td>353</td>\n",
              "      <td>1168</td>\n",
              "      <td>26</td>\n",
              "      <td>183</td>\n",
              "    </tr>\n",
              "    <tr>\n",
              "      <th>4</th>\n",
              "      <td>2005</td>\n",
              "      <td>128</td>\n",
              "      <td>11</td>\n",
              "      <td>268</td>\n",
              "      <td>270</td>\n",
              "      <td>6</td>\n",
              "      <td>140</td>\n",
              "    </tr>\n",
              "    <tr>\n",
              "      <th>5</th>\n",
              "      <td>2006</td>\n",
              "      <td>77</td>\n",
              "      <td>7</td>\n",
              "      <td>239</td>\n",
              "      <td>122</td>\n",
              "      <td>10</td>\n",
              "      <td>59</td>\n",
              "    </tr>\n",
              "    <tr>\n",
              "      <th>6</th>\n",
              "      <td>2007</td>\n",
              "      <td>63</td>\n",
              "      <td>0</td>\n",
              "      <td>473</td>\n",
              "      <td>408</td>\n",
              "      <td>6</td>\n",
              "      <td>186</td>\n",
              "    </tr>\n",
              "    <tr>\n",
              "      <th>7</th>\n",
              "      <td>2008</td>\n",
              "      <td>96</td>\n",
              "      <td>7</td>\n",
              "      <td>847</td>\n",
              "      <td>388</td>\n",
              "      <td>14</td>\n",
              "      <td>241</td>\n",
              "    </tr>\n",
              "    <tr>\n",
              "      <th>8</th>\n",
              "      <td>2009</td>\n",
              "      <td>12</td>\n",
              "      <td>3</td>\n",
              "      <td>331</td>\n",
              "      <td>130</td>\n",
              "      <td>7</td>\n",
              "      <td>79</td>\n",
              "    </tr>\n",
              "    <tr>\n",
              "      <th>9</th>\n",
              "      <td>2010</td>\n",
              "      <td>350</td>\n",
              "      <td>50</td>\n",
              "      <td>576</td>\n",
              "      <td>1138</td>\n",
              "      <td>75</td>\n",
              "      <td>424</td>\n",
              "    </tr>\n",
              "    <tr>\n",
              "      <th>10</th>\n",
              "      <td>2011</td>\n",
              "      <td>295</td>\n",
              "      <td>32</td>\n",
              "      <td>639</td>\n",
              "      <td>907</td>\n",
              "      <td>38</td>\n",
              "      <td>408</td>\n",
              "    </tr>\n",
              "    <tr>\n",
              "      <th>11</th>\n",
              "      <td>2012</td>\n",
              "      <td>177</td>\n",
              "      <td>18</td>\n",
              "      <td>462</td>\n",
              "      <td>820</td>\n",
              "      <td>30</td>\n",
              "      <td>340</td>\n",
              "    </tr>\n",
              "    <tr>\n",
              "      <th>12</th>\n",
              "      <td>2013</td>\n",
              "      <td>202</td>\n",
              "      <td>27</td>\n",
              "      <td>350</td>\n",
              "      <td>1738</td>\n",
              "      <td>25</td>\n",
              "      <td>398</td>\n",
              "    </tr>\n",
              "    <tr>\n",
              "      <th>13</th>\n",
              "      <td>2014</td>\n",
              "      <td>199</td>\n",
              "      <td>9</td>\n",
              "      <td>143</td>\n",
              "      <td>512</td>\n",
              "      <td>8</td>\n",
              "      <td>252</td>\n",
              "    </tr>\n",
              "    <tr>\n",
              "      <th>14</th>\n",
              "      <td>2015</td>\n",
              "      <td>137</td>\n",
              "      <td>48</td>\n",
              "      <td>353</td>\n",
              "      <td>1168</td>\n",
              "      <td>26</td>\n",
              "      <td>183</td>\n",
              "    </tr>\n",
              "    <tr>\n",
              "      <th>15</th>\n",
              "      <td>2016</td>\n",
              "      <td>128</td>\n",
              "      <td>11</td>\n",
              "      <td>268</td>\n",
              "      <td>270</td>\n",
              "      <td>6</td>\n",
              "      <td>140</td>\n",
              "    </tr>\n",
              "    <tr>\n",
              "      <th>16</th>\n",
              "      <td>2017</td>\n",
              "      <td>86</td>\n",
              "      <td>8</td>\n",
              "      <td>254</td>\n",
              "      <td>148</td>\n",
              "      <td>11</td>\n",
              "      <td>65</td>\n",
              "    </tr>\n",
              "    <tr>\n",
              "      <th>17</th>\n",
              "      <td>2018</td>\n",
              "      <td>115</td>\n",
              "      <td>9</td>\n",
              "      <td>304</td>\n",
              "      <td>561</td>\n",
              "      <td>8</td>\n",
              "      <td>209</td>\n",
              "    </tr>\n",
              "    <tr>\n",
              "      <th>18</th>\n",
              "      <td>2019</td>\n",
              "      <td>99</td>\n",
              "      <td>7</td>\n",
              "      <td>930</td>\n",
              "      <td>405</td>\n",
              "      <td>15</td>\n",
              "      <td>257</td>\n",
              "    </tr>\n",
              "    <tr>\n",
              "      <th>19</th>\n",
              "      <td>2020</td>\n",
              "      <td>21</td>\n",
              "      <td>7</td>\n",
              "      <td>971</td>\n",
              "      <td>320</td>\n",
              "      <td>17</td>\n",
              "      <td>184</td>\n",
              "    </tr>\n",
              "  </tbody>\n",
              "</table>\n",
              "</div>"
            ],
            "text/plain": [
              "    YEAR  Battles  ...  StrategicDevelopments  ViolenceAgainstCivilians\n",
              "0   2001      177  ...                     30                       340\n",
              "1   2002      202  ...                     25                       398\n",
              "2   2003      199  ...                      8                       252\n",
              "3   2004      137  ...                     26                       183\n",
              "4   2005      128  ...                      6                       140\n",
              "5   2006       77  ...                     10                        59\n",
              "6   2007       63  ...                      6                       186\n",
              "7   2008       96  ...                     14                       241\n",
              "8   2009       12  ...                      7                        79\n",
              "9   2010      350  ...                     75                       424\n",
              "10  2011      295  ...                     38                       408\n",
              "11  2012      177  ...                     30                       340\n",
              "12  2013      202  ...                     25                       398\n",
              "13  2014      199  ...                      8                       252\n",
              "14  2015      137  ...                     26                       183\n",
              "15  2016      128  ...                      6                       140\n",
              "16  2017       86  ...                     11                        65\n",
              "17  2018      115  ...                      8                       209\n",
              "18  2019       99  ...                     15                       257\n",
              "19  2020       21  ...                     17                       184\n",
              "\n",
              "[20 rows x 7 columns]"
            ]
          },
          "metadata": {
            "tags": []
          },
          "execution_count": 369
        }
      ]
    },
    {
      "cell_type": "code",
      "metadata": {
        "id": "552OZvsSfhFC"
      },
      "source": [
        "def R2_calc(pred_y, test_y): # Closer to 1 better score\n",
        "  return r2_score(pred_y, test_y)\n",
        "\n",
        "def MSE_calc(pred_y, test_y): # Lower the better\n",
        "  return mean_squared_error(pred_y, test_y, squared = False)\n",
        "  \n",
        "def MAE_calc(pred_y, test_y): # Lower the better\n",
        "  return mean_absolute_error(pred_y, test_y)\n",
        "\n",
        "def Error_calc(pred_y, test_y):\n",
        "  return (pred_y - test_y) / test_y"
      ],
      "execution_count": 370,
      "outputs": []
    },
    {
      "cell_type": "code",
      "metadata": {
        "id": "R4TkXcc0fUJw"
      },
      "source": [
        "def modelizeall(dmp, dmp_2018):\n",
        "  # Create a Pandas Excel writer using XlsxWriter as the engine.\n",
        "  writer = pd.ExcelWriter('ACLED_event_totalcounts_test_pred_data.xlsx', engine='xlsxwriter')\n",
        "  # writer1 = pd.ExcelWriter('Without2018train_errors_data.xlsx', engine='xlsxwriter')\n",
        "\n",
        "  model = Sequential()\n",
        "  model.add(Dense(8, input_dim=1, activation='relu'))\n",
        "  model.add(Dense(16, kernel_initializer='normal', activation='relu'))\n",
        "  model.add(Dense(1, kernel_initializer='normal'))\n",
        "  # used binary loss function \n",
        "  model.compile(loss='mse', optimizer='adam', metrics=['mean_absolute_error'])\n",
        "  # print(model.summary())\n",
        "\n",
        "  # dmp_x = dmp.loc[:, dmp.columns != 'Robbery']\n",
        "  # dmp_y = dmp['Robbery']\n",
        "  for col in dmp.columns[1:].unique():\n",
        "    print('~~~~~~~~~~~~~~~~~~~~~', col, '~~~~~~~~~~~~~~~~~~~~~')\n",
        "    dmp_x = dmp['YEAR'].values\n",
        "    dmp_y = dmp[col].values\n",
        "\n",
        "    # ASSIGN MANUALLY\n",
        "    train_x = dmp_x\n",
        "    train_y = dmp_y\n",
        "\n",
        "    test_x = dmp_2018['YEAR'].values\n",
        "    test_y = dmp_2018[col].values\n",
        "\n",
        "\n",
        "    # train_x, test_x, train_y, test_y = train_test_split(dmp_x, dmp_y, test_size = 0.25, random_state=0)\n",
        "\n",
        "    # Standard scaling\n",
        "    ss = StandardScaler()\n",
        "    ss.fit(train_x.reshape(-1, 1))\n",
        "    ss_train_x = ss.transform(train_x.reshape(-1, 1))\n",
        "    ss_test_x = ss.transform(test_x.reshape(-1, 1))\n",
        "\n",
        "    # print(train_x)\n",
        "    # print(test_x)\n",
        "\n",
        "\n",
        "\n",
        "    # pred for single data\n",
        "    Xnew = [[2021]]\n",
        "    # print(len(Xnew[0]))\n",
        "    # print(len(dmp_x.columns))\n",
        "\n",
        "    regressor = DecisionTreeRegressor(random_state=0)\n",
        "    forest = RandomForestRegressor(max_depth=2, random_state=0)\n",
        "    svr = make_pipeline(StandardScaler(), SVR(C=1.0, epsilon=0.2))\n",
        "    mlp = MLPClassifier(random_state=0, max_iter = 2000)\n",
        "    lasso = linear_model.Lasso(alpha=0.1)\n",
        "    bayesian = linear_model.BayesianRidge()\n",
        "    ridge = linear_model.Ridge()\n",
        "    lr = LinearRegression()\n",
        "\n",
        "    regressor.fit(train_x.reshape(-1, 1),train_y)  \n",
        "    forest.fit(train_x.reshape(-1, 1),train_y) \n",
        "    svr.fit(train_x.reshape(-1, 1),train_y)\n",
        "    mlp.fit(ss_train_x.reshape(-1,1),train_y) \n",
        "    lasso.fit(train_x.reshape(-1,1),train_y) \n",
        "    bayesian.fit(train_x.reshape(-1,1),train_y) \n",
        "    ridge.fit(train_x.reshape(-1,1),train_y) \n",
        "    lr.fit(train_x.reshape(-1,1),train_y)\n",
        "    model.fit(train_x,train_y, epochs=30, batch_size=2)\n",
        "\n",
        "\n",
        "\n",
        "    pred_y = regressor.predict(test_x.reshape(-1, 1))\n",
        "    pred_y1 = forest.predict(test_x.reshape(-1, 1)) \n",
        "    pred_y2 = svr.predict(test_x.reshape(-1, 1)) \n",
        "    pred_y3 = mlp.predict(ss_test_x.reshape(-1, 1))\n",
        "    pred_y4 = lasso.predict(test_x.reshape(-1,1))\n",
        "    pred_y5 = bayesian.predict(test_x.reshape(-1,1))\n",
        "    pred_y6 = ridge.predict(test_x.reshape(-1,1))\n",
        "    pred_y7 = lr.predict(test_x.reshape(-1,1))\n",
        "    pred_y8 = model.predict(test_x.reshape(-1,1)).tolist()\n",
        "\n",
        "    # error_y = (pred_y - test_y) / test_y #lower the better\n",
        "    # error_y1 = (pred_y1 - test_y) / test_y\n",
        "    # error_y2 = (pred_y2 - test_y) / test_y\n",
        "    # error_y3 = (pred_y3 - test_y) / test_y\n",
        "    # error_y4 = (pred_y4 - test_y) / test_y\n",
        "    # error_y5 = (pred_y5 - test_y) / test_y\n",
        "    # error_y6 = (pred_y6 - test_y) / test_y\n",
        "    # error_y7 = (pred_y7 - test_y) / test_y\n",
        "\n",
        "    pred_y_list = [pred_y,pred_y1,pred_y2,pred_y3,pred_y4,pred_y5,pred_y6,pred_y7,pred_y8]\n",
        "    error_y_list = []\n",
        "    r2_y_list = []\n",
        "    mse_y_list = []\n",
        "    mae_y_list = []\n",
        "\n",
        "    for pred_y in pred_y_list:\n",
        "      # error_y = Error_calc(pred_y,test_y)\n",
        "      # error_y_list.append(error_y)\n",
        "\n",
        "      r2_y = R2_calc(pred_y,test_y)\n",
        "      r2_y_list.append(r2_y)\n",
        "\n",
        "      mse_y = MSE_calc(pred_y,test_y)\n",
        "      mse_y_list.append(mse_y)\n",
        "\n",
        "      mae_y = MAE_calc(pred_y,test_y)\n",
        "      mae_y_list.append(mae_y)\n",
        "\n",
        "    Xpred_y = mlp.predict(Xnew) #one data only\n",
        "\n",
        "    model_list = ['Decision Tree', 'Random Forest', 'SVR', 'MLP(Adam)', 'Lasso', 'Bayesian', 'Ridge', 'Linear Regression','Neural Net']\n",
        "    # print('~~~~ Test Val || Predicted Val || Errors: R2, RMSE, MAE ~~~~')\n",
        "    # for i in range(len(pred_y_list)):\n",
        "    #   print(model_list[i], 'Test Val: ',test_y, 'Predicted Val: ', pred_y_list[i], 'Errors R2 | RMSE | MAE: ', r2_y_list[i], mse_y_list[i], mae_y_list[i]) # Dont show Metric as only one test row\n",
        "\n",
        "\n",
        "    # # Put in dataframes\n",
        "    # errors_data = pd.DataFrame(list(zip(model_list, r2_y_list, mse_y_list, mae_y_list)),\n",
        "    #            columns =['Algorithms','R2 Score','Mean Square Error(MSE)','Mean Absolute Error(MAE)'])\n",
        "    # # print(errors_data)\n",
        "    test_pred_data = pd.DataFrame(columns =['Algorithms','Test Years','Test Values','Predicted Values','R2 Score','Mean Square Error(MSE)','Mean Absolute Error(MAE)'])\n",
        "    for i in range(len(pred_y_list)):\n",
        "      test_pred_data.loc[i] = [model_list[i], test_x, test_y, list(np.around(pred_y_list[i],2)), r2_y_list[i], mse_y_list[i], mae_y_list[i]]\n",
        "    # print(test_pred_data)\n",
        "\n",
        "\n",
        "    # Put in excel sheets\n",
        "    # Write each dataframe to a different worksheet.\n",
        "    test_pred_data.to_excel(writer, sheet_name=col,index=False)\n",
        "    # errors_data.to_excel(writer1, sheet_name=col,index=False)\n",
        "\n",
        "\n",
        "    # Xpred_y = mlp.predict(Xnew) #one data only\n",
        "\n",
        "\n",
        "    # m2_y = mean_squared_error(test_y,pred_y, squared=False)\n",
        "\n",
        "    # print('~~~~ Test Val || Predicted Val || Errors: R2, RMSE, RSE ~~~~')\n",
        "    # # print(test_y)\n",
        "    # print('Test DT: ',test_y,pred_y,error_y) # Decision Tree\n",
        "    # print('Test RF: ',test_y,pred_y1,error_y1) # Random Forest\n",
        "    # print('Test SVR: ',test_y,pred_y2,error_y2) # SVM\n",
        "    # print('Test MLP: ',test_y,pred_y3,error_y3) # mlp\n",
        "    # print('Test Lasso: ',test_y,pred_y4,error_y4) # lasso\n",
        "    # print('Test Bayesian: ',test_y,pred_y5,error_y5) # bayesian\n",
        "    # print('Test Ridge: ',test_y,pred_y6,error_y6) # ridge\n",
        "    # print('Test Linear Regression: ',test_y,pred_y7,error_y7) # lr\n",
        "\n",
        "    # print('2018 BEST MLP: ',test_y,pred_y3) # Decision Tree\n",
        "    print(Xnew,'BEST MLP: ',col,Xpred_y) # Decision Tree\n",
        "\n",
        "\n",
        "  # Close the Pandas Excel writer and output the Excel file.\n",
        "  writer.save()\n",
        "  # writer1.save()"
      ],
      "execution_count": 371,
      "outputs": []
    },
    {
      "cell_type": "code",
      "metadata": {
        "id": "eRZZnCMlfNFr"
      },
      "source": [
        "# 2018 dmp\n",
        "dmp_2018 = data.iloc[19:] # 2020\n",
        "print(dmp_2018)\n",
        "\n",
        "# 2010 to 2017\n",
        "dmp_till2017 = data.drop(19)\n",
        "print(dmp_till2017)\n"
      ],
      "execution_count": null,
      "outputs": []
    },
    {
      "cell_type": "code",
      "metadata": {
        "colab": {
          "base_uri": "https://localhost:8080/"
        },
        "id": "iU46Yow0j-WJ",
        "outputId": "896c61b1-1206-48f6-cba4-bb77400de964"
      },
      "source": [
        "modelizeall(dmp_till2017, dmp_2018)"
      ],
      "execution_count": 373,
      "outputs": [
        {
          "output_type": "stream",
          "text": [
            "~~~~~~~~~~~~~~~~~~~~~ Battles ~~~~~~~~~~~~~~~~~~~~~\n"
          ],
          "name": "stdout"
        },
        {
          "output_type": "stream",
          "text": [
            "/usr/local/lib/python3.7/dist-packages/sklearn/neural_network/_multilayer_perceptron.py:571: ConvergenceWarning: Stochastic Optimizer: Maximum iterations (2000) reached and the optimization hasn't converged yet.\n",
            "  % self.max_iter, ConvergenceWarning)\n"
          ],
          "name": "stderr"
        },
        {
          "output_type": "stream",
          "text": [
            "Epoch 1/30\n",
            "10/10 [==============================] - 0s 1ms/step - loss: 32784.0014 - mean_absolute_error: 154.3799\n",
            "Epoch 2/30\n",
            "10/10 [==============================] - 0s 1ms/step - loss: 17242.4047 - mean_absolute_error: 116.6752\n",
            "Epoch 3/30\n",
            "10/10 [==============================] - 0s 1ms/step - loss: 23219.8785 - mean_absolute_error: 130.4050\n",
            "Epoch 4/30\n",
            "10/10 [==============================] - 0s 1ms/step - loss: 22178.2363 - mean_absolute_error: 123.8500\n",
            "Epoch 5/30\n",
            "10/10 [==============================] - 0s 1ms/step - loss: 14780.3480 - mean_absolute_error: 93.2926\n",
            "Epoch 6/30\n",
            "10/10 [==============================] - 0s 2ms/step - loss: 7439.1886 - mean_absolute_error: 68.5274\n",
            "Epoch 7/30\n",
            "10/10 [==============================] - 0s 1ms/step - loss: 11530.8043 - mean_absolute_error: 77.6428\n",
            "Epoch 8/30\n",
            "10/10 [==============================] - 0s 1ms/step - loss: 4705.7435 - mean_absolute_error: 53.7144\n",
            "Epoch 9/30\n",
            "10/10 [==============================] - 0s 1ms/step - loss: 5434.0948 - mean_absolute_error: 58.9586\n",
            "Epoch 10/30\n",
            "10/10 [==============================] - 0s 1ms/step - loss: 4496.8384 - mean_absolute_error: 53.3532\n",
            "Epoch 11/30\n",
            "10/10 [==============================] - 0s 1ms/step - loss: 5085.8517 - mean_absolute_error: 57.8947\n",
            "Epoch 12/30\n",
            "10/10 [==============================] - 0s 2ms/step - loss: 4905.7187 - mean_absolute_error: 58.2476\n",
            "Epoch 13/30\n",
            "10/10 [==============================] - 0s 2ms/step - loss: 8959.5862 - mean_absolute_error: 76.8079\n",
            "Epoch 14/30\n",
            "10/10 [==============================] - 0s 2ms/step - loss: 4534.2803 - mean_absolute_error: 55.3856\n",
            "Epoch 15/30\n",
            "10/10 [==============================] - 0s 3ms/step - loss: 4697.9123 - mean_absolute_error: 56.6589\n",
            "Epoch 16/30\n",
            "10/10 [==============================] - 0s 1ms/step - loss: 6660.4715 - mean_absolute_error: 67.8222\n",
            "Epoch 17/30\n",
            "10/10 [==============================] - 0s 2ms/step - loss: 5809.6179 - mean_absolute_error: 63.6419\n",
            "Epoch 18/30\n",
            "10/10 [==============================] - 0s 1ms/step - loss: 4748.8632 - mean_absolute_error: 52.6677\n",
            "Epoch 19/30\n",
            "10/10 [==============================] - 0s 2ms/step - loss: 4389.3640 - mean_absolute_error: 54.1382\n",
            "Epoch 20/30\n",
            "10/10 [==============================] - 0s 1ms/step - loss: 5940.0688 - mean_absolute_error: 63.5503\n",
            "Epoch 21/30\n",
            "10/10 [==============================] - 0s 2ms/step - loss: 6456.6260 - mean_absolute_error: 62.5407\n",
            "Epoch 22/30\n",
            "10/10 [==============================] - 0s 2ms/step - loss: 5340.2205 - mean_absolute_error: 59.8315\n",
            "Epoch 23/30\n",
            "10/10 [==============================] - 0s 2ms/step - loss: 5681.7710 - mean_absolute_error: 58.5999\n",
            "Epoch 24/30\n",
            "10/10 [==============================] - 0s 2ms/step - loss: 8100.2686 - mean_absolute_error: 69.5886\n",
            "Epoch 25/30\n",
            "10/10 [==============================] - 0s 2ms/step - loss: 8253.1193 - mean_absolute_error: 72.1130\n",
            "Epoch 26/30\n",
            "10/10 [==============================] - 0s 2ms/step - loss: 4821.3186 - mean_absolute_error: 54.5496\n",
            "Epoch 27/30\n",
            "10/10 [==============================] - 0s 1ms/step - loss: 5987.7202 - mean_absolute_error: 60.4086\n",
            "Epoch 28/30\n",
            "10/10 [==============================] - 0s 2ms/step - loss: 5245.3485 - mean_absolute_error: 59.1286\n",
            "Epoch 29/30\n",
            "10/10 [==============================] - 0s 2ms/step - loss: 8954.7052 - mean_absolute_error: 71.1899\n",
            "Epoch 30/30\n",
            "10/10 [==============================] - 0s 2ms/step - loss: 7272.5372 - mean_absolute_error: 68.4289\n",
            "[[2021]] BEST MLP:  Battles [99]\n",
            "~~~~~~~~~~~~~~~~~~~~~ ExplosionsRemoteViolence ~~~~~~~~~~~~~~~~~~~~~\n"
          ],
          "name": "stdout"
        },
        {
          "output_type": "stream",
          "text": [
            "/usr/local/lib/python3.7/dist-packages/sklearn/metrics/_regression.py:582: UndefinedMetricWarning: R^2 score is not well-defined with less than two samples.\n",
            "  warnings.warn(msg, UndefinedMetricWarning)\n",
            "/usr/local/lib/python3.7/dist-packages/sklearn/metrics/_regression.py:582: UndefinedMetricWarning: R^2 score is not well-defined with less than two samples.\n",
            "  warnings.warn(msg, UndefinedMetricWarning)\n",
            "/usr/local/lib/python3.7/dist-packages/sklearn/metrics/_regression.py:582: UndefinedMetricWarning: R^2 score is not well-defined with less than two samples.\n",
            "  warnings.warn(msg, UndefinedMetricWarning)\n",
            "/usr/local/lib/python3.7/dist-packages/sklearn/metrics/_regression.py:582: UndefinedMetricWarning: R^2 score is not well-defined with less than two samples.\n",
            "  warnings.warn(msg, UndefinedMetricWarning)\n",
            "/usr/local/lib/python3.7/dist-packages/sklearn/metrics/_regression.py:582: UndefinedMetricWarning: R^2 score is not well-defined with less than two samples.\n",
            "  warnings.warn(msg, UndefinedMetricWarning)\n",
            "/usr/local/lib/python3.7/dist-packages/sklearn/metrics/_regression.py:582: UndefinedMetricWarning: R^2 score is not well-defined with less than two samples.\n",
            "  warnings.warn(msg, UndefinedMetricWarning)\n",
            "/usr/local/lib/python3.7/dist-packages/sklearn/metrics/_regression.py:582: UndefinedMetricWarning: R^2 score is not well-defined with less than two samples.\n",
            "  warnings.warn(msg, UndefinedMetricWarning)\n",
            "/usr/local/lib/python3.7/dist-packages/sklearn/metrics/_regression.py:582: UndefinedMetricWarning: R^2 score is not well-defined with less than two samples.\n",
            "  warnings.warn(msg, UndefinedMetricWarning)\n",
            "/usr/local/lib/python3.7/dist-packages/sklearn/metrics/_regression.py:582: UndefinedMetricWarning: R^2 score is not well-defined with less than two samples.\n",
            "  warnings.warn(msg, UndefinedMetricWarning)\n"
          ],
          "name": "stderr"
        },
        {
          "output_type": "stream",
          "text": [
            "Epoch 1/30\n",
            "10/10 [==============================] - 0s 2ms/step - loss: 14759.8154 - mean_absolute_error: 119.8863\n",
            "Epoch 2/30\n",
            "10/10 [==============================] - 0s 2ms/step - loss: 6854.6470 - mean_absolute_error: 80.6755\n",
            "Epoch 3/30\n",
            "10/10 [==============================] - 0s 1ms/step - loss: 2788.9590 - mean_absolute_error: 50.0888\n",
            "Epoch 4/30\n",
            "10/10 [==============================] - 0s 1ms/step - loss: 1289.9738 - mean_absolute_error: 33.0525\n",
            "Epoch 5/30\n",
            "10/10 [==============================] - 0s 1ms/step - loss: 777.3352 - mean_absolute_error: 25.2754\n",
            "Epoch 6/30\n",
            "10/10 [==============================] - 0s 1ms/step - loss: 535.2223 - mean_absolute_error: 21.0663\n",
            "Epoch 7/30\n",
            "10/10 [==============================] - 0s 1ms/step - loss: 422.7074 - mean_absolute_error: 18.7823\n",
            "Epoch 8/30\n",
            "10/10 [==============================] - 0s 1ms/step - loss: 357.1810 - mean_absolute_error: 17.3172\n",
            "Epoch 9/30\n",
            " 1/10 [==>...........................] - ETA: 0s - loss: 370.6165 - mean_absolute_error: 19.2514"
          ],
          "name": "stdout"
        },
        {
          "output_type": "stream",
          "text": [
            "/usr/local/lib/python3.7/dist-packages/sklearn/neural_network/_multilayer_perceptron.py:571: ConvergenceWarning: Stochastic Optimizer: Maximum iterations (2000) reached and the optimization hasn't converged yet.\n",
            "  % self.max_iter, ConvergenceWarning)\n"
          ],
          "name": "stderr"
        },
        {
          "output_type": "stream",
          "text": [
            "10/10 [==============================] - 0s 2ms/step - loss: 325.3473 - mean_absolute_error: 16.3945\n",
            "Epoch 10/30\n",
            "10/10 [==============================] - 0s 1ms/step - loss: 293.5230 - mean_absolute_error: 15.5601\n",
            "Epoch 11/30\n",
            "10/10 [==============================] - 0s 2ms/step - loss: 278.3863 - mean_absolute_error: 15.1757\n",
            "Epoch 12/30\n",
            "10/10 [==============================] - 0s 1ms/step - loss: 267.8171 - mean_absolute_error: 14.8137\n",
            "Epoch 13/30\n",
            "10/10 [==============================] - 0s 2ms/step - loss: 261.5757 - mean_absolute_error: 14.5767\n",
            "Epoch 14/30\n",
            "10/10 [==============================] - 0s 2ms/step - loss: 256.3290 - mean_absolute_error: 14.3889\n",
            "Epoch 15/30\n",
            "10/10 [==============================] - 0s 1ms/step - loss: 251.2889 - mean_absolute_error: 14.1348\n",
            "Epoch 16/30\n",
            "10/10 [==============================] - 0s 2ms/step - loss: 248.8041 - mean_absolute_error: 13.9884\n",
            "Epoch 17/30\n",
            "10/10 [==============================] - 0s 1ms/step - loss: 246.7453 - mean_absolute_error: 13.8758\n",
            "Epoch 18/30\n",
            "10/10 [==============================] - 0s 1ms/step - loss: 245.5293 - mean_absolute_error: 13.7763\n",
            "Epoch 19/30\n",
            "10/10 [==============================] - 0s 1ms/step - loss: 244.4364 - mean_absolute_error: 13.7047\n",
            "Epoch 20/30\n",
            "10/10 [==============================] - 0s 1ms/step - loss: 243.4801 - mean_absolute_error: 13.6238\n",
            "Epoch 21/30\n",
            "10/10 [==============================] - 0s 2ms/step - loss: 242.3554 - mean_absolute_error: 13.5396\n",
            "Epoch 22/30\n",
            "10/10 [==============================] - 0s 1ms/step - loss: 241.5307 - mean_absolute_error: 13.4480\n",
            "Epoch 23/30\n",
            "10/10 [==============================] - 0s 1ms/step - loss: 240.8863 - mean_absolute_error: 13.3689\n",
            "Epoch 24/30\n",
            "10/10 [==============================] - 0s 2ms/step - loss: 240.8298 - mean_absolute_error: 13.3149\n",
            "Epoch 25/30\n",
            "10/10 [==============================] - 0s 1ms/step - loss: 239.8901 - mean_absolute_error: 13.2348\n",
            "Epoch 26/30\n",
            "10/10 [==============================] - 0s 1ms/step - loss: 239.4897 - mean_absolute_error: 13.1905\n",
            "Epoch 27/30\n",
            "10/10 [==============================] - 0s 1ms/step - loss: 240.2063 - mean_absolute_error: 13.1327\n",
            "Epoch 28/30\n",
            "10/10 [==============================] - 0s 1ms/step - loss: 239.0604 - mean_absolute_error: 13.0416\n",
            "Epoch 29/30\n",
            "10/10 [==============================] - 0s 3ms/step - loss: 238.8747 - mean_absolute_error: 12.9920\n",
            "Epoch 30/30\n",
            "10/10 [==============================] - 0s 2ms/step - loss: 238.8646 - mean_absolute_error: 12.9631\n",
            "[[2021]] BEST MLP:  ExplosionsRemoteViolence [7]\n",
            "~~~~~~~~~~~~~~~~~~~~~ Protests ~~~~~~~~~~~~~~~~~~~~~\n"
          ],
          "name": "stdout"
        },
        {
          "output_type": "stream",
          "text": [
            "/usr/local/lib/python3.7/dist-packages/sklearn/metrics/_regression.py:582: UndefinedMetricWarning: R^2 score is not well-defined with less than two samples.\n",
            "  warnings.warn(msg, UndefinedMetricWarning)\n",
            "/usr/local/lib/python3.7/dist-packages/sklearn/metrics/_regression.py:582: UndefinedMetricWarning: R^2 score is not well-defined with less than two samples.\n",
            "  warnings.warn(msg, UndefinedMetricWarning)\n",
            "/usr/local/lib/python3.7/dist-packages/sklearn/metrics/_regression.py:582: UndefinedMetricWarning: R^2 score is not well-defined with less than two samples.\n",
            "  warnings.warn(msg, UndefinedMetricWarning)\n",
            "/usr/local/lib/python3.7/dist-packages/sklearn/metrics/_regression.py:582: UndefinedMetricWarning: R^2 score is not well-defined with less than two samples.\n",
            "  warnings.warn(msg, UndefinedMetricWarning)\n",
            "/usr/local/lib/python3.7/dist-packages/sklearn/metrics/_regression.py:582: UndefinedMetricWarning: R^2 score is not well-defined with less than two samples.\n",
            "  warnings.warn(msg, UndefinedMetricWarning)\n",
            "/usr/local/lib/python3.7/dist-packages/sklearn/metrics/_regression.py:582: UndefinedMetricWarning: R^2 score is not well-defined with less than two samples.\n",
            "  warnings.warn(msg, UndefinedMetricWarning)\n",
            "/usr/local/lib/python3.7/dist-packages/sklearn/metrics/_regression.py:582: UndefinedMetricWarning: R^2 score is not well-defined with less than two samples.\n",
            "  warnings.warn(msg, UndefinedMetricWarning)\n",
            "/usr/local/lib/python3.7/dist-packages/sklearn/metrics/_regression.py:582: UndefinedMetricWarning: R^2 score is not well-defined with less than two samples.\n",
            "  warnings.warn(msg, UndefinedMetricWarning)\n",
            "/usr/local/lib/python3.7/dist-packages/sklearn/metrics/_regression.py:582: UndefinedMetricWarning: R^2 score is not well-defined with less than two samples.\n",
            "  warnings.warn(msg, UndefinedMetricWarning)\n"
          ],
          "name": "stderr"
        },
        {
          "output_type": "stream",
          "text": [
            "Epoch 1/30\n",
            "10/10 [==============================] - 0s 2ms/step - loss: 189663.8281 - mean_absolute_error: 383.8012\n",
            "Epoch 2/30\n",
            "10/10 [==============================] - 0s 1ms/step - loss: 165251.2344 - mean_absolute_error: 347.8357\n",
            "Epoch 3/30\n",
            "10/10 [==============================] - 0s 1ms/step - loss: 108038.4531 - mean_absolute_error: 260.2357\n",
            "Epoch 4/30\n",
            "10/10 [==============================] - 0s 1ms/step - loss: 61692.6328 - mean_absolute_error: 174.1292\n",
            "Epoch 5/30\n",
            "10/10 [==============================] - 0s 1ms/step - loss: 43989.5117 - mean_absolute_error: 165.0717\n",
            "Epoch 6/30\n",
            "10/10 [==============================] - 0s 2ms/step - loss: 45933.9219 - mean_absolute_error: 175.4957\n",
            "Epoch 7/30\n",
            "10/10 [==============================] - 0s 2ms/step - loss: 44491.6133 - mean_absolute_error: 170.3933\n",
            "Epoch 8/30\n",
            " 1/10 [==>...........................] - ETA: 0s - loss: 92981.0156 - mean_absolute_error: 258.1061"
          ],
          "name": "stdout"
        },
        {
          "output_type": "stream",
          "text": [
            "/usr/local/lib/python3.7/dist-packages/sklearn/neural_network/_multilayer_perceptron.py:571: ConvergenceWarning: Stochastic Optimizer: Maximum iterations (2000) reached and the optimization hasn't converged yet.\n",
            "  % self.max_iter, ConvergenceWarning)\n"
          ],
          "name": "stderr"
        },
        {
          "output_type": "stream",
          "text": [
            "10/10 [==============================] - 0s 2ms/step - loss: 43722.8008 - mean_absolute_error: 166.5912\n",
            "Epoch 9/30\n",
            "10/10 [==============================] - 0s 1ms/step - loss: 44047.4219 - mean_absolute_error: 162.6828\n",
            "Epoch 10/30\n",
            "10/10 [==============================] - 0s 1ms/step - loss: 43453.8672 - mean_absolute_error: 160.6918\n",
            "Epoch 11/30\n",
            "10/10 [==============================] - 0s 1ms/step - loss: 43957.1836 - mean_absolute_error: 160.9056\n",
            "Epoch 12/30\n",
            "10/10 [==============================] - 0s 1ms/step - loss: 43900.2656 - mean_absolute_error: 163.8254\n",
            "Epoch 13/30\n",
            "10/10 [==============================] - 0s 1ms/step - loss: 44209.0273 - mean_absolute_error: 162.3416\n",
            "Epoch 14/30\n",
            "10/10 [==============================] - 0s 1ms/step - loss: 43785.8359 - mean_absolute_error: 159.1899\n",
            "Epoch 15/30\n",
            "10/10 [==============================] - 0s 2ms/step - loss: 43086.2109 - mean_absolute_error: 160.4765\n",
            "Epoch 16/30\n",
            "10/10 [==============================] - 0s 2ms/step - loss: 44116.1562 - mean_absolute_error: 164.3748\n",
            "Epoch 17/30\n",
            "10/10 [==============================] - 0s 1ms/step - loss: 43393.3008 - mean_absolute_error: 163.5336\n",
            "Epoch 18/30\n",
            "10/10 [==============================] - 0s 2ms/step - loss: 43701.3633 - mean_absolute_error: 161.3088\n",
            "Epoch 19/30\n",
            "10/10 [==============================] - 0s 2ms/step - loss: 43239.7734 - mean_absolute_error: 160.4014\n",
            "Epoch 20/30\n",
            "10/10 [==============================] - 0s 1ms/step - loss: 43516.6992 - mean_absolute_error: 162.9904\n",
            "Epoch 21/30\n",
            "10/10 [==============================] - 0s 2ms/step - loss: 42998.0078 - mean_absolute_error: 161.7749\n",
            "Epoch 22/30\n",
            "10/10 [==============================] - 0s 1ms/step - loss: 44181.6992 - mean_absolute_error: 159.3776\n",
            "Epoch 23/30\n",
            "10/10 [==============================] - 0s 2ms/step - loss: 45002.1172 - mean_absolute_error: 163.3707\n",
            "Epoch 24/30\n",
            "10/10 [==============================] - 0s 1ms/step - loss: 43250.9258 - mean_absolute_error: 161.4457\n",
            "Epoch 25/30\n",
            "10/10 [==============================] - 0s 1ms/step - loss: 43361.8164 - mean_absolute_error: 161.8707\n",
            "Epoch 26/30\n",
            "10/10 [==============================] - 0s 1ms/step - loss: 43393.4180 - mean_absolute_error: 162.3972\n",
            "Epoch 27/30\n",
            "10/10 [==============================] - 0s 2ms/step - loss: 43539.5664 - mean_absolute_error: 165.6996\n",
            "Epoch 28/30\n",
            "10/10 [==============================] - 0s 2ms/step - loss: 43654.4961 - mean_absolute_error: 166.8771\n",
            "Epoch 29/30\n",
            "10/10 [==============================] - 0s 2ms/step - loss: 43452.8242 - mean_absolute_error: 163.9470\n",
            "Epoch 30/30\n",
            "10/10 [==============================] - 0s 2ms/step - loss: 43622.0664 - mean_absolute_error: 161.9711\n",
            "[[2021]] BEST MLP:  Protests [930]\n",
            "~~~~~~~~~~~~~~~~~~~~~ Riots ~~~~~~~~~~~~~~~~~~~~~\n"
          ],
          "name": "stdout"
        },
        {
          "output_type": "stream",
          "text": [
            "/usr/local/lib/python3.7/dist-packages/sklearn/metrics/_regression.py:582: UndefinedMetricWarning: R^2 score is not well-defined with less than two samples.\n",
            "  warnings.warn(msg, UndefinedMetricWarning)\n",
            "/usr/local/lib/python3.7/dist-packages/sklearn/metrics/_regression.py:582: UndefinedMetricWarning: R^2 score is not well-defined with less than two samples.\n",
            "  warnings.warn(msg, UndefinedMetricWarning)\n",
            "/usr/local/lib/python3.7/dist-packages/sklearn/metrics/_regression.py:582: UndefinedMetricWarning: R^2 score is not well-defined with less than two samples.\n",
            "  warnings.warn(msg, UndefinedMetricWarning)\n",
            "/usr/local/lib/python3.7/dist-packages/sklearn/metrics/_regression.py:582: UndefinedMetricWarning: R^2 score is not well-defined with less than two samples.\n",
            "  warnings.warn(msg, UndefinedMetricWarning)\n",
            "/usr/local/lib/python3.7/dist-packages/sklearn/metrics/_regression.py:582: UndefinedMetricWarning: R^2 score is not well-defined with less than two samples.\n",
            "  warnings.warn(msg, UndefinedMetricWarning)\n",
            "/usr/local/lib/python3.7/dist-packages/sklearn/metrics/_regression.py:582: UndefinedMetricWarning: R^2 score is not well-defined with less than two samples.\n",
            "  warnings.warn(msg, UndefinedMetricWarning)\n",
            "/usr/local/lib/python3.7/dist-packages/sklearn/metrics/_regression.py:582: UndefinedMetricWarning: R^2 score is not well-defined with less than two samples.\n",
            "  warnings.warn(msg, UndefinedMetricWarning)\n",
            "/usr/local/lib/python3.7/dist-packages/sklearn/metrics/_regression.py:582: UndefinedMetricWarning: R^2 score is not well-defined with less than two samples.\n",
            "  warnings.warn(msg, UndefinedMetricWarning)\n",
            "/usr/local/lib/python3.7/dist-packages/sklearn/metrics/_regression.py:582: UndefinedMetricWarning: R^2 score is not well-defined with less than two samples.\n",
            "  warnings.warn(msg, UndefinedMetricWarning)\n"
          ],
          "name": "stderr"
        },
        {
          "output_type": "stream",
          "text": [
            "Epoch 1/30\n",
            "10/10 [==============================] - 0s 1ms/step - loss: 315112.9375 - mean_absolute_error: 414.6620\n",
            "Epoch 2/30\n",
            "10/10 [==============================] - 0s 1ms/step - loss: 268124.0938 - mean_absolute_error: 397.3189\n",
            "Epoch 3/30\n",
            "10/10 [==============================] - 0s 1ms/step - loss: 241051.5000 - mean_absolute_error: 406.8527\n",
            "Epoch 4/30\n",
            "10/10 [==============================] - 0s 1ms/step - loss: 243489.4531 - mean_absolute_error: 422.7255\n",
            "Epoch 5/30\n",
            "10/10 [==============================] - 0s 1ms/step - loss: 242814.3750 - mean_absolute_error: 422.4056\n",
            "Epoch 6/30\n",
            "10/10 [==============================] - 0s 2ms/step - loss: 242496.5781 - mean_absolute_error: 419.4991\n",
            "Epoch 7/30\n",
            "10/10 [==============================] - 0s 1ms/step - loss: 243327.5781 - mean_absolute_error: 416.1917\n",
            "Epoch 8/30\n",
            "10/10 [==============================] - 0s 1ms/step - loss: 241748.4219 - mean_absolute_error: 415.3592\n",
            "Epoch 9/30\n",
            " 1/10 [==>...........................] - ETA: 0s - loss: 130781.1875 - mean_absolute_error: 329.7199"
          ],
          "name": "stdout"
        },
        {
          "output_type": "stream",
          "text": [
            "/usr/local/lib/python3.7/dist-packages/sklearn/neural_network/_multilayer_perceptron.py:571: ConvergenceWarning: Stochastic Optimizer: Maximum iterations (2000) reached and the optimization hasn't converged yet.\n",
            "  % self.max_iter, ConvergenceWarning)\n"
          ],
          "name": "stderr"
        },
        {
          "output_type": "stream",
          "text": [
            "10/10 [==============================] - 0s 2ms/step - loss: 241321.4531 - mean_absolute_error: 416.2572\n",
            "Epoch 10/30\n",
            "10/10 [==============================] - 0s 2ms/step - loss: 240884.8125 - mean_absolute_error: 416.3264\n",
            "Epoch 11/30\n",
            "10/10 [==============================] - 0s 2ms/step - loss: 241332.5000 - mean_absolute_error: 416.3405\n",
            "Epoch 12/30\n",
            "10/10 [==============================] - 0s 1ms/step - loss: 240889.8906 - mean_absolute_error: 415.6003\n",
            "Epoch 13/30\n",
            "10/10 [==============================] - 0s 1ms/step - loss: 240784.0312 - mean_absolute_error: 415.9041\n",
            "Epoch 14/30\n",
            "10/10 [==============================] - 0s 2ms/step - loss: 242371.2969 - mean_absolute_error: 419.1570\n",
            "Epoch 15/30\n",
            "10/10 [==============================] - 0s 2ms/step - loss: 240318.1562 - mean_absolute_error: 417.7320\n",
            "Epoch 16/30\n",
            "10/10 [==============================] - 0s 2ms/step - loss: 239384.8750 - mean_absolute_error: 414.6557\n",
            "Epoch 17/30\n",
            "10/10 [==============================] - 0s 1ms/step - loss: 242632.0469 - mean_absolute_error: 408.9706\n",
            "Epoch 18/30\n",
            "10/10 [==============================] - 0s 2ms/step - loss: 241616.4531 - mean_absolute_error: 409.3866\n",
            "Epoch 19/30\n",
            "10/10 [==============================] - 0s 2ms/step - loss: 241658.6250 - mean_absolute_error: 411.0674\n",
            "Epoch 20/30\n",
            "10/10 [==============================] - 0s 2ms/step - loss: 242968.2344 - mean_absolute_error: 412.8348\n",
            "Epoch 21/30\n",
            "10/10 [==============================] - 0s 2ms/step - loss: 242471.7969 - mean_absolute_error: 414.2864\n",
            "Epoch 22/30\n",
            "10/10 [==============================] - 0s 1ms/step - loss: 242824.7344 - mean_absolute_error: 413.3694\n",
            "Epoch 23/30\n",
            "10/10 [==============================] - 0s 2ms/step - loss: 240999.0469 - mean_absolute_error: 412.5045\n",
            "Epoch 24/30\n",
            "10/10 [==============================] - 0s 2ms/step - loss: 242505.4219 - mean_absolute_error: 413.7866\n",
            "Epoch 25/30\n",
            "10/10 [==============================] - 0s 1ms/step - loss: 241959.7031 - mean_absolute_error: 411.1481\n",
            "Epoch 26/30\n",
            "10/10 [==============================] - 0s 2ms/step - loss: 242052.9219 - mean_absolute_error: 414.7683\n",
            "Epoch 27/30\n",
            "10/10 [==============================] - 0s 2ms/step - loss: 240745.7031 - mean_absolute_error: 415.0820\n",
            "Epoch 28/30\n",
            "10/10 [==============================] - 0s 2ms/step - loss: 240385.9688 - mean_absolute_error: 414.7804\n",
            "Epoch 29/30\n",
            "10/10 [==============================] - 0s 2ms/step - loss: 240381.4688 - mean_absolute_error: 415.0200\n",
            "Epoch 30/30\n",
            "10/10 [==============================] - 0s 1ms/step - loss: 240594.9531 - mean_absolute_error: 413.8609\n",
            "[[2021]] BEST MLP:  Riots [405]\n",
            "~~~~~~~~~~~~~~~~~~~~~ StrategicDevelopments ~~~~~~~~~~~~~~~~~~~~~\n"
          ],
          "name": "stdout"
        },
        {
          "output_type": "stream",
          "text": [
            "/usr/local/lib/python3.7/dist-packages/sklearn/metrics/_regression.py:582: UndefinedMetricWarning: R^2 score is not well-defined with less than two samples.\n",
            "  warnings.warn(msg, UndefinedMetricWarning)\n",
            "/usr/local/lib/python3.7/dist-packages/sklearn/metrics/_regression.py:582: UndefinedMetricWarning: R^2 score is not well-defined with less than two samples.\n",
            "  warnings.warn(msg, UndefinedMetricWarning)\n",
            "/usr/local/lib/python3.7/dist-packages/sklearn/metrics/_regression.py:582: UndefinedMetricWarning: R^2 score is not well-defined with less than two samples.\n",
            "  warnings.warn(msg, UndefinedMetricWarning)\n",
            "/usr/local/lib/python3.7/dist-packages/sklearn/metrics/_regression.py:582: UndefinedMetricWarning: R^2 score is not well-defined with less than two samples.\n",
            "  warnings.warn(msg, UndefinedMetricWarning)\n",
            "/usr/local/lib/python3.7/dist-packages/sklearn/metrics/_regression.py:582: UndefinedMetricWarning: R^2 score is not well-defined with less than two samples.\n",
            "  warnings.warn(msg, UndefinedMetricWarning)\n",
            "/usr/local/lib/python3.7/dist-packages/sklearn/metrics/_regression.py:582: UndefinedMetricWarning: R^2 score is not well-defined with less than two samples.\n",
            "  warnings.warn(msg, UndefinedMetricWarning)\n",
            "/usr/local/lib/python3.7/dist-packages/sklearn/metrics/_regression.py:582: UndefinedMetricWarning: R^2 score is not well-defined with less than two samples.\n",
            "  warnings.warn(msg, UndefinedMetricWarning)\n",
            "/usr/local/lib/python3.7/dist-packages/sklearn/metrics/_regression.py:582: UndefinedMetricWarning: R^2 score is not well-defined with less than two samples.\n",
            "  warnings.warn(msg, UndefinedMetricWarning)\n",
            "/usr/local/lib/python3.7/dist-packages/sklearn/metrics/_regression.py:582: UndefinedMetricWarning: R^2 score is not well-defined with less than two samples.\n",
            "  warnings.warn(msg, UndefinedMetricWarning)\n"
          ],
          "name": "stderr"
        },
        {
          "output_type": "stream",
          "text": [
            "Epoch 1/30\n",
            "10/10 [==============================] - 0s 2ms/step - loss: 400525.7500 - mean_absolute_error: 631.5574\n",
            "Epoch 2/30\n",
            "10/10 [==============================] - 0s 1ms/step - loss: 244104.4688 - mean_absolute_error: 491.9037\n",
            "Epoch 3/30\n",
            "10/10 [==============================] - 0s 1ms/step - loss: 134274.0781 - mean_absolute_error: 364.5175\n",
            "Epoch 4/30\n",
            "10/10 [==============================] - 0s 1ms/step - loss: 79231.4297 - mean_absolute_error: 280.3838\n",
            "Epoch 5/30\n",
            "10/10 [==============================] - 0s 1ms/step - loss: 52106.2773 - mean_absolute_error: 227.4964\n",
            "Epoch 6/30\n",
            "10/10 [==============================] - 0s 1ms/step - loss: 37419.5195 - mean_absolute_error: 192.7674\n",
            "Epoch 7/30\n",
            "10/10 [==============================] - 0s 2ms/step - loss: 28654.2031 - mean_absolute_error: 168.3861\n",
            "Epoch 8/30\n",
            "10/10 [==============================] - 0s 1ms/step - loss: 22835.1934 - mean_absolute_error: 150.1885\n",
            "Epoch 9/30\n",
            " 1/10 [==>...........................] - ETA: 0s - loss: 12915.6426 - mean_absolute_error: 110.9303"
          ],
          "name": "stdout"
        },
        {
          "output_type": "stream",
          "text": [
            "/usr/local/lib/python3.7/dist-packages/sklearn/neural_network/_multilayer_perceptron.py:571: ConvergenceWarning: Stochastic Optimizer: Maximum iterations (2000) reached and the optimization hasn't converged yet.\n",
            "  % self.max_iter, ConvergenceWarning)\n"
          ],
          "name": "stderr"
        },
        {
          "output_type": "stream",
          "text": [
            "10/10 [==============================] - 0s 2ms/step - loss: 18748.8555 - mean_absolute_error: 136.0231\n",
            "Epoch 10/30\n",
            "10/10 [==============================] - 0s 2ms/step - loss: 15743.3271 - mean_absolute_error: 124.3426\n",
            "Epoch 11/30\n",
            "10/10 [==============================] - 0s 1ms/step - loss: 13390.3770 - mean_absolute_error: 114.5266\n",
            "Epoch 12/30\n",
            "10/10 [==============================] - 0s 1ms/step - loss: 11508.0498 - mean_absolute_error: 106.1586\n",
            "Epoch 13/30\n",
            "10/10 [==============================] - 0s 1ms/step - loss: 10043.0713 - mean_absolute_error: 98.7498\n",
            "Epoch 14/30\n",
            "10/10 [==============================] - 0s 1ms/step - loss: 8781.4863 - mean_absolute_error: 92.2237\n",
            "Epoch 15/30\n",
            "10/10 [==============================] - 0s 1ms/step - loss: 7814.8560 - mean_absolute_error: 86.7571\n",
            "Epoch 16/30\n",
            "10/10 [==============================] - 0s 1ms/step - loss: 7006.4854 - mean_absolute_error: 81.9443\n",
            "Epoch 17/30\n",
            "10/10 [==============================] - 0s 2ms/step - loss: 6294.8940 - mean_absolute_error: 77.6549\n",
            "Epoch 18/30\n",
            "10/10 [==============================] - 0s 1ms/step - loss: 5715.1118 - mean_absolute_error: 73.7512\n",
            "Epoch 19/30\n",
            "10/10 [==============================] - 0s 1ms/step - loss: 5195.7173 - mean_absolute_error: 70.0917\n",
            "Epoch 20/30\n",
            "10/10 [==============================] - 0s 1ms/step - loss: 4730.0933 - mean_absolute_error: 66.7578\n",
            "Epoch 21/30\n",
            "10/10 [==============================] - 0s 2ms/step - loss: 4329.3340 - mean_absolute_error: 63.7047\n",
            "Epoch 22/30\n",
            "10/10 [==============================] - 0s 1ms/step - loss: 3974.7261 - mean_absolute_error: 60.8873\n",
            "Epoch 23/30\n",
            "10/10 [==============================] - 0s 2ms/step - loss: 3658.2454 - mean_absolute_error: 58.2517\n",
            "Epoch 24/30\n",
            "10/10 [==============================] - 0s 2ms/step - loss: 3378.7546 - mean_absolute_error: 55.7768\n",
            "Epoch 25/30\n",
            "10/10 [==============================] - 0s 1ms/step - loss: 3124.2605 - mean_absolute_error: 53.6501\n",
            "Epoch 26/30\n",
            "10/10 [==============================] - 0s 1ms/step - loss: 2894.4397 - mean_absolute_error: 51.6862\n",
            "Epoch 27/30\n",
            "10/10 [==============================] - 0s 2ms/step - loss: 2692.7371 - mean_absolute_error: 49.8190\n",
            "Epoch 28/30\n",
            "10/10 [==============================] - 0s 2ms/step - loss: 2499.7544 - mean_absolute_error: 48.0695\n",
            "Epoch 29/30\n",
            "10/10 [==============================] - 0s 1ms/step - loss: 2336.2366 - mean_absolute_error: 46.4455\n",
            "Epoch 30/30\n",
            "10/10 [==============================] - 0s 1ms/step - loss: 2182.7300 - mean_absolute_error: 44.9217\n",
            "[[2021]] BEST MLP:  StrategicDevelopments [15]\n",
            "~~~~~~~~~~~~~~~~~~~~~ ViolenceAgainstCivilians ~~~~~~~~~~~~~~~~~~~~~\n"
          ],
          "name": "stdout"
        },
        {
          "output_type": "stream",
          "text": [
            "/usr/local/lib/python3.7/dist-packages/sklearn/metrics/_regression.py:582: UndefinedMetricWarning: R^2 score is not well-defined with less than two samples.\n",
            "  warnings.warn(msg, UndefinedMetricWarning)\n",
            "/usr/local/lib/python3.7/dist-packages/sklearn/metrics/_regression.py:582: UndefinedMetricWarning: R^2 score is not well-defined with less than two samples.\n",
            "  warnings.warn(msg, UndefinedMetricWarning)\n",
            "/usr/local/lib/python3.7/dist-packages/sklearn/metrics/_regression.py:582: UndefinedMetricWarning: R^2 score is not well-defined with less than two samples.\n",
            "  warnings.warn(msg, UndefinedMetricWarning)\n",
            "/usr/local/lib/python3.7/dist-packages/sklearn/metrics/_regression.py:582: UndefinedMetricWarning: R^2 score is not well-defined with less than two samples.\n",
            "  warnings.warn(msg, UndefinedMetricWarning)\n",
            "/usr/local/lib/python3.7/dist-packages/sklearn/metrics/_regression.py:582: UndefinedMetricWarning: R^2 score is not well-defined with less than two samples.\n",
            "  warnings.warn(msg, UndefinedMetricWarning)\n",
            "/usr/local/lib/python3.7/dist-packages/sklearn/metrics/_regression.py:582: UndefinedMetricWarning: R^2 score is not well-defined with less than two samples.\n",
            "  warnings.warn(msg, UndefinedMetricWarning)\n",
            "/usr/local/lib/python3.7/dist-packages/sklearn/metrics/_regression.py:582: UndefinedMetricWarning: R^2 score is not well-defined with less than two samples.\n",
            "  warnings.warn(msg, UndefinedMetricWarning)\n",
            "/usr/local/lib/python3.7/dist-packages/sklearn/metrics/_regression.py:582: UndefinedMetricWarning: R^2 score is not well-defined with less than two samples.\n",
            "  warnings.warn(msg, UndefinedMetricWarning)\n",
            "/usr/local/lib/python3.7/dist-packages/sklearn/metrics/_regression.py:582: UndefinedMetricWarning: R^2 score is not well-defined with less than two samples.\n",
            "  warnings.warn(msg, UndefinedMetricWarning)\n"
          ],
          "name": "stderr"
        },
        {
          "output_type": "stream",
          "text": [
            "Epoch 1/30\n",
            "10/10 [==============================] - 0s 2ms/step - loss: 44564.2148 - mean_absolute_error: 177.1572\n",
            "Epoch 2/30\n",
            "10/10 [==============================] - 0s 1ms/step - loss: 43376.6211 - mean_absolute_error: 174.3050\n",
            "Epoch 3/30\n",
            "10/10 [==============================] - 0s 2ms/step - loss: 41481.8945 - mean_absolute_error: 169.4810\n",
            "Epoch 4/30\n",
            "10/10 [==============================] - 0s 1ms/step - loss: 39319.6406 - mean_absolute_error: 164.8877\n",
            "Epoch 5/30\n",
            "10/10 [==============================] - 0s 2ms/step - loss: 36895.3047 - mean_absolute_error: 159.7277\n",
            "Epoch 6/30\n",
            "10/10 [==============================] - 0s 1ms/step - loss: 34659.1133 - mean_absolute_error: 154.6459\n",
            "Epoch 7/30\n",
            "10/10 [==============================] - 0s 1ms/step - loss: 32579.4414 - mean_absolute_error: 149.3245\n",
            "Epoch 8/30\n",
            " 1/10 [==>...........................] - ETA: 0s - loss: 21896.9727 - mean_absolute_error: 147.9617"
          ],
          "name": "stdout"
        },
        {
          "output_type": "stream",
          "text": [
            "/usr/local/lib/python3.7/dist-packages/sklearn/neural_network/_multilayer_perceptron.py:571: ConvergenceWarning: Stochastic Optimizer: Maximum iterations (2000) reached and the optimization hasn't converged yet.\n",
            "  % self.max_iter, ConvergenceWarning)\n"
          ],
          "name": "stderr"
        },
        {
          "output_type": "stream",
          "text": [
            "10/10 [==============================] - 0s 2ms/step - loss: 30147.2441 - mean_absolute_error: 143.2867\n",
            "Epoch 9/30\n",
            "10/10 [==============================] - 0s 2ms/step - loss: 27949.8750 - mean_absolute_error: 137.4406\n",
            "Epoch 10/30\n",
            "10/10 [==============================] - 0s 2ms/step - loss: 26064.8828 - mean_absolute_error: 131.7719\n",
            "Epoch 11/30\n",
            "10/10 [==============================] - 0s 2ms/step - loss: 24192.4727 - mean_absolute_error: 125.7903\n",
            "Epoch 12/30\n",
            "10/10 [==============================] - 0s 1ms/step - loss: 22507.9492 - mean_absolute_error: 121.3014\n",
            "Epoch 13/30\n",
            "10/10 [==============================] - 0s 2ms/step - loss: 21023.0488 - mean_absolute_error: 116.7381\n",
            "Epoch 14/30\n",
            "10/10 [==============================] - 0s 2ms/step - loss: 19604.4141 - mean_absolute_error: 113.0721\n",
            "Epoch 15/30\n",
            "10/10 [==============================] - 0s 1ms/step - loss: 18555.8535 - mean_absolute_error: 109.1420\n",
            "Epoch 16/30\n",
            "10/10 [==============================] - 0s 1ms/step - loss: 17359.8281 - mean_absolute_error: 105.5501\n",
            "Epoch 17/30\n",
            "10/10 [==============================] - 0s 1ms/step - loss: 16471.5020 - mean_absolute_error: 102.0316\n",
            "Epoch 18/30\n",
            "10/10 [==============================] - 0s 1ms/step - loss: 15855.5957 - mean_absolute_error: 100.9895\n",
            "Epoch 19/30\n",
            "10/10 [==============================] - 0s 2ms/step - loss: 15076.3682 - mean_absolute_error: 99.3312\n",
            "Epoch 20/30\n",
            "10/10 [==============================] - 0s 2ms/step - loss: 14723.8730 - mean_absolute_error: 98.8133\n",
            "Epoch 21/30\n",
            "10/10 [==============================] - 0s 1ms/step - loss: 14284.0166 - mean_absolute_error: 97.7544\n",
            "Epoch 22/30\n",
            "10/10 [==============================] - 0s 2ms/step - loss: 14008.6123 - mean_absolute_error: 97.1880\n",
            "Epoch 23/30\n",
            "10/10 [==============================] - 0s 2ms/step - loss: 13817.9014 - mean_absolute_error: 97.6813\n",
            "Epoch 24/30\n",
            "10/10 [==============================] - 0s 2ms/step - loss: 13693.3623 - mean_absolute_error: 97.3530\n",
            "Epoch 25/30\n",
            "10/10 [==============================] - 0s 2ms/step - loss: 13585.4199 - mean_absolute_error: 97.3604\n",
            "Epoch 26/30\n",
            "10/10 [==============================] - 0s 2ms/step - loss: 13538.4268 - mean_absolute_error: 97.1779\n",
            "Epoch 27/30\n",
            "10/10 [==============================] - 0s 1ms/step - loss: 13426.9688 - mean_absolute_error: 96.8292\n",
            "Epoch 28/30\n",
            "10/10 [==============================] - 0s 2ms/step - loss: 13406.2227 - mean_absolute_error: 96.7645\n",
            "Epoch 29/30\n",
            "10/10 [==============================] - 0s 2ms/step - loss: 13396.1348 - mean_absolute_error: 96.7189\n",
            "Epoch 30/30\n",
            "10/10 [==============================] - 0s 1ms/step - loss: 13371.6680 - mean_absolute_error: 96.6524\n",
            "[[2021]] BEST MLP:  ViolenceAgainstCivilians [257]\n"
          ],
          "name": "stdout"
        },
        {
          "output_type": "stream",
          "text": [
            "/usr/local/lib/python3.7/dist-packages/sklearn/metrics/_regression.py:582: UndefinedMetricWarning: R^2 score is not well-defined with less than two samples.\n",
            "  warnings.warn(msg, UndefinedMetricWarning)\n",
            "/usr/local/lib/python3.7/dist-packages/sklearn/metrics/_regression.py:582: UndefinedMetricWarning: R^2 score is not well-defined with less than two samples.\n",
            "  warnings.warn(msg, UndefinedMetricWarning)\n",
            "/usr/local/lib/python3.7/dist-packages/sklearn/metrics/_regression.py:582: UndefinedMetricWarning: R^2 score is not well-defined with less than two samples.\n",
            "  warnings.warn(msg, UndefinedMetricWarning)\n",
            "/usr/local/lib/python3.7/dist-packages/sklearn/metrics/_regression.py:582: UndefinedMetricWarning: R^2 score is not well-defined with less than two samples.\n",
            "  warnings.warn(msg, UndefinedMetricWarning)\n",
            "/usr/local/lib/python3.7/dist-packages/sklearn/metrics/_regression.py:582: UndefinedMetricWarning: R^2 score is not well-defined with less than two samples.\n",
            "  warnings.warn(msg, UndefinedMetricWarning)\n",
            "/usr/local/lib/python3.7/dist-packages/sklearn/metrics/_regression.py:582: UndefinedMetricWarning: R^2 score is not well-defined with less than two samples.\n",
            "  warnings.warn(msg, UndefinedMetricWarning)\n",
            "/usr/local/lib/python3.7/dist-packages/sklearn/metrics/_regression.py:582: UndefinedMetricWarning: R^2 score is not well-defined with less than two samples.\n",
            "  warnings.warn(msg, UndefinedMetricWarning)\n",
            "/usr/local/lib/python3.7/dist-packages/sklearn/metrics/_regression.py:582: UndefinedMetricWarning: R^2 score is not well-defined with less than two samples.\n",
            "  warnings.warn(msg, UndefinedMetricWarning)\n",
            "/usr/local/lib/python3.7/dist-packages/sklearn/metrics/_regression.py:582: UndefinedMetricWarning: R^2 score is not well-defined with less than two samples.\n",
            "  warnings.warn(msg, UndefinedMetricWarning)\n"
          ],
          "name": "stderr"
        }
      ]
    },
    {
      "cell_type": "code",
      "metadata": {
        "colab": {
          "base_uri": "https://localhost:8080/"
        },
        "id": "FEDWRGeakpHA",
        "outputId": "a31249f4-669a-41da-b84a-1c28bcb5a28f"
      },
      "source": [
        "dmp = data\n",
        "# MODELIZE 2021\n",
        "for col in data.columns[1:].unique():\n",
        "  print('~~~~~~~~~~~~~~~~~~~~~', col, '~~~~~~~~~~~~~~~~~~~~~')\n",
        "  dmp_x = dmp['YEAR'].values\n",
        "  dmp_y = dmp[col].values\n",
        "\n",
        "  # ASSIGN MANUALLY\n",
        "  train_x = dmp_x\n",
        "  train_y = dmp_y\n",
        "\n",
        "  # Standard scaling\n",
        "  ss = StandardScaler()\n",
        "  ss.fit(train_x.reshape(-1, 1))\n",
        "  ss_train_x = ss.transform(train_x.reshape(-1, 1))\n",
        "\n",
        "\n",
        "  # pred for single data\n",
        "  Xnew = [[2021]]\n",
        "  # print(len(Xnew[0]))\n",
        "  # print(len(dmp_x.columns))\n",
        "\n",
        "  mlp = MLPClassifier(random_state=0, max_iter = 5000)\n",
        "  mlp.fit(ss_train_x.reshape(-1,1),train_y) \n",
        "\n",
        "  Xpred_y = mlp.predict(Xnew) #one data only\n",
        "\n",
        "  print(Xnew,'BEST MLP: ',col,Xpred_y) # Decision Tree\n",
        "\n",
        "\n"
      ],
      "execution_count": 379,
      "outputs": [
        {
          "output_type": "stream",
          "text": [
            "~~~~~~~~~~~~~~~~~~~~~ Battles ~~~~~~~~~~~~~~~~~~~~~\n",
            "[[2021]] BEST MLP:  Battles [21]\n",
            "~~~~~~~~~~~~~~~~~~~~~ ExplosionsRemoteViolence ~~~~~~~~~~~~~~~~~~~~~\n",
            "[[2021]] BEST MLP:  ExplosionsRemoteViolence [7]\n",
            "~~~~~~~~~~~~~~~~~~~~~ Protests ~~~~~~~~~~~~~~~~~~~~~\n",
            "[[2021]] BEST MLP:  Protests [971]\n",
            "~~~~~~~~~~~~~~~~~~~~~ Riots ~~~~~~~~~~~~~~~~~~~~~\n",
            "[[2021]] BEST MLP:  Riots [320]\n",
            "~~~~~~~~~~~~~~~~~~~~~ StrategicDevelopments ~~~~~~~~~~~~~~~~~~~~~\n",
            "[[2021]] BEST MLP:  StrategicDevelopments [17]\n",
            "~~~~~~~~~~~~~~~~~~~~~ ViolenceAgainstCivilians ~~~~~~~~~~~~~~~~~~~~~\n",
            "[[2021]] BEST MLP:  ViolenceAgainstCivilians [184]\n"
          ],
          "name": "stdout"
        }
      ]
    }
  ]
}