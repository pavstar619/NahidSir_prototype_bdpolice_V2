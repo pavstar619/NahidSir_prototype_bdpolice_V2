{
  "nbformat": 4,
  "nbformat_minor": 0,
  "metadata": {
    "colab": {
      "name": "NahidSir_prototype_bdpolice_V2.ipynb",
      "provenance": [],
      "collapsed_sections": [],
      "authorship_tag": "ABX9TyP8RoMSrA/kuHnIyYMtH32P",
      "include_colab_link": true
    },
    "kernelspec": {
      "name": "python3",
      "display_name": "Python 3"
    },
    "language_info": {
      "name": "python"
    }
  },
  "cells": [
    {
      "cell_type": "markdown",
      "metadata": {
        "id": "view-in-github",
        "colab_type": "text"
      },
      "source": [
        "<a href=\"https://colab.research.google.com/github/pavstar619/NahidSir_prototype_bdpolice_V2/blob/main/NahidSir_prototype_bdpolice_V2.ipynb\" target=\"_parent\"><img src=\"https://colab.research.google.com/assets/colab-badge.svg\" alt=\"Open In Colab\"/></a>"
      ]
    },
    {
      "cell_type": "code",
      "metadata": {
        "colab": {
          "base_uri": "https://localhost:8080/"
        },
        "id": "7a4Rwrvd5j3a",
        "outputId": "4705993d-bd5c-4d48-f202-0da4c9837c60"
      },
      "source": [
        "pip install XlsxWriter"
      ],
      "execution_count": null,
      "outputs": [
        {
          "output_type": "stream",
          "text": [
            "Requirement already satisfied: XlsxWriter in /usr/local/lib/python3.7/dist-packages (1.4.2)\n"
          ],
          "name": "stdout"
        }
      ]
    },
    {
      "cell_type": "code",
      "metadata": {
        "id": "BO-1ktbLmRPy"
      },
      "source": [
        "import pandas as pd\n",
        "import numpy as np\n",
        "\n",
        "from sklearn.model_selection import train_test_split\n",
        "from sklearn.metrics import precision_recall_fscore_support\n",
        "from sklearn.metrics import r2_score, mean_squared_error, mean_absolute_error\n",
        "\n",
        "from sklearn.tree import DecisionTreeRegressor\n",
        "from sklearn.ensemble import RandomForestRegressor\n",
        "from sklearn.svm import SVR\n",
        "from sklearn.neural_network import MLPRegressor\n",
        "from sklearn import linear_model \n",
        "from sklearn.linear_model import LinearRegression\n",
        "\n",
        "from sklearn.pipeline import make_pipeline\n",
        "from sklearn.preprocessing import StandardScaler\n",
        "\n",
        "from sklearn.metrics import r2_score\n",
        "from sklearn.metrics import mean_squared_error\n",
        "\n",
        "from numpy import array\n",
        "from sklearn.model_selection import KFold\n",
        "\n",
        "from keras.models import Sequential\n",
        "from keras.layers import Dense, Dropout\n",
        "from keras.utils.vis_utils import plot_model\n",
        "from tensorflow.keras.layers.experimental import preprocessing\n",
        "\n",
        "import matplotlib.pyplot as plt\n",
        "\n",
        "\n"
      ],
      "execution_count": null,
      "outputs": []
    },
    {
      "cell_type": "code",
      "metadata": {
        "id": "8bmeMrAwstI5"
      },
      "source": [
        "pd.set_option('display.max_columns', None) # show all columns when printing\n"
      ],
      "execution_count": null,
      "outputs": []
    },
    {
      "cell_type": "code",
      "metadata": {
        "id": "7OpOyPn8ucMp"
      },
      "source": [
        "def R2_calc(pred_y, test_y): # Closer to 1 better score\n",
        "  return r2_score(pred_y, test_y)\n",
        "\n",
        "def MSE_calc(pred_y, test_y): # Lower the better\n",
        "  return mean_squared_error(pred_y, test_y, squared = False)\n",
        "  \n",
        "def MAE_calc(pred_y, test_y): # Lower the better\n",
        "  return mean_absolute_error(pred_y, test_y)\n",
        "\n",
        "def Error_calc(pred_y, test_y):\n",
        "  return (pred_y - test_y) / test_y"
      ],
      "execution_count": null,
      "outputs": []
    },
    {
      "cell_type": "code",
      "metadata": {
        "id": "xvieKhdzUotV"
      },
      "source": [
        "def modelize(dmp,single_data):\n",
        "  # Create a Pandas Excel writer using XlsxWriter as the engine.\n",
        "  writer = pd.ExcelWriter('With2018train_test_pred_data.xlsx', engine='xlsxwriter')\n",
        "  # writer1 = pd.ExcelWriter('With2018train_errors_data.xlsx', engine='xlsxwriter')\n",
        "\n",
        "  model = Sequential()\n",
        "  model.add(Dense(8, input_dim=1, activation='relu'))\n",
        "  model.add(Dense(16, kernel_initializer='normal', activation='relu'))\n",
        "  model.add(Dense(1, kernel_initializer='normal'))\n",
        "  # used binary loss function \n",
        "  model.compile(loss='mse', optimizer='adam', metrics=['mean_absolute_error'])\n",
        "  # print(model.summary())\n",
        "\n",
        "  # dmp_x = dmp.loc[:, dmp.columns != 'Robbery']\n",
        "  # dmp_y = dmp['Robbery']\n",
        "  for col in dmp.columns[1:].unique():\n",
        "    print('~~~~~~~~~~~~~~~~~~~~~', col, '~~~~~~~~~~~~~~~~~~~~~')\n",
        "    dmp_x = dmp['Year'].values\n",
        "    dmp_y = dmp[col].values\n",
        "\n",
        "    train_x, test_x, train_y, test_y = train_test_split(dmp_x, dmp_y, test_size = 0.25, random_state=0)\n",
        "\n",
        "    # # Standard scaling\n",
        "    # ss = StandardScaler()\n",
        "    # ss.fit(train_x.reshape(-1, 1))\n",
        "    # ss_train_x = ss.transform(train_x.reshape(-1, 1))\n",
        "    # ss_test_x = ss.transform(test_x.reshape(-1, 1))\n",
        "\n",
        "    print(train_x)\n",
        "    print(test_x)\n",
        "\n",
        "\n",
        "\n",
        "\n",
        "    # pred for single data\n",
        "    Xnew = [[single_data]]\n",
        "    # print(len(Xnew[0]))\n",
        "    # print(len(dmp_x.columns))\n",
        "\n",
        "\n",
        "\n",
        "\n",
        "    regressor = DecisionTreeRegressor(random_state=0)\n",
        "    forest = RandomForestRegressor(max_depth=2, random_state=0)\n",
        "    svr = make_pipeline(StandardScaler(), SVR(C=1.0, epsilon=0.2))\n",
        "    mlp = make_pipeline(StandardScaler(), MLPRegressor(random_state=None, max_iter = 10000, learning_rate_init=0.01))\n",
        "    lasso = linear_model.Lasso(alpha=0.1)\n",
        "    bayesian = linear_model.BayesianRidge()\n",
        "    ridge = linear_model.Ridge()\n",
        "    lr = LinearRegression()\n",
        "\n",
        "    regressor.fit(train_x.reshape(-1, 1),train_y)  \n",
        "    forest.fit(train_x.reshape(-1, 1),train_y) \n",
        "    svr.fit(train_x.reshape(-1, 1),train_y)\n",
        "    mlp.fit(train_x.reshape(-1,1),train_y) \n",
        "    lasso.fit(train_x.reshape(-1,1),train_y) \n",
        "    bayesian.fit(train_x.reshape(-1,1),train_y) \n",
        "    ridge.fit(train_x.reshape(-1,1),train_y) \n",
        "    lr.fit(train_x.reshape(-1,1),train_y)\n",
        "    model.fit(train_x,train_y, epochs=30, batch_size=2, verbose=0) #neural net\n",
        "\n",
        "\n",
        "    pred_y = regressor.predict(test_x.reshape(-1, 1))\n",
        "    pred_y1 = forest.predict(test_x.reshape(-1, 1)) \n",
        "    pred_y2 = svr.predict(test_x.reshape(-1, 1)) \n",
        "    pred_y3 = mlp.predict(test_x.reshape(-1, 1))\n",
        "    pred_y4 = lasso.predict(test_x.reshape(-1,1))\n",
        "    pred_y5 = bayesian.predict(test_x.reshape(-1,1))\n",
        "    pred_y6 = ridge.predict(test_x.reshape(-1,1))\n",
        "    pred_y7 = lr.predict(test_x.reshape(-1,1))\n",
        "    pred_y8 = model.predict(test_x.reshape(-1,1)).tolist()\n",
        "\n",
        "    # error_y = (pred_y - test_y) / test_y #lower the better\n",
        "    # error_y1 = (pred_y1 - test_y) / test_y\n",
        "    # error_y2 = (pred_y2 - test_y) / test_y\n",
        "    # error_y3 = (pred_y3 - test_y) / test_y\n",
        "    # error_y4 = (pred_y4 - test_y) / test_y\n",
        "    # error_y5 = (pred_y5 - test_y) / test_y\n",
        "    # error_y6 = (pred_y6 - test_y) / test_y\n",
        "    # error_y7 = (pred_y7 - test_y) / test_y\n",
        "\n",
        "\n",
        "    pred_y_list = [pred_y,pred_y1,pred_y2,pred_y3,pred_y4,pred_y5,pred_y6,pred_y7,pred_y8]\n",
        "    r2_y_list = []\n",
        "    mse_y_list = []\n",
        "    mae_y_list = []\n",
        "\n",
        "    for pred_y in pred_y_list:\n",
        "      r2_y = R2_calc(pred_y,test_y)\n",
        "      r2_y_list.append(r2_y)\n",
        "\n",
        "      mse_y = MSE_calc(pred_y,test_y)\n",
        "      mse_y_list.append(mse_y)\n",
        "\n",
        "      mae_y = MAE_calc(pred_y,test_y)\n",
        "      mae_y_list.append(mae_y)\n",
        "\n",
        "    # print('R2 SCORES: ', r2_y_list)\n",
        "    # print('RMSE SCORES: ', mse_y_list)\n",
        "    # print('MAE SCORES: ', mae_y_list)\n",
        "\n",
        "    Xpred_y = mlp.predict(Xnew) #one data only\n",
        "\n",
        "    model_list = ['Decision Tree', 'Random Forest', 'SVR', 'MLP(Adam)', 'Lasso', 'Bayesian', 'Ridge', 'Linear Regression','Neural Net']\n",
        "    # print('~~~~ Test Val || Predicted Val || Errors: R2, RMSE, MAE ~~~~')\n",
        "    for i in range(len(pred_y_list)):\n",
        "      print(model_list[i], 'Test Val: ',test_y, 'Predicted Val: ', pred_y_list[i], 'Errors R2 Score | RMSE | MAE: ', r2_y_list[i], mse_y_list[i], mae_y_list[i])\n",
        "\n",
        "\n",
        "    # # Put in dataframes\n",
        "    # errors_data = pd.DataFrame(list(zip(model_list, r2_y_list, mse_y_list, mae_y_list)),\n",
        "    #            columns =['Algorithms','R2 Score','Mean Square Error(MSE)','Mean Absolute Error(MAE)'])\n",
        "    # # print(errors_data)\n",
        "    test_pred_data = pd.DataFrame(columns =['Algorithms','Test Years','Test Values','Predicted Values','R2 Score','Mean Square Error(MSE)','Mean Absolute Error(MAE)'])\n",
        "    for i in range(len(pred_y_list)):\n",
        "      test_pred_data.loc[i] = [model_list[i], test_x, test_y, list(np.around(pred_y_list[i],2)), r2_y_list[i], mse_y_list[i], mae_y_list[i]]\n",
        "    # print(test_pred_data)\n",
        "\n",
        "\n",
        "    # Put in excel sheets\n",
        "    # Write each dataframe to a different worksheet.\n",
        "    test_pred_data.to_excel(writer, sheet_name=col,index=False)\n",
        "    # errors_data.to_excel(writer1, sheet_name=col,index=False)\n",
        "\n",
        "\n",
        "    # print(test_y)\n",
        "    # print('Test DT: ',test_y,pred_y) # Decision Tree\n",
        "    # print('Test RF: ',test_y,pred_y1) # Random Forest\n",
        "    # print('Test SVR: ',test_y,pred_y2) # SVM\n",
        "    # print('Test MLP: ',test_y,pred_y3) # mlp\n",
        "    # print('Test Lasso: ',test_y,pred_y4) # lasso\n",
        "    # print('Test Bayesian: ',test_y,pred_y5) # bayesian\n",
        "    # print('Test Ridge: ',test_y,pred_y6) # ridge\n",
        "    # print('Test Linear Regression: ',test_y,pred_y7) # lr\n",
        "\n",
        "    print(Xnew,'BEST MLP: ',Xpred_y) # Decision Tree\n",
        "\n",
        "  # Close the Pandas Excel writer and output the Excel file.\n",
        "  writer.save()\n",
        "  # writer1.save()\n",
        "\n",
        "\n",
        "\n",
        "def modelizeall(dmp, dmp_2018):\n",
        "  # Create a Pandas Excel writer using XlsxWriter as the engine.\n",
        "  writer = pd.ExcelWriter('Without2018train_test_pred_data.xlsx', engine='xlsxwriter')\n",
        "  # writer1 = pd.ExcelWriter('Without2018train_errors_data.xlsx', engine='xlsxwriter')\n",
        "\n",
        "  model = Sequential()\n",
        "  model.add(Dense(8, input_dim=1, activation='relu'))\n",
        "  model.add(Dense(16, kernel_initializer='normal', activation='relu'))\n",
        "  model.add(Dense(1, kernel_initializer='normal'))\n",
        "  # used binary loss function \n",
        "  model.compile(loss='mse', optimizer='adam', metrics=['mean_absolute_error'])\n",
        "  # print(model.summary())\n",
        "\n",
        "  # dmp_x = dmp.loc[:, dmp.columns != 'Robbery']\n",
        "  # dmp_y = dmp['Robbery']\n",
        "  for col in dmp.columns[1:].unique():\n",
        "    print('~~~~~~~~~~~~~~~~~~~~~', col, '~~~~~~~~~~~~~~~~~~~~~')\n",
        "    dmp_x = dmp['Year'].values\n",
        "    dmp_y = dmp[col].values\n",
        "\n",
        "    # ASSIGN MANUALLY\n",
        "    train_x = dmp_x\n",
        "    train_y = dmp_y\n",
        "\n",
        "    test_x = dmp_2018['Year'].values\n",
        "    test_y = dmp_2018[col].values\n",
        "\n",
        "\n",
        "    # train_x, test_x, train_y, test_y = train_test_split(dmp_x, dmp_y, test_size = 0.25, random_state=0)\n",
        "\n",
        "    # # Standard scaling\n",
        "    # ss = StandardScaler()\n",
        "    # ss.fit(train_x.reshape(-1, 1))\n",
        "    # ss_train_x = ss.transform(train_x.reshape(-1, 1))\n",
        "    # ss_test_x = ss.transform(test_x.reshape(-1, 1))\n",
        "\n",
        "    print(train_x)\n",
        "    # print(test_x)\n",
        "\n",
        "\n",
        "\n",
        "    # pred for single data\n",
        "    # Xnew = [[single_data]]\n",
        "    # print(len(Xnew[0]))\n",
        "    # print(len(dmp_x.columns))\n",
        "\n",
        "    regressor = DecisionTreeRegressor(random_state=0)\n",
        "    forest = RandomForestRegressor(max_depth=2, random_state=0)\n",
        "    svr = make_pipeline(StandardScaler(), SVR(C=1.0, epsilon=0.2))\n",
        "    mlp = make_pipeline(StandardScaler(), MLPRegressor(random_state=None, max_iter = 10000, learning_rate_init=0.01))\n",
        "    lasso = linear_model.Lasso(alpha=0.1)\n",
        "    bayesian = linear_model.BayesianRidge()\n",
        "    ridge = linear_model.Ridge()\n",
        "    lr = LinearRegression()\n",
        "\n",
        "    regressor.fit(train_x.reshape(-1, 1),train_y)  \n",
        "    forest.fit(train_x.reshape(-1, 1),train_y) \n",
        "    svr.fit(train_x.reshape(-1, 1),train_y)\n",
        "    mlp.fit(train_x.reshape(-1,1),train_y) \n",
        "    lasso.fit(train_x.reshape(-1,1),train_y) \n",
        "    bayesian.fit(train_x.reshape(-1,1),train_y) \n",
        "    ridge.fit(train_x.reshape(-1,1),train_y) \n",
        "    lr.fit(train_x.reshape(-1,1),train_y)\n",
        "    model.fit(train_x,train_y, epochs=30, batch_size=2, verbose=0)\n",
        "\n",
        "\n",
        "\n",
        "    pred_y = regressor.predict(test_x.reshape(-1, 1))\n",
        "    pred_y1 = forest.predict(test_x.reshape(-1, 1)) \n",
        "    pred_y2 = svr.predict(test_x.reshape(-1, 1)) \n",
        "    pred_y3 = mlp.predict(test_x.reshape(-1, 1))\n",
        "    pred_y4 = lasso.predict(test_x.reshape(-1,1))\n",
        "    pred_y5 = bayesian.predict(test_x.reshape(-1,1))\n",
        "    pred_y6 = ridge.predict(test_x.reshape(-1,1))\n",
        "    pred_y7 = lr.predict(test_x.reshape(-1,1))\n",
        "    pred_y8 = model.predict(test_x.reshape(-1,1)).tolist()\n",
        "\n",
        "    # error_y = (pred_y - test_y) / test_y #lower the better\n",
        "    # error_y1 = (pred_y1 - test_y) / test_y\n",
        "    # error_y2 = (pred_y2 - test_y) / test_y\n",
        "    # error_y3 = (pred_y3 - test_y) / test_y\n",
        "    # error_y4 = (pred_y4 - test_y) / test_y\n",
        "    # error_y5 = (pred_y5 - test_y) / test_y\n",
        "    # error_y6 = (pred_y6 - test_y) / test_y\n",
        "    # error_y7 = (pred_y7 - test_y) / test_y\n",
        "\n",
        "    pred_y_list = [pred_y,pred_y1,pred_y2,pred_y3,pred_y4,pred_y5,pred_y6,pred_y7,pred_y8]\n",
        "    error_y_list = []\n",
        "    r2_y_list = []\n",
        "    mse_y_list = []\n",
        "    mae_y_list = []\n",
        "\n",
        "    for pred_y in pred_y_list:\n",
        "      # error_y = Error_calc(pred_y,test_y)\n",
        "      # error_y_list.append(error_y)\n",
        "\n",
        "      r2_y = R2_calc(pred_y,test_y)\n",
        "      r2_y_list.append(r2_y)\n",
        "\n",
        "      mse_y = MSE_calc(pred_y,test_y)\n",
        "      mse_y_list.append(mse_y)\n",
        "\n",
        "      mae_y = MAE_calc(pred_y,test_y)\n",
        "      mae_y_list.append(mae_y)\n",
        "\n",
        "\n",
        "    model_list = ['Decision Tree', 'Random Forest', 'SVR', 'MLP(Adam)', 'Lasso', 'Bayesian', 'Ridge', 'Linear Regression','Neural Net']\n",
        "    # print('~~~~ Test Val || Predicted Val || Errors: R2, RMSE, MAE ~~~~')\n",
        "    for i in range(len(pred_y_list)):\n",
        "      print(model_list[i], 'Test Val: ',test_y, 'Predicted Val: ', pred_y_list[i], 'Errors R2 | RMSE | MAE: ', r2_y_list[i], mse_y_list[i], mae_y_list[i]) # Dont show Metric as only one test row\n",
        "\n",
        "\n",
        "    # # Put in dataframes\n",
        "    # errors_data = pd.DataFrame(list(zip(model_list, r2_y_list, mse_y_list, mae_y_list)),\n",
        "    #            columns =['Algorithms','R2 Score','Mean Square Error(MSE)','Mean Absolute Error(MAE)'])\n",
        "    # # print(errors_data)\n",
        "    test_pred_data = pd.DataFrame(columns =['Algorithms','Test Years','Test Values','Predicted Values','R2 Score','Mean Square Error(MSE)','Mean Absolute Error(MAE)'])\n",
        "    for i in range(len(pred_y_list)):\n",
        "      test_pred_data.loc[i] = [model_list[i], test_x, test_y, list(np.around(pred_y_list[i],2)), r2_y_list[i], mse_y_list[i], mae_y_list[i]]\n",
        "    # print(test_pred_data)\n",
        "\n",
        "\n",
        "    # Put in excel sheets\n",
        "    # Write each dataframe to a different worksheet.\n",
        "    test_pred_data.to_excel(writer, sheet_name=col,index=False)\n",
        "    # errors_data.to_excel(writer1, sheet_name=col,index=False)\n",
        "\n",
        "\n",
        "    # Xpred_y = mlp.predict(Xnew) #one data only\n",
        "\n",
        "\n",
        "    # m2_y = mean_squared_error(test_y,pred_y, squared=False)\n",
        "\n",
        "    # print('~~~~ Test Val || Predicted Val || Errors: R2, RMSE, RSE ~~~~')\n",
        "    # # print(test_y)\n",
        "    # print('Test DT: ',test_y,pred_y,error_y) # Decision Tree\n",
        "    # print('Test RF: ',test_y,pred_y1,error_y1) # Random Forest\n",
        "    # print('Test SVR: ',test_y,pred_y2,error_y2) # SVM\n",
        "    # print('Test MLP: ',test_y,pred_y3,error_y3) # mlp\n",
        "    # print('Test Lasso: ',test_y,pred_y4,error_y4) # lasso\n",
        "    # print('Test Bayesian: ',test_y,pred_y5,error_y5) # bayesian\n",
        "    # print('Test Ridge: ',test_y,pred_y6,error_y6) # ridge\n",
        "    # print('Test Linear Regression: ',test_y,pred_y7,error_y7) # lr\n",
        "\n",
        "    print('2018 BEST MLP: ',test_y,pred_y3) # MLP\n",
        "\n",
        "  # Close the Pandas Excel writer and output the Excel file.\n",
        "  writer.save()\n",
        "  # writer1.save()\n"
      ],
      "execution_count": null,
      "outputs": []
    },
    {
      "cell_type": "markdown",
      "metadata": {
        "id": "Fro2ybsI6gqH"
      },
      "source": [
        "Model With 2019\n"
      ]
    },
    {
      "cell_type": "code",
      "metadata": {
        "id": "go6OM-_DmbA0",
        "cellView": "form"
      },
      "source": [
        "#@title Code here\n",
        "# # dmp = pd.read_csv('dmp.csv') # for dhaka only\n",
        "# dmp = pd.read_excel('bdpolice_totals.xlsx')  \n",
        "# print(dmp)\n",
        "\n",
        "# # dmp = dmp.drop(9) # renove 2019 as data not accurate\n",
        "# dmp"
      ],
      "execution_count": null,
      "outputs": []
    },
    {
      "cell_type": "code",
      "metadata": {
        "id": "eF9v2XbLnn6s",
        "cellView": "form"
      },
      "source": [
        "#@title Code here\n",
        "# # dmp_x = dmp.loc[:, dmp.columns != 'Robbery']\n",
        "# # dmp_y = dmp['Robbery']\n",
        "# for col in dmp.columns[1:].unique():\n",
        "#   print('~~~~~~~~~~~~~~~~~~~~~', col, '~~~~~~~~~~~~~~~~~~~~~')\n",
        "#   dmp_x = dmp['Year'].values\n",
        "#   dmp_y = dmp[col].values\n",
        "\n",
        "#   train_x, test_x, train_y, test_y = train_test_split(dmp_x, dmp_y, test_size = 0.25, random_state=1)\n",
        "\n",
        "#   # Standard scaling\n",
        "#   ss = StandardScaler()\n",
        "#   ss.fit(train_x.reshape(-1, 1))\n",
        "#   ss_train_x = ss.transform(train_x.reshape(-1, 1))\n",
        "#   ss_test_x = ss.transform(test_x.reshape(-1, 1))\n",
        "\n",
        "#   print(dmp_x)\n",
        "#   print(dmp_y)\n",
        "\n",
        "\n",
        "\n",
        "#   # pred for single data\n",
        "#   Xnew = [[2020]]\n",
        "#   print(len(Xnew[0]))\n",
        "#   # print(len(dmp_x.columns))\n",
        "\n",
        "\n",
        "\n",
        "\n",
        "#   regressor = DecisionTreeRegressor(random_state=0)\n",
        "#   forest = RandomForestRegressor(max_depth=2, random_state=0)\n",
        "#   svr = make_pipeline(StandardScaler(), SVR(C=1.0, epsilon=0.2))\n",
        "#   mlp = MLPRegressor(random_state=0, max_iter = 2000)\n",
        "#   lasso = linear_model.Lasso(alpha=0.1)\n",
        "#   bayesian = linear_model.BayesianRidge()\n",
        "#   ridge = linear_model.Ridge()\n",
        "#   lr = LinearRegression()\n",
        "\n",
        "#   regressor.fit(train_x.reshape(-1, 1),train_y)  \n",
        "#   forest.fit(train_x.reshape(-1, 1),train_y) \n",
        "#   svr.fit(train_x.reshape(-1, 1),train_y)\n",
        "#   mlp.fit(ss_train_x.reshape(-1,1),train_y) \n",
        "#   lasso.fit(train_x.reshape(-1,1),train_y) \n",
        "#   bayesian.fit(train_x.reshape(-1,1),train_y) \n",
        "#   ridge.fit(train_x.reshape(-1,1),train_y) \n",
        "#   lr.fit(train_x.reshape(-1,1),train_y)\n",
        "\n",
        "\n",
        "#   pred_y = regressor.predict(test_x.reshape(-1, 1))\n",
        "#   pred_y1 = forest.predict(test_x.reshape(-1, 1)) \n",
        "#   pred_y2 = svr.predict(test_x.reshape(-1, 1)) \n",
        "#   pred_y3 = mlp.predict(ss_test_x.reshape(-1, 1))\n",
        "#   pred_y4 = lasso.predict(test_x.reshape(-1,1))\n",
        "#   pred_y5 = bayesian.predict(test_x.reshape(-1,1))\n",
        "#   pred_y6 = ridge.predict(test_x.reshape(-1,1))\n",
        "#   pred_y7 = ridge.predict(test_x.reshape(-1,1))\n",
        "\n",
        "#   error_y = (pred_y - test_y) / test_y #lower the better\n",
        "#   error_y1 = (pred_y1 - test_y) / test_y\n",
        "#   error_y2 = (pred_y2 - test_y) / test_y\n",
        "#   error_y3 = (pred_y3 - test_y) / test_y\n",
        "#   error_y4 = (pred_y4 - test_y) / test_y\n",
        "#   error_y5 = (pred_y5 - test_y) / test_y\n",
        "#   error_y6 = (pred_y6 - test_y) / test_y\n",
        "#   error_y7 = (pred_y7 - test_y) / test_y\n",
        "\n",
        "\n",
        "#   Xpred_y = mlp.predict(Xnew) #one data only\n",
        "\n",
        "#   # m2_y = mean_squared_error(test_y,pred_y, squared=False)\n",
        "\n",
        "#   # print(test_y)\n",
        "#   print('Test DT: ',test_y,pred_y,error_y) # Decision Tree\n",
        "#   print('Test RF: ',test_y,pred_y1,error_y1) # Random Forest\n",
        "#   print('Test SVR: ',test_y,pred_y2,error_y2) # SVM\n",
        "#   print('Test MLP: ',test_y,pred_y3,error_y3) # mlp\n",
        "#   print('Test Lasso: ',test_y,pred_y4,error_y4) # lasso\n",
        "#   print('Test Bayesian: ',test_y,pred_y5,error_y5) # bayesian\n",
        "#   print('Test Ridge: ',test_y,pred_y6,error_y6) # ridge\n",
        "#   print('Test Linear Regression: ',test_y,pred_y7,error_y7) # lr\n",
        "\n",
        "#   print('2019 BEST MLP: ',Xnew,Xpred_y) # Decision Tree\n"
      ],
      "execution_count": null,
      "outputs": []
    },
    {
      "cell_type": "markdown",
      "metadata": {
        "id": "AjCzsHmk6lOp"
      },
      "source": [
        "Model Without 2019"
      ]
    },
    {
      "cell_type": "code",
      "metadata": {
        "colab": {
          "base_uri": "https://localhost:8080/"
        },
        "id": "xDaKbZKMYS-g",
        "outputId": "a71bd308-6515-4010-9ff5-8019c965bdd7"
      },
      "source": [
        "from google.colab import drive\n",
        "drive.mount('/content/gdrive')"
      ],
      "execution_count": null,
      "outputs": [
        {
          "output_type": "stream",
          "text": [
            "Drive already mounted at /content/gdrive; to attempt to forcibly remount, call drive.mount(\"/content/gdrive\", force_remount=True).\n"
          ],
          "name": "stdout"
        }
      ]
    },
    {
      "cell_type": "code",
      "metadata": {
        "id": "_nn-Sam9CwsF"
      },
      "source": [
        "# dmp = pd.read_csv('dmp.csv')\n",
        "# dmp = pd.read_excel('bdpolice_totals.xlsx')  \n",
        "dmp = pd.read_excel('/content/gdrive/MyDrive/Thesis Mates/Thesis Part 2/Bangladesh Police Codes/Dataset/bdpolice_totals.xlsx')\n",
        "# print(dmp)\n",
        "\n",
        "dmp = dmp.drop(9) # renove 2019 as data not accurate\n",
        "# dmp"
      ],
      "execution_count": null,
      "outputs": []
    },
    {
      "cell_type": "markdown",
      "metadata": {
        "id": "OdZ8kL4ZdsJA"
      },
      "source": [
        "Model 2010 to 2018 (With Train Test Split)\n"
      ]
    },
    {
      "cell_type": "code",
      "metadata": {
        "colab": {
          "base_uri": "https://localhost:8080/"
        },
        "id": "WZKkEe5te7Zh",
        "outputId": "c6b9a4f4-11ac-4084-a85c-629ac437c19b"
      },
      "source": [
        "print(dmp)"
      ],
      "execution_count": null,
      "outputs": [
        {
          "output_type": "stream",
          "text": [
            "   Year  Dacoity  Robbery  Murder  Speedy Trial  Riot  \\\n",
            "0  2010      656     1059    3988          1666   130   \n",
            "1  2011      650     1069    3966          1863   109   \n",
            "2  2012      593      964    4114          1907    94   \n",
            "3  2013      613     1021    4393          1896   172   \n",
            "4  2014      651     1155    4514          1716    79   \n",
            "5  2015      492      933    4037          1549    93   \n",
            "6  2016      408      722    3591          1052    53   \n",
            "7  2017      336      657    3549          1045    23   \n",
            "8  2018      262      562    3830           922    26   \n",
            "\n",
            "   Woman & Child Repression  Kidnapping  Police Assault  Burglary  Theft  \\\n",
            "0                     17752         870             473      3101   8529   \n",
            "1                     21389         792             581      3134   8873   \n",
            "2                     20947         850             659      2927   8598   \n",
            "3                     19601         879            1257      2762   7882   \n",
            "4                     21291         920             702      2809   7660   \n",
            "5                     21210         805             634      2495   6821   \n",
            "6                     18446         639             521      2213   6110   \n",
            "7                     17073         509             543      2163   5833   \n",
            "8                     16253         444             811      2137   5561   \n",
            "\n",
            "   Arms Act  Explosive  Narcotics  Smuggling  Other Cases  \n",
            "0      1575        253      29344       6363        87139  \n",
            "1      1269        207      31696       5714        88355  \n",
            "2      1511        289      37264       6578        96112  \n",
            "3      1517       1007      35832       6437        93930  \n",
            "4      2023        520      42501       6788        90400  \n",
            "5      2079        725      47666       6179        84117  \n",
            "6      2291        487      62208       4680        77747  \n",
            "7      2208        362      98984       5599        74645  \n",
            "8      2515       1310     112549       4501        69736  \n"
          ],
          "name": "stdout"
        }
      ]
    },
    {
      "cell_type": "code",
      "metadata": {
        "colab": {
          "base_uri": "https://localhost:8080/"
        },
        "id": "q0oF0T5Lcp2C",
        "outputId": "d0d0ada3-486e-4bd4-8db2-acc98a6db676"
      },
      "source": [
        "single_data = 2019\n",
        "modelize(dmp,single_data)"
      ],
      "execution_count": null,
      "outputs": [
        {
          "output_type": "stream",
          "text": [
            "~~~~~~~~~~~~~~~~~~~~~ Dacoity ~~~~~~~~~~~~~~~~~~~~~\n",
            "[2014 2018 2016 2013 2010 2015]\n",
            "[2017 2012 2011]\n",
            "Decision Tree Test Val:  [336 593 650] Predicted Val:  [408. 613. 656.] Errors R2 Score | RMSE | MAE:  0.8400045550304618 43.282020901678486 32.666666666666664\n",
            "Random Forest Test Val:  [336 593 650] Predicted Val:  [393.75       630.09583333 638.24416667] Errors R2 Score | RMSE | MAE:  0.8742636701616564 40.20515293697048 35.53388888888886\n",
            "SVR Test Val:  [336 593 650] Predicted Val:  [550.27529438 553.78014155 553.70987211] Errors R2 Score | RMSE | MAE:  -7064.399169538658 137.5062275013877 116.59509357028942\n",
            "MLP(Adam) Test Val:  [336 593 650] Predicted Val:  [377.36039977 632.93590525 684.05100634] Errors R2 Score | RMSE | MAE:  0.9173095185420282 38.579054029685324 38.44910378448831\n",
            "Lasso Test Val:  [336 593 650] Predicted Val:  [377.4 632.9 684. ] Errors R2 Score | RMSE | MAE:  0.9173173455242492 38.56583116352877 38.43333333333916\n",
            "Bayesian Test Val:  [336 593 650] Predicted Val:  [384.73835002 626.47894373 674.82706247] Errors R2 Score | RMSE | MAE:  0.9148681443334673 37.0254393049658 35.68145207459747\n",
            "Ridge Test Val:  [336 593 650] Predicted Val:  [380.91304348 629.82608696 679.60869565] Errors R2 Score | RMSE | MAE:  0.9170216236864852 37.63870797123433 37.11594202898171\n",
            "Linear Regression Test Val:  [336 593 650] Predicted Val:  [377.35714286 632.9375     684.05357143] Errors R2 Score | RMSE | MAE:  0.9173120529307472 38.57919516439604 38.44940476190823\n",
            "Neural Net Test Val:  [336 593 650] Predicted Val:  [[440.0822448730469], [438.99169921875], [438.7735900878906]] Errors R2 Score | RMSE | MAE:  -80524.42160614993 162.4482139551959 156.4389851888021\n",
            "[[2019]] BEST MLP:  [352.8118005]\n",
            "~~~~~~~~~~~~~~~~~~~~~ Robbery ~~~~~~~~~~~~~~~~~~~~~\n",
            "[2014 2018 2016 2013 2010 2015]\n",
            "[2017 2012 2011]\n",
            "Decision Tree Test Val:  [ 657  964 1069] Predicted Val:  [ 722. 1021. 1059.] Errors R2 Score | RMSE | MAE:  0.8888432299157591 50.24606120549815 44.0\n",
            "Random Forest Test Val:  [ 657  964 1069] Predicted Val:  [ 718.16       1053.86333333 1056.90333333] Errors R2 Score | RMSE | MAE:  0.8422228837479635 63.14610999426183 54.373333333333335\n",
            "SVR Test Val:  [ 657  964 1069] Predicted Val:  [974.77529438 978.28014155 978.20987211] Errors R2 Score | RMSE | MAE:  -13629.092656763956 190.98682980775587 140.94852127196597\n",
            "MLP(Adam) Test Val:  [ 657  964 1069] Predicted Val:  [ 733.58997267 1062.09745479 1127.79895121] Errors R2 Score | RMSE | MAE:  0.7876232753476876 79.47001785120703 77.82879288718964\n",
            "Lasso Test Val:  [ 657  964 1069] Predicted Val:  [ 733.75714286 1061.7125     1127.30357143] Errors R2 Score | RMSE | MAE:  0.7881194943145492 79.24371284663955 77.59107142855646\n",
            "Bayesian Test Val:  [ 657  964 1069] Predicted Val:  [ 753.48998222 1044.44626556 1102.63752222] Errors R2 Score | RMSE | MAE:  0.7583175893170598 75.08528753426765 70.19125666642988\n",
            "Ridge Test Val:  [ 657  964 1069] Predicted Val:  [ 738.27826087 1057.75652174 1121.65217391] Errors R2 Score | RMSE | MAE:  0.7846669832550554 77.82178888625936 75.89565217391646\n",
            "Linear Regression Test Val:  [ 657  964 1069] Predicted Val:  [ 733.71428571 1061.75       1127.35714286] Errors R2 Score | RMSE | MAE:  0.7881445725175348 79.25843857300215 77.60714285712068\n",
            "Neural Net Test Val:  [ 657  964 1069] Predicted Val:  [[905.9522705078125], [903.7071533203125], [903.2581176757812]] Errors R2 Score | RMSE | MAE:  -22337.729342039496 176.14656010276454 158.3289998372396\n",
            "[[2019]] BEST MLP:  [735.01442868]\n",
            "~~~~~~~~~~~~~~~~~~~~~ Murder ~~~~~~~~~~~~~~~~~~~~~\n",
            "[2014 2018 2016 2013 2010 2015]\n",
            "[2017 2012 2011]\n",
            "Decision Tree Test Val:  [3549 4114 3966] Predicted Val:  [3591. 4393. 3988.] Errors R2 Score | RMSE | MAE:  0.7509768479268022 163.39012618066408 114.33333333333333\n",
            "Random Forest Test Val:  [3549 4114 3966] Predicted Val:  [3713.2125     4321.84583333 4143.03166667] Errors R2 Score | RMSE | MAE:  0.48136643929833 183.94369300871676 183.0299999999996\n",
            "SVR Test Val:  [3549 4114 3966] Predicted Val:  [4011.33461852 4013.20789293 4012.16816238] Errors R2 Score | RMSE | MAE:  -128311.6903107788 274.49580904399687 203.09829598873935\n",
            "MLP(Adam) Test Val:  [3549 4114 3966] Predicted Val:  [3921.37664881 4179.01393632 4230.54139382] Errors R2 Score | RMSE | MAE:  -2.879478868783976 266.3790091442935 233.97732631639096\n",
            "Lasso Test Val:  [3549 4114 3966] Predicted Val:  [3921.47142857 4179.025      4230.53571429] Errors R2 Score | RMSE | MAE:  -2.883260127494019 266.42219618472757 234.01071428570626\n",
            "Bayesian Test Val:  [3549 4114 3966] Predicted Val:  [4058.78185133 4058.87838009 4058.89768584] Errors R2 Score | RMSE | MAE:  -35253263.280278824 300.8576124775673 219.26705235942305\n",
            "Ridge Test Val:  [3549 4114 3966] Predicted Val:  [3925.01304348 4175.92608696 4226.10869565] Errors R2 Score | RMSE | MAE:  -3.090272206974901 266.3814199385288 232.68260869564742\n",
            "Linear Regression Test Val:  [3549 4114 3966] Predicted Val:  [3921.42857143 4179.0625     4230.58928571] Errors R2 Score | RMSE | MAE:  -2.8808617856988477 266.4230094150793 234.02678571428018\n",
            "Neural Net Test Val:  [3549 4114 3966] Predicted Val:  [[4150.44189453125], [4140.15625], [4138.09912109375]] Errors R2 Score | RMSE | MAE:  -4481.610049625045 361.4944026273173 266.5657552083333\n",
            "[[2019]] BEST MLP:  [3818.31922577]\n",
            "~~~~~~~~~~~~~~~~~~~~~ Speedy Trial ~~~~~~~~~~~~~~~~~~~~~\n",
            "[2014 2018 2016 2013 2010 2015]\n",
            "[2017 2012 2011]\n",
            "Decision Tree Test Val:  [1045 1907 1863] Predicted Val:  [1052. 1896. 1666.] Errors R2 Score | RMSE | MAE:  0.897624125396592 113.98684134583254 71.66666666666667\n",
            "Random Forest Test Val:  [1045 1907 1863] Predicted Val:  [1087.68       1798.61333333 1754.06333333] Errors R2 Score | RMSE | MAE:  0.9197991172417196 92.08048880473268 86.6677777777777\n",
            "SVR Test Val:  [1045 1907 1863] Predicted Val:  [1605.28380273 1608.78864991 1608.71838047] Errors R2 Score | RMSE | MAE:  -58230.625863978006 394.76030320450985 370.9255907850747\n",
            "MLP(Adam) Test Val:  [1045 1907 1863] Predicted Val:  [1170.20375788 1726.77235876 1838.08607894] Errors R2 Score | RMSE | MAE:  0.8095143441837321 127.512989031691 110.1151067253921\n",
            "Lasso Test Val:  [1045 1907 1863] Predicted Val:  [1170.25714286 1726.3375     1837.55357143] Errors R2 Score | RMSE | MAE:  0.808408558275725 127.77038189661351 110.45535714285022\n",
            "Bayesian Test Val:  [1045 1907 1863] Predicted Val:  [1208.70619003 1692.69458373 1789.49226247] Errors R2 Score | RMSE | MAE:  0.5965246243481367 161.37938279642 150.50644794544982\n",
            "Ridge Test Val:  [1045 1907 1863] Predicted Val:  [1177.95217391 1719.60434783 1827.93478261] Errors R2 Score | RMSE | MAE:  0.7772554259725556 134.19262333501038 118.47101449275699\n",
            "Linear Regression Test Val:  [1045 1907 1863] Predicted Val:  [1170.21428571 1726.375      1837.60714286] Errors R2 Score | RMSE | MAE:  0.8085695357049227 127.73514938577208 110.41071428571013\n",
            "Neural Net Test Val:  [1045 1907 1863] Predicted Val:  [[1693.48974609375], [1689.29296875], [1688.4537353515625]] Errors R2 Score | RMSE | MAE:  -34230.93857408765 407.5952652436594 346.9143473307292\n",
            "[[2019]] BEST MLP:  [1158.95689904]\n",
            "~~~~~~~~~~~~~~~~~~~~~ Riot ~~~~~~~~~~~~~~~~~~~~~\n",
            "[2014 2018 2016 2013 2010 2015]\n",
            "[2017 2012 2011]\n",
            "Decision Tree Test Val:  [ 23  94 109] Predicted Val:  [ 53. 172. 130.] Errors R2 Score | RMSE | MAE:  -0.019264207925322685 49.749371855331 43.0\n",
            "Random Forest Test Val:  [ 23  94 109] Predicted Val:  [ 51.04083333 158.16       139.26      ] Errors R2 Score | RMSE | MAE:  0.1100705828648223 44.03960919455643 40.82027777777777\n",
            "SVR Test Val:  [ 23  94 109] Predicted Val:  [84.77282327 87.1161565  87.30867753] Errors R2 Score | RMSE | MAE:  -1086.1753712507746 38.00781703221329 30.11599641316074\n",
            "MLP(Adam) Test Val:  [ 23  94 109] Predicted Val:  [ 38.8724688  137.18554591 133.68324229] Errors R2 Score | RMSE | MAE:  0.561865832410527 30.145143838871718 27.913752334478648\n",
            "Lasso Test Val:  [ 23  94 109] Predicted Val:  [ 51.25714286 127.9625     143.30357143] Errors R2 Score | RMSE | MAE:  0.35675633821263275 32.29371735314498 32.17440476190677\n",
            "Bayesian Test Val:  [ 23  94 109] Predicted Val:  [ 55.94557089 123.86012547 137.44303638] Errors R2 Score | RMSE | MAE:  0.2693122275226265 30.474273593434837 30.416244248116225\n",
            "Ridge Test Val:  [ 23  94 109] Predicted Val:  [ 52.2826087  127.06521739 142.02173913] Errors R2 Score | RMSE | MAE:  0.3421672664714168 31.839257886846912 31.78985507246398\n",
            "Linear Regression Test Val:  [ 23  94 109] Predicted Val:  [ 51.21428571 128.         143.35714286] Errors R2 Score | RMSE | MAE:  0.3573209581464899 32.31335731898726 32.19047619047706\n",
            "Neural Net Test Val:  [ 23  94 109] Predicted Val:  [[748.6105346679688], [746.7552490234375], [746.3841552734375]] Errors R2 Score | RMSE | MAE:  -477542.13047810155 673.0177373943966 671.9166463216146\n",
            "[[2019]] BEST MLP:  [-11.8770541]\n",
            "~~~~~~~~~~~~~~~~~~~~~ Woman & Child Repression ~~~~~~~~~~~~~~~~~~~~~\n",
            "[2014 2018 2016 2013 2010 2015]\n",
            "[2017 2012 2011]\n",
            "Decision Tree Test Val:  [17073 20947 21389] Predicted Val:  [18446. 19601. 17752.] Errors R2 Score | RMSE | MAE:  -8.699916056320593 2375.1922027490746 2118.6666666666665\n",
            "Random Forest Test Val:  [17073 20947 21389] Predicted Val:  [18563.4825     19417.63083333 18575.78416667] Errors R2 Score | RMSE | MAE:  -25.017369630845025 2039.1739712993506 1944.3558333333324\n",
            "SVR Test Val:  [17073 20947 21389] Predicted Val:  [19021.6479798  19023.52125421 19022.48152365] Errors R2 Score | RMSE | MAE:  -7434679.573088851 2089.4504168615063 2079.5484006450365\n",
            "MLP(Adam) Test Val:  [17073 20947 21389] Predicted Val:  [18686.41828891 19447.04587753 19599.17139525] Errors R2 Score | RMSE | MAE:  -15.844963708247004 1638.7462055766232 1634.4003387090997\n",
            "Lasso Test Val:  [17073 20947 21389] Predicted Val:  [18686.54285714 19447.0875     19599.19642857] Errors R2 Score | RMSE | MAE:  -15.849030298387184 1638.7652754224684 1634.4196428571402\n",
            "Bayesian Test Val:  [17073 20947 21389] Predicted Val:  [19092.16491364 19092.16820057 19092.16885795] Errors R2 Score | RMSE | MAE:  -1432371778295.0193 2065.015032044592 2056.942618370967\n",
            "Ridge Test Val:  [17073 20947 21389] Predicted Val:  [18697.0826087  19437.86521739 19586.02173913] Errors R2 Score | RMSE | MAE:  -17.000728959616303 1649.8346100054239 1645.39855072463\n",
            "Linear Regression Test Val:  [17073 20947 21389] Predicted Val:  [18686.5   19447.125 19599.25 ] Errors R2 Score | RMSE | MAE:  -15.844545085058272 1638.7202657485504 1634.375\n",
            "Neural Net Test Val:  [17073 20947 21389] Predicted Val:  [[10636.294921875], [10609.9365234375], [10604.6650390625]] Errors R2 Score | RMSE | MAE:  -460685.20259643614 9391.27137525304 9186.034505208334\n",
            "[[2019]] BEST MLP:  [18382.16806805]\n",
            "~~~~~~~~~~~~~~~~~~~~~ Kidnapping ~~~~~~~~~~~~~~~~~~~~~\n",
            "[2014 2018 2016 2013 2010 2015]\n",
            "[2017 2012 2011]\n",
            "Decision Tree Test Val:  [509 850 792] Predicted Val:  [639. 879. 870.] Errors R2 Score | RMSE | MAE:  0.3563246339222996 89.11602923529901 79.0\n",
            "Random Forest Test Val:  [509 850 792] Predicted Val:  [620.27       882.21666667 881.49666667] Errors R2 Score | RMSE | MAE:  0.5302671059133695 84.51544209108677 77.66111111111104\n",
            "SVR Test Val:  [509 850 792] Predicted Val:  [835.28380273 838.78864991 838.71838047] Errors R2 Score | RMSE | MAE:  -13547.073116109403 190.41132789222115 128.07117776351808\n",
            "MLP(Adam) Test Val:  [509 850 792] Predicted Val:  [615.26312839 885.6664368  939.74709849] Errors R2 Score | RMSE | MAE:  0.43099307149277644 107.07186415373873 96.55888789235534\n",
            "Lasso Test Val:  [509 850 792] Predicted Val:  [615.32857143 885.65       939.71428571] Errors R2 Score | RMSE | MAE:  0.4305979007763525 107.07660467491453 96.56428571428599\n",
            "Bayesian Test Val:  [509 850 792] Predicted Val:  [630.92207707 872.00568256 920.22240366] Errors R2 Score | RMSE | MAE:  0.33835070005819434 102.9404807692095 90.71672109822491\n",
            "Ridge Test Val:  [509 850 792] Predicted Val:  [619.04782609 882.39565217 935.06521739] Errors R2 Score | RMSE | MAE:  0.41344771635924615 105.87360189309595 95.1695652173803\n",
            "Linear Regression Test Val:  [509 850 792] Predicted Val:  [615.28571429 885.6875     939.76785714] Errors R2 Score | RMSE | MAE:  0.43078088335975695 107.09122329749971 96.58035714285506\n",
            "Neural Net Test Val:  [509 850 792] Predicted Val:  [[5373.15380859375], [5359.8388671875], [5357.17529296875]] Errors R2 Score | RMSE | MAE:  -442392.66085662064 4648.995028934907 4646.389322916667\n",
            "[[2019]] BEST MLP:  [591.18290325]\n",
            "~~~~~~~~~~~~~~~~~~~~~ Police Assault ~~~~~~~~~~~~~~~~~~~~~\n",
            "[2014 2018 2016 2013 2010 2015]\n",
            "[2017 2012 2011]\n",
            "Decision Tree Test Val:  [543 659 581] Predicted Val:  [ 521. 1257.  473.] Errors R2 Score | RMSE | MAE:  0.042635605391073805 351.07074310837504 242.66666666666666\n",
            "Random Forest Test Val:  [543 659 581] Predicted Val:  [ 631.29833333 1066.79166667  704.78666667] Errors R2 Score | RMSE | MAE:  -0.7425231699962522 251.27261285747446 206.62555555555556\n",
            "SVR Test Val:  [543 659 581] Predicted Val:  [667.67695864 668.43406159 667.70691556] Errors R2 Score | RMSE | MAE:  -62976.47128771265 87.84728176312905 73.60597859702261\n",
            "MLP(Adam) Test Val:  [543 659 581] Predicted Val:  [713.2146173  721.30185147 722.91929831] Errors R2 Score | RMSE | MAE:  -979.1883706369277 132.91052613500318 124.81192236133707\n",
            "Lasso Test Val:  [543 659 581] Predicted Val:  [754.74285714 713.975      705.82142857] Errors R2 Score | RMSE | MAE:  -45.17225416688303 145.41627282464364 130.51309523809687\n",
            "Bayesian Test Val:  [543 659 581] Predicted Val:  [733.00053734 732.99952983 732.99932833] Errors R2 Score | RMSE | MAE:  -77079796000.18718 146.83315976034066 138.66646516470598\n",
            "Ridge Test Val:  [543 659 581] Predicted Val:  [754.2173913  714.43478261 706.47826087] Errors R2 Score | RMSE | MAE:  -47.48214724334244 145.408155964671 130.71014492753662\n",
            "Linear Regression Test Val:  [543 659 581] Predicted Val:  [754.78571429 713.9375     705.76785714] Errors R2 Score | RMSE | MAE:  -44.99124902832795 145.41702772575928 130.49702380952658\n",
            "Neural Net Test Val:  [543 659 581] Predicted Val:  [[3603.998779296875], [3595.0673828125], [3593.281005859375]] Errors R2 Score | RMSE | MAE:  -410409.1889458145 3003.555785039546 3003.11572265625\n",
            "[[2019]] BEST MLP:  [905.27720308]\n",
            "~~~~~~~~~~~~~~~~~~~~~ Burglary ~~~~~~~~~~~~~~~~~~~~~\n",
            "[2014 2018 2016 2013 2010 2015]\n",
            "[2017 2012 2011]\n",
            "Decision Tree Test Val:  [2163 2927 3134] Predicted Val:  [2213. 2762. 3101.] Errors R2 Score | RMSE | MAE:  0.9232761153522466 101.34758671686926 82.66666666666667\n",
            "Random Forest Test Val:  [2163 2927 3134] Predicted Val:  [2232.53666667 2834.1975     2986.83      ] Errors R2 Score | RMSE | MAE:  0.8896307187785486 108.17680114417794 103.16972222222209\n",
            "SVR Test Val:  [2163 2927 3134] Predicted Val:  [2626.27529438 2629.78014155 2629.70987211] Errors R2 Score | RMSE | MAE:  -69411.5617953298 430.9958142563315 421.59509357028946\n",
            "MLP(Adam) Test Val:  [2163 2927 3134] Predicted Val:  [2211.86394883 2894.35530214 3030.85357281] Errors R2 Score | RMSE | MAE:  0.9634013752842162 68.53842532088795 61.551691294014894\n",
            "Lasso Test Val:  [2163 2927 3134] Predicted Val:  [2238.4    2890.4625 3020.875 ] Errors R2 Score | RMSE | MAE:  0.9436183062493856 81.27610253788683 75.02083333333333\n",
            "Bayesian Test Val:  [2163 2927 3134] Predicted Val:  [2244.91144103 2884.7649891  3012.73569872] Errors R2 Score | RMSE | MAE:  0.9314567367453813 87.93617208510155 81.80358440385316\n",
            "Ridge Test Val:  [2163 2927 3134] Predicted Val:  [2247.43043478 2882.56086957 3009.58695652] Errors R2 Score | RMSE | MAE:  0.9262843193058213 90.52060542386647 84.42753623189249\n",
            "Linear Regression Test Val:  [2163 2927 3134] Predicted Val:  [2238.35714286 2890.5        3020.92857143] Errors R2 Score | RMSE | MAE:  0.9436928349565933 81.23237642462546 74.97619047619325\n",
            "Neural Net Test Val:  [2163 2927 3134] Predicted Val:  [[3235.67138671875], [3227.65283203125], [3226.049072265625]] Errors R2 Score | RMSE | MAE:  -23506.5222265979 645.3652870012196 488.457763671875\n",
            "[[2019]] BEST MLP:  [2380.75060001]\n",
            "~~~~~~~~~~~~~~~~~~~~~ Theft ~~~~~~~~~~~~~~~~~~~~~\n",
            "[2014 2018 2016 2013 2010 2015]\n",
            "[2017 2012 2011]\n",
            "Decision Tree Test Val:  [5833 8598 8873] Predicted Val:  [6110. 7882. 8529.] Errors R2 Score | RMSE | MAE:  0.7743753184060538 485.70258389265337 445.6666666666667\n",
            "Random Forest Test Val:  [5833 8598 8873] Predicted Val:  [6053.3475 7944.185  8279.91  ] Errors R2 Score | RMSE | MAE:  0.7127601960501777 525.2881187441326 489.08416666666653\n",
            "SVR Test Val:  [5833 8598 8873] Predicted Val:  [7238.6920663  7242.19691347 7242.12664403] Errors R2 Score | RMSE | MAE:  -806375.8449812863 1469.0042089666674 1464.1228362631798\n",
            "MLP(Adam) Test Val:  [5833 8598 8873] Predicted Val:  [6029.5451833  8025.16842252 8424.29307037] Errors R2 Score | RMSE | MAE:  0.8274399471397558 435.16431147057136 406.027896802173\n",
            "Lasso Test Val:  [5833 8598 8873] Predicted Val:  [6029.54285714 8025.0875     8424.19642857] Errors R2 Score | RMSE | MAE:  0.8273721189377401 435.2326860722892 406.08630952378735\n",
            "Bayesian Test Val:  [5833 8598 8873] Predicted Val:  [6045.46961169 8011.15158977 8404.28798539] Errors R2 Score | RMSE | MAE:  0.8092691146835497 450.638563642107 422.6766788447276\n",
            "Ridge Test Val:  [5833 8598 8873] Predicted Val:  [6057.26521739 8000.83043478 8389.54347826] Errors R2 Score | RMSE | MAE:  0.7948445425216897 462.1098663614083 434.96376811596565\n",
            "Linear Regression Test Val:  [5833 8598 8873] Predicted Val:  [6029.5   8025.125 8424.25 ] Errors R2 Score | RMSE | MAE:  0.8274187936981489 435.19136714974786 406.0416666666667\n",
            "Neural Net Test Val:  [5833 8598 8873] Predicted Val:  [[4517.0185546875], [4505.8251953125], [4503.58642578125]] Errors R2 Score | RMSE | MAE:  -362725.7192268259 3538.8075571249055 3259.18994140625\n",
            "[[2019]] BEST MLP:  [6262.93861287]\n",
            "~~~~~~~~~~~~~~~~~~~~~ Arms Act ~~~~~~~~~~~~~~~~~~~~~\n",
            "[2014 2018 2016 2013 2010 2015]\n",
            "[2017 2012 2011]\n",
            "Decision Tree Test Val:  [2208 1511 1269] Predicted Val:  [2291. 1517. 1575.] Errors R2 Score | RMSE | MAE:  0.729455580506073 183.0855901848459 131.66666666666666\n",
            "Random Forest Test Val:  [2208 1511 1269] Predicted Val:  [2327.06 1558.94 1586.2 ] Errors R2 Score | RMSE | MAE:  0.6917686894623614 197.55958358598207 161.39999999999986\n",
            "SVR Test Val:  [2208 1511 1269] Predicted Val:  [2052.8079337  2049.30308653 2049.37335597] Errors R2 Score | RMSE | MAE:  -114945.53496719117 554.6282133428625 491.2895029298464\n",
            "MLP(Adam) Test Val:  [2208 1511 1269] Predicted Val:  [2412.71426774 1502.28391916 1427.73588557] Errors R2 Score | RMSE | MAE:  0.8883185454829329 149.64511669434745 124.05541138569158\n",
            "Lasso Test Val:  [2208 1511 1269] Predicted Val:  [2350.24285714 1693.5375     1562.19642857] Errors R2 Score | RMSE | MAE:  0.6086584660849353 215.65181430681818 205.99226190477688\n",
            "Bayesian Test Val:  [2208 1511 1269] Predicted Val:  [2336.53750424 1705.52968379 1579.3281197 ] Errors R2 Score | RMSE | MAE:  0.5422599701915962 224.10356961814222 211.13176924270616\n",
            "Ridge Test Val:  [2208 1511 1269] Predicted Val:  [2341.14782609 1701.49565217 1573.56521739] Errors R2 Score | RMSE | MAE:  0.5660501423324064 221.1914018322014 209.40289855074175\n",
            "Linear Regression Test Val:  [2208 1511 1269] Predicted Val:  [2350.28571429 1693.5        1562.14285714] Errors R2 Score | RMSE | MAE:  0.6088464982074424 215.62638149022564 205.97619047621265\n",
            "Neural Net Test Val:  [2208 1511 1269] Predicted Val:  [[3649.212158203125], [3640.16845703125], [3638.360107421875]] Errors R2 Score | RMSE | MAE:  -180809.2258749949 2018.6066252088792 1979.91357421875\n",
            "[[2019]] BEST MLP:  [2776.88309068]\n",
            "~~~~~~~~~~~~~~~~~~~~~ Explosive ~~~~~~~~~~~~~~~~~~~~~\n",
            "[2014 2018 2016 2013 2010 2015]\n",
            "[2017 2012 2011]\n",
            "Decision Tree Test Val:  [362 289 207] Predicted Val:  [ 487. 1007.  253.] Errors R2 Score | RMSE | MAE:  -0.7901366496880289 421.6100093688479 296.3333333333333\n",
            "Random Forest Test Val:  [362 289 207] Predicted Val:  [737.10333333 767.08333333 481.29166667] Errors R2 Score | RMSE | MAE:  -8.00924725183833 384.92514540347827 375.8261111111112\n",
            "SVR Test Val:  [362 289 207] Predicted Val:  [622.75771561 622.35330462 621.88894906] Errors R2 Score | RMSE | MAE:  -929294.3499960314 342.17532153564 336.33332309709033\n",
            "MLP(Adam) Test Val:  [362 289 207] Predicted Val:  [966.021545   499.12607204 405.74697744] Errors R2 Score | RMSE | MAE:  -1.4887896750165392 386.65029592688023 337.6315314951064\n",
            "Lasso Test Val:  [362 289 207] Predicted Val:  [965.95714286 499.1625     405.80357143] Errors R2 Score | RMSE | MAE:  -1.4896429818226498 386.633058953476 337.6410714285739\n",
            "Bayesian Test Val:  [362 289 207] Predicted Val:  [902.15385227 554.99037927 485.55768467] Errors R2 Score | RMSE | MAE:  -3.417374219078811 383.0193422738656 361.5673053995124\n",
            "Ridge Test Val:  [362 289 207] Predicted Val:  [959.50434783 504.80869565 413.86956522] Errors R2 Score | RMSE | MAE:  -1.6117557439247432 385.7373267753601 340.0608695652142\n",
            "Linear Regression Test Val:  [362 289 207] Predicted Val:  [966.    499.125 405.75 ] Errors R2 Score | RMSE | MAE:  -1.4888676786864172 386.63940052931315 337.625\n",
            "Neural Net Test Val:  [362 289 207] Predicted Val:  [[2692.15869140625], [2685.48681640625], [2684.15283203125]] Errors R2 Score | RMSE | MAE:  -470408.7696856706 2402.0182306819606 2401.26611328125\n",
            "[[2019]] BEST MLP:  [1152.78069241]\n",
            "~~~~~~~~~~~~~~~~~~~~~ Narcotics ~~~~~~~~~~~~~~~~~~~~~\n",
            "[2014 2018 2016 2013 2010 2015]\n",
            "[2017 2012 2011]\n"
          ],
          "name": "stdout"
        },
        {
          "output_type": "stream",
          "text": [
            "/usr/local/lib/python3.7/dist-packages/sklearn/neural_network/_multilayer_perceptron.py:571: ConvergenceWarning: Stochastic Optimizer: Maximum iterations (10000) reached and the optimization hasn't converged yet.\n",
            "  % self.max_iter, ConvergenceWarning)\n"
          ],
          "name": "stderr"
        },
        {
          "output_type": "stream",
          "text": [
            "Decision Tree Test Val:  [98984 37264 31696] Predicted Val:  [62208. 35832. 29344.] Errors R2 Score | RMSE | MAE:  -1.2445278579886754 21292.069760046033 13520.0\n",
            "Random Forest Test Val:  [98984 37264 31696] Predicted Val:  [70124.77333333 35425.85166667 34397.07666667] Errors R2 Score | RMSE | MAE:  -0.019764668802214613 16768.31901983213 11132.817222222222\n",
            "SVR Test Val:  [98984 37264 31696] Predicted Val:  [45085.3079337  45081.80308653 45081.87335597] Errors R2 Score | RMSE | MAE:  -391780004.8741525 32379.873672077814 25034.12283626318\n",
            "MLP(Adam) Test Val:  [98984 37264 31696] Predicted Val:  [89055.97380595 34068.78460545 31821.91559934] Errors R2 Score | RMSE | MAE:  0.9482307466132788 6021.93103761903 4416.385729314908\n",
            "Lasso Test Val:  [98984 37264 31696] Predicted Val:  [80662.1    32576.9125 22959.875 ] Errors R2 Score | RMSE | MAE:  0.7729521723318447 12027.478107208615 10581.70416666443\n",
            "Bayesian Test Val:  [98984 37264 31696] Predicted Val:  [55016.66804016 55016.66546486 55016.66494981] Errors R2 Score | RMSE | MAE:  -509276158480454.44 30507.57733457704 28346.88745817116\n",
            "Ridge Test Val:  [98984 37264 31696] Predicted Val:  [79993.13043479 33162.26086957 23796.08695652] Errors R2 Score | RMSE | MAE:  0.7573695594290346 12109.032673058997 10330.840579708418\n",
            "Linear Regression Test Val:  [98984 37264 31696] Predicted Val:  [80662.14285714 32576.875      22959.82142857] Errors R2 Score | RMSE | MAE:  0.7729530791922519 12027.474187055046 10581.72023809577\n",
            "Neural Net Test Val:  [98984 37264 31696] Predicted Val:  [[22140.044921875], [22085.1796875], [22074.208984375]] Errors R2 Score | RMSE | MAE:  -2502893.1096833576 45563.029166479624 33881.522135416664\n",
            "[[2019]] BEST MLP:  [130809.57001829]\n",
            "~~~~~~~~~~~~~~~~~~~~~ Smuggling ~~~~~~~~~~~~~~~~~~~~~\n",
            "[2014 2018 2016 2013 2010 2015]\n",
            "[2017 2012 2011]\n",
            "Decision Tree Test Val:  [5599 6578 5714] Predicted Val:  [4680. 6437. 6363.] Errors R2 Score | RMSE | MAE:  0.3490430571134515 654.6355220018745 569.6666666666666\n",
            "Random Forest Test Val:  [5599 6578 5714] Predicted Val:  [4834.47       6469.25583333 6463.33583333] Errors R2 Score | RMSE | MAE:  0.34779178490484197 621.2448808109377 540.8699999999999\n",
            "SVR Test Val:  [5599 6578 5714] Predicted Val:  [6268.78380273 6272.28864991 6272.21838047] Errors R2 Score | RMSE | MAE:  -106331.14261114529 533.4408846560173 511.23784443018485\n",
            "MLP(Adam) Test Val:  [5599 6578 5714] Predicted Val:  [5110.77958097 6449.40611413 6717.13142076] Errors R2 Score | RMSE | MAE:  0.14861943549849832 648.3744320384048 539.9819085531935\n",
            "Lasso Test Val:  [5599 6578 5714] Predicted Val:  [5110.75714286 6449.3375     6717.05357143] Errors R2 Score | RMSE | MAE:  0.1486394271903867 648.344454132434 539.9863095238106\n",
            "Bayesian Test Val:  [5599 6578 5714] Predicted Val:  [5223.01236767 6351.11417829 6576.73454041] Errors R2 Score | RMSE | MAE:  0.1091916112767789 558.9140551032859 488.5359981506287\n",
            "Ridge Test Val:  [5599 6578 5714] Predicted Val:  [5129.33913043 6433.07826087 6693.82608696] Errors R2 Score | RMSE | MAE:  0.14480813205752108 632.8883007170915 531.4695652173832\n",
            "Linear Regression Test Val:  [5599 6578 5714] Predicted Val:  [5110.71428571 6449.375      6717.10714286] Errors R2 Score | RMSE | MAE:  0.14864734852234773 648.3803589076224 540.0059523809468\n",
            "Neural Net Test Val:  [5599 6578 5714] Predicted Val:  [[15708.3310546875], [15669.4033203125], [15661.6171875]] Errors R2 Score | RMSE | MAE:  -226550.7718078494 9726.377818676105 9716.1171875\n",
            "[[2019]] BEST MLP:  [5388.45699418]\n",
            "~~~~~~~~~~~~~~~~~~~~~ Other Cases ~~~~~~~~~~~~~~~~~~~~~\n",
            "[2014 2018 2016 2013 2010 2015]\n",
            "[2017 2012 2011]\n",
            "Decision Tree Test Val:  [74645 96112 88355] Predicted Val:  [77747. 93930. 87139.] Errors R2 Score | RMSE | MAE:  0.8798977026806488 2299.43355343586 2166.6666666666665\n",
            "Random Forest Test Val:  [74645 96112 88355] Predicted Val:  [76986.6        91439.06916667 89719.2175    ] Errors R2 Score | RMSE | MAE:  0.7659016379428061 3118.785154533939 2792.916111111117\n",
            "SVR Test Val:  [74645 96112 88355] Predicted Val:  [85625.78380273 85629.28864991 85629.21838047] Errors R2 Score | RMSE | MAE:  -29631629.20810865 8904.956215670856 8063.092257451736\n",
            "MLP(Adam) Test Val:  [74645 96112 88355] Predicted Val:  [77300.40210418 89571.03099989 92025.15677904] Errors R2 Score | RMSE | MAE:  0.49139891598415497 4593.672698323241 4288.842627775371\n",
            "Lasso Test Val:  [74645 96112 88355] Predicted Val:  [77300.54285714 89571.0875     92025.19642857] Errors R2 Score | RMSE | MAE:  0.4913895257793529 4593.683562715108 4288.8839285712065\n",
            "Bayesian Test Val:  [74645 96112 88355] Predicted Val:  [83844.82465466 83844.84092717 83844.84418167] Errors R2 Score | RMSE | MAE:  -1167040351316.8606 9227.882944283137 8659.046515272057\n",
            "Ridge Test Val:  [74645 96112 88355] Predicted Val:  [77471.22173913 89421.74347826 91811.84782609] Errors R2 Score | RMSE | MAE:  0.45200192272653616 4643.87979094103 4324.442028985359\n",
            "Linear Regression Test Val:  [74645 96112 88355] Predicted Val:  [77300.5   89571.125 92025.25 ] Errors R2 Score | RMSE | MAE:  0.4913987979079414 4593.6717731434765 4288.87499999969\n",
            "Neural Net Test Val:  [74645 96112 88355] Predicted Val:  [[47268.75390625], [47151.62109375], [47128.19140625]] Errors R2 Score | RMSE | MAE:  -427269.71678321017 40192.152217627554 39187.811197916664\n",
            "[[2019]] BEST MLP:  [81739.01489345]\n"
          ],
          "name": "stdout"
        }
      ]
    },
    {
      "cell_type": "markdown",
      "metadata": {
        "id": "F_5m2WSIhEvT"
      },
      "source": [
        "Model 2010 to 2017 (Entire data train)\n"
      ]
    },
    {
      "cell_type": "code",
      "metadata": {
        "id": "_vZ_uSyOC2lr",
        "colab": {
          "base_uri": "https://localhost:8080/"
        },
        "outputId": "76ba2dd7-58e9-4d12-ed1f-7e1e81a1b5eb"
      },
      "source": [
        "# 2018 dmp\n",
        "dmp_2018 = dmp.iloc[8:]\n",
        "print(dmp_2018)\n",
        "\n",
        "# 2010 to 2017\n",
        "dmp_till2017 = dmp.drop(8)\n",
        "print(dmp_till2017)\n",
        "\n"
      ],
      "execution_count": null,
      "outputs": [
        {
          "output_type": "stream",
          "text": [
            "   Year  Dacoity  Robbery  Murder  Speedy Trial  Riot  \\\n",
            "8  2018      262      562    3830           922    26   \n",
            "\n",
            "   Woman & Child Repression  Kidnapping  Police Assault  Burglary  Theft  \\\n",
            "8                     16253         444             811      2137   5561   \n",
            "\n",
            "   Arms Act  Explosive  Narcotics  Smuggling  Other Cases  \n",
            "8      2515       1310     112549       4501        69736  \n",
            "   Year  Dacoity  Robbery  Murder  Speedy Trial  Riot  \\\n",
            "0  2010      656     1059    3988          1666   130   \n",
            "1  2011      650     1069    3966          1863   109   \n",
            "2  2012      593      964    4114          1907    94   \n",
            "3  2013      613     1021    4393          1896   172   \n",
            "4  2014      651     1155    4514          1716    79   \n",
            "5  2015      492      933    4037          1549    93   \n",
            "6  2016      408      722    3591          1052    53   \n",
            "7  2017      336      657    3549          1045    23   \n",
            "\n",
            "   Woman & Child Repression  Kidnapping  Police Assault  Burglary  Theft  \\\n",
            "0                     17752         870             473      3101   8529   \n",
            "1                     21389         792             581      3134   8873   \n",
            "2                     20947         850             659      2927   8598   \n",
            "3                     19601         879            1257      2762   7882   \n",
            "4                     21291         920             702      2809   7660   \n",
            "5                     21210         805             634      2495   6821   \n",
            "6                     18446         639             521      2213   6110   \n",
            "7                     17073         509             543      2163   5833   \n",
            "\n",
            "   Arms Act  Explosive  Narcotics  Smuggling  Other Cases  \n",
            "0      1575        253      29344       6363        87139  \n",
            "1      1269        207      31696       5714        88355  \n",
            "2      1511        289      37264       6578        96112  \n",
            "3      1517       1007      35832       6437        93930  \n",
            "4      2023        520      42501       6788        90400  \n",
            "5      2079        725      47666       6179        84117  \n",
            "6      2291        487      62208       4680        77747  \n",
            "7      2208        362      98984       5599        74645  \n"
          ],
          "name": "stdout"
        }
      ]
    },
    {
      "cell_type": "code",
      "metadata": {
        "colab": {
          "base_uri": "https://localhost:8080/"
        },
        "id": "PPDotSMwhVYn",
        "outputId": "901e0c95-4d89-4f48-f12e-3e021f15f39e"
      },
      "source": [
        "modelizeall(dmp_till2017, dmp_2018)"
      ],
      "execution_count": null,
      "outputs": [
        {
          "output_type": "stream",
          "text": [
            "~~~~~~~~~~~~~~~~~~~~~ Dacoity ~~~~~~~~~~~~~~~~~~~~~\n",
            "[2010 2011 2012 2013 2014 2015 2016 2017]\n"
          ],
          "name": "stdout"
        },
        {
          "output_type": "stream",
          "text": [
            "/usr/local/lib/python3.7/dist-packages/sklearn/metrics/_regression.py:582: UndefinedMetricWarning: R^2 score is not well-defined with less than two samples.\n",
            "  warnings.warn(msg, UndefinedMetricWarning)\n",
            "/usr/local/lib/python3.7/dist-packages/sklearn/metrics/_regression.py:582: UndefinedMetricWarning: R^2 score is not well-defined with less than two samples.\n",
            "  warnings.warn(msg, UndefinedMetricWarning)\n",
            "/usr/local/lib/python3.7/dist-packages/sklearn/metrics/_regression.py:582: UndefinedMetricWarning: R^2 score is not well-defined with less than two samples.\n",
            "  warnings.warn(msg, UndefinedMetricWarning)\n",
            "/usr/local/lib/python3.7/dist-packages/sklearn/metrics/_regression.py:582: UndefinedMetricWarning: R^2 score is not well-defined with less than two samples.\n",
            "  warnings.warn(msg, UndefinedMetricWarning)\n",
            "/usr/local/lib/python3.7/dist-packages/sklearn/metrics/_regression.py:582: UndefinedMetricWarning: R^2 score is not well-defined with less than two samples.\n",
            "  warnings.warn(msg, UndefinedMetricWarning)\n",
            "/usr/local/lib/python3.7/dist-packages/sklearn/metrics/_regression.py:582: UndefinedMetricWarning: R^2 score is not well-defined with less than two samples.\n",
            "  warnings.warn(msg, UndefinedMetricWarning)\n",
            "/usr/local/lib/python3.7/dist-packages/sklearn/metrics/_regression.py:582: UndefinedMetricWarning: R^2 score is not well-defined with less than two samples.\n",
            "  warnings.warn(msg, UndefinedMetricWarning)\n",
            "/usr/local/lib/python3.7/dist-packages/sklearn/metrics/_regression.py:582: UndefinedMetricWarning: R^2 score is not well-defined with less than two samples.\n",
            "  warnings.warn(msg, UndefinedMetricWarning)\n",
            "/usr/local/lib/python3.7/dist-packages/sklearn/metrics/_regression.py:582: UndefinedMetricWarning: R^2 score is not well-defined with less than two samples.\n",
            "  warnings.warn(msg, UndefinedMetricWarning)\n"
          ],
          "name": "stderr"
        },
        {
          "output_type": "stream",
          "text": [
            "Decision Tree Test Val:  [262] Predicted Val:  [336.] Errors R2 | RMSE | MAE:  nan 74.0 74.0\n",
            "Random Forest Test Val:  [262] Predicted Val:  [374.34] Errors R2 | RMSE | MAE:  nan 112.33999999999997 112.33999999999997\n",
            "SVR Test Val:  [262] Predicted Val:  [600.43007918] Errors R2 | RMSE | MAE:  nan 338.4300791766442 338.4300791766442\n",
            "MLP(Adam) Test Val:  [262] Predicted Val:  [441.39315495] Errors R2 | RMSE | MAE:  nan 179.3931549500266 179.3931549500266\n",
            "Lasso Test Val:  [262] Predicted Val:  [350.94285714] Errors R2 | RMSE | MAE:  nan 88.94285714285797 88.94285714285797\n",
            "Bayesian Test Val:  [262] Predicted Val:  [359.31163892] Errors R2 | RMSE | MAE:  nan 97.31163892017503 97.31163892017503\n",
            "Ridge Test Val:  [262] Predicted Val:  [355.48546512] Errors R2 | RMSE | MAE:  nan 93.48546511627501 93.48546511627501\n",
            "Linear Regression Test Val:  [262] Predicted Val:  [350.85714286] Errors R2 | RMSE | MAE:  nan 88.85714285714494 88.85714285714494\n",
            "Neural Net Test Val:  [262] Predicted Val:  [[565.2352905273438]] Errors R2 | RMSE | MAE:  nan 303.23529052734375 303.23529052734375\n",
            "2018 BEST MLP:  [262] [441.39315495]\n",
            "~~~~~~~~~~~~~~~~~~~~~ Robbery ~~~~~~~~~~~~~~~~~~~~~\n",
            "[2010 2011 2012 2013 2014 2015 2016 2017]\n"
          ],
          "name": "stdout"
        },
        {
          "output_type": "stream",
          "text": [
            "/usr/local/lib/python3.7/dist-packages/sklearn/metrics/_regression.py:582: UndefinedMetricWarning: R^2 score is not well-defined with less than two samples.\n",
            "  warnings.warn(msg, UndefinedMetricWarning)\n",
            "/usr/local/lib/python3.7/dist-packages/sklearn/metrics/_regression.py:582: UndefinedMetricWarning: R^2 score is not well-defined with less than two samples.\n",
            "  warnings.warn(msg, UndefinedMetricWarning)\n",
            "/usr/local/lib/python3.7/dist-packages/sklearn/metrics/_regression.py:582: UndefinedMetricWarning: R^2 score is not well-defined with less than two samples.\n",
            "  warnings.warn(msg, UndefinedMetricWarning)\n",
            "/usr/local/lib/python3.7/dist-packages/sklearn/metrics/_regression.py:582: UndefinedMetricWarning: R^2 score is not well-defined with less than two samples.\n",
            "  warnings.warn(msg, UndefinedMetricWarning)\n",
            "/usr/local/lib/python3.7/dist-packages/sklearn/metrics/_regression.py:582: UndefinedMetricWarning: R^2 score is not well-defined with less than two samples.\n",
            "  warnings.warn(msg, UndefinedMetricWarning)\n",
            "/usr/local/lib/python3.7/dist-packages/sklearn/metrics/_regression.py:582: UndefinedMetricWarning: R^2 score is not well-defined with less than two samples.\n",
            "  warnings.warn(msg, UndefinedMetricWarning)\n",
            "/usr/local/lib/python3.7/dist-packages/sklearn/metrics/_regression.py:582: UndefinedMetricWarning: R^2 score is not well-defined with less than two samples.\n",
            "  warnings.warn(msg, UndefinedMetricWarning)\n",
            "/usr/local/lib/python3.7/dist-packages/sklearn/metrics/_regression.py:582: UndefinedMetricWarning: R^2 score is not well-defined with less than two samples.\n",
            "  warnings.warn(msg, UndefinedMetricWarning)\n",
            "/usr/local/lib/python3.7/dist-packages/sklearn/metrics/_regression.py:582: UndefinedMetricWarning: R^2 score is not well-defined with less than two samples.\n",
            "  warnings.warn(msg, UndefinedMetricWarning)\n"
          ],
          "name": "stderr"
        },
        {
          "output_type": "stream",
          "text": [
            "Decision Tree Test Val:  [562] Predicted Val:  [657.] Errors R2 | RMSE | MAE:  nan 95.0 95.0\n",
            "Random Forest Test Val:  [562] Predicted Val:  [699.12] Errors R2 | RMSE | MAE:  nan 137.12 137.12\n",
            "SVR Test Val:  [562] Predicted Val:  [989.93007918] Errors R2 | RMSE | MAE:  nan 427.9300791766442 427.9300791766442\n",
            "MLP(Adam) Test Val:  [562] Predicted Val:  [851.40489138] Errors R2 | RMSE | MAE:  nan 289.404891381993 289.404891381993\n",
            "Lasso Test Val:  [562] Predicted Val:  [706.08571429] Errors R2 | RMSE | MAE:  nan 144.08571428571304 144.08571428571304\n",
            "Bayesian Test Val:  [562] Predicted Val:  [731.78603839] Errors R2 | RMSE | MAE:  nan 169.78603839498828 169.78603839498828\n",
            "Ridge Test Val:  [562] Predicted Val:  [711.61627907] Errors R2 | RMSE | MAE:  nan 149.61627906977083 149.61627906977083\n",
            "Linear Regression Test Val:  [562] Predicted Val:  [706.] Errors R2 | RMSE | MAE:  nan 144.0 144.0\n",
            "Neural Net Test Val:  [562] Predicted Val:  [[955.2886352539062]] Errors R2 | RMSE | MAE:  nan 393.28863525390625 393.28863525390625\n",
            "2018 BEST MLP:  [562] [851.40489138]\n",
            "~~~~~~~~~~~~~~~~~~~~~ Murder ~~~~~~~~~~~~~~~~~~~~~\n",
            "[2010 2011 2012 2013 2014 2015 2016 2017]\n"
          ],
          "name": "stdout"
        },
        {
          "output_type": "stream",
          "text": [
            "/usr/local/lib/python3.7/dist-packages/sklearn/metrics/_regression.py:582: UndefinedMetricWarning: R^2 score is not well-defined with less than two samples.\n",
            "  warnings.warn(msg, UndefinedMetricWarning)\n",
            "/usr/local/lib/python3.7/dist-packages/sklearn/metrics/_regression.py:582: UndefinedMetricWarning: R^2 score is not well-defined with less than two samples.\n",
            "  warnings.warn(msg, UndefinedMetricWarning)\n",
            "/usr/local/lib/python3.7/dist-packages/sklearn/metrics/_regression.py:582: UndefinedMetricWarning: R^2 score is not well-defined with less than two samples.\n",
            "  warnings.warn(msg, UndefinedMetricWarning)\n",
            "/usr/local/lib/python3.7/dist-packages/sklearn/metrics/_regression.py:582: UndefinedMetricWarning: R^2 score is not well-defined with less than two samples.\n",
            "  warnings.warn(msg, UndefinedMetricWarning)\n",
            "/usr/local/lib/python3.7/dist-packages/sklearn/metrics/_regression.py:582: UndefinedMetricWarning: R^2 score is not well-defined with less than two samples.\n",
            "  warnings.warn(msg, UndefinedMetricWarning)\n",
            "/usr/local/lib/python3.7/dist-packages/sklearn/metrics/_regression.py:582: UndefinedMetricWarning: R^2 score is not well-defined with less than two samples.\n",
            "  warnings.warn(msg, UndefinedMetricWarning)\n",
            "/usr/local/lib/python3.7/dist-packages/sklearn/metrics/_regression.py:582: UndefinedMetricWarning: R^2 score is not well-defined with less than two samples.\n",
            "  warnings.warn(msg, UndefinedMetricWarning)\n",
            "/usr/local/lib/python3.7/dist-packages/sklearn/metrics/_regression.py:582: UndefinedMetricWarning: R^2 score is not well-defined with less than two samples.\n",
            "  warnings.warn(msg, UndefinedMetricWarning)\n",
            "/usr/local/lib/python3.7/dist-packages/sklearn/metrics/_regression.py:582: UndefinedMetricWarning: R^2 score is not well-defined with less than two samples.\n",
            "  warnings.warn(msg, UndefinedMetricWarning)\n"
          ],
          "name": "stderr"
        },
        {
          "output_type": "stream",
          "text": [
            "Decision Tree Test Val:  [3830] Predicted Val:  [3549.] Errors R2 | RMSE | MAE:  nan 281.0 281.0\n",
            "Random Forest Test Val:  [3830] Predicted Val:  [3607.66] Errors R2 | RMSE | MAE:  nan 222.34000000000015 222.34000000000015\n",
            "SVR Test Val:  [3830] Predicted Val:  [4011.44410227] Errors R2 | RMSE | MAE:  nan 181.44410227319804 181.44410227319804\n",
            "MLP(Adam) Test Val:  [3830] Predicted Val:  [4281.02911701] Errors R2 | RMSE | MAE:  nan 451.0291170112923 451.0291170112923\n",
            "Lasso Test Val:  [3830] Predicted Val:  [3748.12142857] Errors R2 | RMSE | MAE:  nan 81.87857142856228 81.87857142856228\n",
            "Bayesian Test Val:  [3830] Predicted Val:  [3913.22215712] Errors R2 | RMSE | MAE:  nan 83.22215711785975 83.22215711785975\n",
            "Ridge Test Val:  [3830] Predicted Val:  [3754.3372093] Errors R2 | RMSE | MAE:  nan 75.66279069767916 75.66279069767916\n",
            "Linear Regression Test Val:  [3830] Predicted Val:  [3748.03571429] Errors R2 | RMSE | MAE:  nan 81.96428571428987 81.96428571428987\n",
            "Neural Net Test Val:  [3830] Predicted Val:  [[4017.3505859375]] Errors R2 | RMSE | MAE:  nan 187.3505859375 187.3505859375\n",
            "2018 BEST MLP:  [3830] [4281.02911701]\n",
            "~~~~~~~~~~~~~~~~~~~~~ Speedy Trial ~~~~~~~~~~~~~~~~~~~~~\n",
            "[2010 2011 2012 2013 2014 2015 2016 2017]\n"
          ],
          "name": "stdout"
        },
        {
          "output_type": "stream",
          "text": [
            "/usr/local/lib/python3.7/dist-packages/sklearn/metrics/_regression.py:582: UndefinedMetricWarning: R^2 score is not well-defined with less than two samples.\n",
            "  warnings.warn(msg, UndefinedMetricWarning)\n",
            "/usr/local/lib/python3.7/dist-packages/sklearn/metrics/_regression.py:582: UndefinedMetricWarning: R^2 score is not well-defined with less than two samples.\n",
            "  warnings.warn(msg, UndefinedMetricWarning)\n",
            "/usr/local/lib/python3.7/dist-packages/sklearn/metrics/_regression.py:582: UndefinedMetricWarning: R^2 score is not well-defined with less than two samples.\n",
            "  warnings.warn(msg, UndefinedMetricWarning)\n",
            "/usr/local/lib/python3.7/dist-packages/sklearn/metrics/_regression.py:582: UndefinedMetricWarning: R^2 score is not well-defined with less than two samples.\n",
            "  warnings.warn(msg, UndefinedMetricWarning)\n",
            "/usr/local/lib/python3.7/dist-packages/sklearn/metrics/_regression.py:582: UndefinedMetricWarning: R^2 score is not well-defined with less than two samples.\n",
            "  warnings.warn(msg, UndefinedMetricWarning)\n",
            "/usr/local/lib/python3.7/dist-packages/sklearn/metrics/_regression.py:582: UndefinedMetricWarning: R^2 score is not well-defined with less than two samples.\n",
            "  warnings.warn(msg, UndefinedMetricWarning)\n",
            "/usr/local/lib/python3.7/dist-packages/sklearn/metrics/_regression.py:582: UndefinedMetricWarning: R^2 score is not well-defined with less than two samples.\n",
            "  warnings.warn(msg, UndefinedMetricWarning)\n",
            "/usr/local/lib/python3.7/dist-packages/sklearn/metrics/_regression.py:582: UndefinedMetricWarning: R^2 score is not well-defined with less than two samples.\n",
            "  warnings.warn(msg, UndefinedMetricWarning)\n",
            "/usr/local/lib/python3.7/dist-packages/sklearn/metrics/_regression.py:582: UndefinedMetricWarning: R^2 score is not well-defined with less than two samples.\n",
            "  warnings.warn(msg, UndefinedMetricWarning)\n"
          ],
          "name": "stderr"
        },
        {
          "output_type": "stream",
          "text": [
            "Decision Tree Test Val:  [922] Predicted Val:  [1045.] Errors R2 | RMSE | MAE:  nan 123.0 123.0\n",
            "Random Forest Test Val:  [922] Predicted Val:  [1090.34] Errors R2 | RMSE | MAE:  nan 168.33999999999992 168.33999999999992\n",
            "SVR Test Val:  [922] Predicted Val:  [1688.85184987] Errors R2 | RMSE | MAE:  nan 766.8518498655501 766.8518498655501\n",
            "MLP(Adam) Test Val:  [922] Predicted Val:  [1340.2497339] Errors R2 | RMSE | MAE:  nan 418.2497338978328 418.2497338978328\n",
            "Lasso Test Val:  [922] Predicted Val:  [1069.55] Errors R2 | RMSE | MAE:  nan 147.54999999998836 147.54999999998836\n",
            "Bayesian Test Val:  [922] Predicted Val:  [1112.52323326] Errors R2 | RMSE | MAE:  nan 190.52323326203623 190.52323326203623\n",
            "Ridge Test Val:  [922] Predicted Val:  [1081.49418605] Errors R2 | RMSE | MAE:  nan 159.4941860465333 159.4941860465333\n",
            "Linear Regression Test Val:  [922] Predicted Val:  [1069.46428571] Errors R2 | RMSE | MAE:  nan 147.46428571428987 147.46428571428987\n",
            "Neural Net Test Val:  [922] Predicted Val:  [[1646.79541015625]] Errors R2 | RMSE | MAE:  nan 724.79541015625 724.79541015625\n",
            "2018 BEST MLP:  [922] [1340.2497339]\n",
            "~~~~~~~~~~~~~~~~~~~~~ Riot ~~~~~~~~~~~~~~~~~~~~~\n",
            "[2010 2011 2012 2013 2014 2015 2016 2017]\n"
          ],
          "name": "stdout"
        },
        {
          "output_type": "stream",
          "text": [
            "/usr/local/lib/python3.7/dist-packages/sklearn/metrics/_regression.py:582: UndefinedMetricWarning: R^2 score is not well-defined with less than two samples.\n",
            "  warnings.warn(msg, UndefinedMetricWarning)\n",
            "/usr/local/lib/python3.7/dist-packages/sklearn/metrics/_regression.py:582: UndefinedMetricWarning: R^2 score is not well-defined with less than two samples.\n",
            "  warnings.warn(msg, UndefinedMetricWarning)\n",
            "/usr/local/lib/python3.7/dist-packages/sklearn/metrics/_regression.py:582: UndefinedMetricWarning: R^2 score is not well-defined with less than two samples.\n",
            "  warnings.warn(msg, UndefinedMetricWarning)\n",
            "/usr/local/lib/python3.7/dist-packages/sklearn/metrics/_regression.py:582: UndefinedMetricWarning: R^2 score is not well-defined with less than two samples.\n",
            "  warnings.warn(msg, UndefinedMetricWarning)\n",
            "/usr/local/lib/python3.7/dist-packages/sklearn/metrics/_regression.py:582: UndefinedMetricWarning: R^2 score is not well-defined with less than two samples.\n",
            "  warnings.warn(msg, UndefinedMetricWarning)\n",
            "/usr/local/lib/python3.7/dist-packages/sklearn/metrics/_regression.py:582: UndefinedMetricWarning: R^2 score is not well-defined with less than two samples.\n",
            "  warnings.warn(msg, UndefinedMetricWarning)\n",
            "/usr/local/lib/python3.7/dist-packages/sklearn/metrics/_regression.py:582: UndefinedMetricWarning: R^2 score is not well-defined with less than two samples.\n",
            "  warnings.warn(msg, UndefinedMetricWarning)\n",
            "/usr/local/lib/python3.7/dist-packages/sklearn/metrics/_regression.py:582: UndefinedMetricWarning: R^2 score is not well-defined with less than two samples.\n",
            "  warnings.warn(msg, UndefinedMetricWarning)\n",
            "/usr/local/lib/python3.7/dist-packages/sklearn/metrics/_regression.py:582: UndefinedMetricWarning: R^2 score is not well-defined with less than two samples.\n",
            "  warnings.warn(msg, UndefinedMetricWarning)\n"
          ],
          "name": "stderr"
        },
        {
          "output_type": "stream",
          "text": [
            "Decision Tree Test Val:  [26] Predicted Val:  [23.] Errors R2 | RMSE | MAE:  nan 3.0 3.0\n",
            "Random Forest Test Val:  [26] Predicted Val:  [36.24333333] Errors R2 | RMSE | MAE:  nan 10.243333333333332 10.243333333333332\n",
            "SVR Test Val:  [26] Predicted Val:  [92.34686947] Errors R2 | RMSE | MAE:  nan 66.34686947474017 66.34686947474017\n",
            "MLP(Adam) Test Val:  [26] Predicted Val:  [-21.98973198] Errors R2 | RMSE | MAE:  nan 47.98973197545578 47.98973197545578\n",
            "Lasso Test Val:  [26] Predicted Val:  [33.94285714] Errors R2 | RMSE | MAE:  nan 7.942857142857974 7.942857142857974\n",
            "Bayesian Test Val:  [26] Predicted Val:  [41.87937193] Errors R2 | RMSE | MAE:  nan 15.879371932434879 15.879371932434879\n",
            "Ridge Test Val:  [26] Predicted Val:  [35.25872093] Errors R2 | RMSE | MAE:  nan 9.258720930229174 9.258720930229174\n",
            "Linear Regression Test Val:  [26] Predicted Val:  [33.85714286] Errors R2 | RMSE | MAE:  nan 7.857142857141298 7.857142857141298\n",
            "Neural Net Test Val:  [26] Predicted Val:  [[564.48291015625]] Errors R2 | RMSE | MAE:  nan 538.48291015625 538.48291015625\n",
            "2018 BEST MLP:  [26] [-21.98973198]\n",
            "~~~~~~~~~~~~~~~~~~~~~ Woman & Child Repression ~~~~~~~~~~~~~~~~~~~~~\n",
            "[2010 2011 2012 2013 2014 2015 2016 2017]\n"
          ],
          "name": "stdout"
        },
        {
          "output_type": "stream",
          "text": [
            "/usr/local/lib/python3.7/dist-packages/sklearn/metrics/_regression.py:582: UndefinedMetricWarning: R^2 score is not well-defined with less than two samples.\n",
            "  warnings.warn(msg, UndefinedMetricWarning)\n",
            "/usr/local/lib/python3.7/dist-packages/sklearn/metrics/_regression.py:582: UndefinedMetricWarning: R^2 score is not well-defined with less than two samples.\n",
            "  warnings.warn(msg, UndefinedMetricWarning)\n",
            "/usr/local/lib/python3.7/dist-packages/sklearn/metrics/_regression.py:582: UndefinedMetricWarning: R^2 score is not well-defined with less than two samples.\n",
            "  warnings.warn(msg, UndefinedMetricWarning)\n",
            "/usr/local/lib/python3.7/dist-packages/sklearn/metrics/_regression.py:582: UndefinedMetricWarning: R^2 score is not well-defined with less than two samples.\n",
            "  warnings.warn(msg, UndefinedMetricWarning)\n",
            "/usr/local/lib/python3.7/dist-packages/sklearn/metrics/_regression.py:582: UndefinedMetricWarning: R^2 score is not well-defined with less than two samples.\n",
            "  warnings.warn(msg, UndefinedMetricWarning)\n",
            "/usr/local/lib/python3.7/dist-packages/sklearn/metrics/_regression.py:582: UndefinedMetricWarning: R^2 score is not well-defined with less than two samples.\n",
            "  warnings.warn(msg, UndefinedMetricWarning)\n",
            "/usr/local/lib/python3.7/dist-packages/sklearn/metrics/_regression.py:582: UndefinedMetricWarning: R^2 score is not well-defined with less than two samples.\n",
            "  warnings.warn(msg, UndefinedMetricWarning)\n",
            "/usr/local/lib/python3.7/dist-packages/sklearn/metrics/_regression.py:582: UndefinedMetricWarning: R^2 score is not well-defined with less than two samples.\n",
            "  warnings.warn(msg, UndefinedMetricWarning)\n",
            "/usr/local/lib/python3.7/dist-packages/sklearn/metrics/_regression.py:582: UndefinedMetricWarning: R^2 score is not well-defined with less than two samples.\n",
            "  warnings.warn(msg, UndefinedMetricWarning)\n"
          ],
          "name": "stderr"
        },
        {
          "output_type": "stream",
          "text": [
            "Decision Tree Test Val:  [16253] Predicted Val:  [17073.] Errors R2 | RMSE | MAE:  nan 820.0 820.0\n",
            "Random Forest Test Val:  [16253] Predicted Val:  [17785.5755] Errors R2 | RMSE | MAE:  nan 1532.575499999999 1532.575499999999\n",
            "SVR Test Val:  [16253] Predicted Val:  [20271.77525886] Errors R2 | RMSE | MAE:  nan 4018.7752588550247 4018.7752588550247\n",
            "MLP(Adam) Test Val:  [16253] Predicted Val:  [21677.46914115] Errors R2 | RMSE | MAE:  nan 5424.46914114969 5424.46914114969\n",
            "Lasso Test Val:  [16253] Predicted Val:  [18803.58571429] Errors R2 | RMSE | MAE:  nan 2550.5857142857276 2550.5857142857276\n",
            "Bayesian Test Val:  [16253] Predicted Val:  [19713.61837534] Errors R2 | RMSE | MAE:  nan 3460.6183753433543 3460.6183753433543\n",
            "Ridge Test Val:  [16253] Predicted Val:  [18824.66569767] Errors R2 | RMSE | MAE:  nan 2571.6656976743834 2571.6656976743834\n",
            "Linear Regression Test Val:  [16253] Predicted Val:  [18803.5] Errors R2 | RMSE | MAE:  nan 2550.5 2550.5\n",
            "Neural Net Test Val:  [16253] Predicted Val:  [[16229.353515625]] Errors R2 | RMSE | MAE:  nan 23.646484375 23.646484375\n",
            "2018 BEST MLP:  [16253] [21677.46914115]\n",
            "~~~~~~~~~~~~~~~~~~~~~ Kidnapping ~~~~~~~~~~~~~~~~~~~~~\n",
            "[2010 2011 2012 2013 2014 2015 2016 2017]\n"
          ],
          "name": "stdout"
        },
        {
          "output_type": "stream",
          "text": [
            "/usr/local/lib/python3.7/dist-packages/sklearn/metrics/_regression.py:582: UndefinedMetricWarning: R^2 score is not well-defined with less than two samples.\n",
            "  warnings.warn(msg, UndefinedMetricWarning)\n",
            "/usr/local/lib/python3.7/dist-packages/sklearn/metrics/_regression.py:582: UndefinedMetricWarning: R^2 score is not well-defined with less than two samples.\n",
            "  warnings.warn(msg, UndefinedMetricWarning)\n",
            "/usr/local/lib/python3.7/dist-packages/sklearn/metrics/_regression.py:582: UndefinedMetricWarning: R^2 score is not well-defined with less than two samples.\n",
            "  warnings.warn(msg, UndefinedMetricWarning)\n",
            "/usr/local/lib/python3.7/dist-packages/sklearn/metrics/_regression.py:582: UndefinedMetricWarning: R^2 score is not well-defined with less than two samples.\n",
            "  warnings.warn(msg, UndefinedMetricWarning)\n",
            "/usr/local/lib/python3.7/dist-packages/sklearn/metrics/_regression.py:582: UndefinedMetricWarning: R^2 score is not well-defined with less than two samples.\n",
            "  warnings.warn(msg, UndefinedMetricWarning)\n",
            "/usr/local/lib/python3.7/dist-packages/sklearn/metrics/_regression.py:582: UndefinedMetricWarning: R^2 score is not well-defined with less than two samples.\n",
            "  warnings.warn(msg, UndefinedMetricWarning)\n",
            "/usr/local/lib/python3.7/dist-packages/sklearn/metrics/_regression.py:582: UndefinedMetricWarning: R^2 score is not well-defined with less than two samples.\n",
            "  warnings.warn(msg, UndefinedMetricWarning)\n",
            "/usr/local/lib/python3.7/dist-packages/sklearn/metrics/_regression.py:582: UndefinedMetricWarning: R^2 score is not well-defined with less than two samples.\n",
            "  warnings.warn(msg, UndefinedMetricWarning)\n",
            "/usr/local/lib/python3.7/dist-packages/sklearn/metrics/_regression.py:582: UndefinedMetricWarning: R^2 score is not well-defined with less than two samples.\n",
            "  warnings.warn(msg, UndefinedMetricWarning)\n"
          ],
          "name": "stderr"
        },
        {
          "output_type": "stream",
          "text": [
            "Decision Tree Test Val:  [444] Predicted Val:  [509.] Errors R2 | RMSE | MAE:  nan 65.0 65.0\n",
            "Random Forest Test Val:  [444] Predicted Val:  [566.18] Errors R2 | RMSE | MAE:  nan 122.17999999999995 122.17999999999995\n",
            "SVR Test Val:  [444] Predicted Val:  [825.66425079] Errors R2 | RMSE | MAE:  nan 381.6642507902259 381.6642507902259\n",
            "MLP(Adam) Test Val:  [444] Predicted Val:  [719.39289995] Errors R2 | RMSE | MAE:  nan 275.3928999471269 275.3928999471269\n",
            "Lasso Test Val:  [444] Predicted Val:  [601.69285714] Errors R2 | RMSE | MAE:  nan 157.69285714285797 157.69285714285797\n",
            "Bayesian Test Val:  [444] Predicted Val:  [627.49475392] Errors R2 | RMSE | MAE:  nan 183.4947539248824 183.4947539248824\n",
            "Ridge Test Val:  [444] Predicted Val:  [605.8255814] Errors R2 | RMSE | MAE:  nan 161.8255813953583 161.8255813953583\n",
            "Linear Regression Test Val:  [444] Predicted Val:  [601.60714286] Errors R2 | RMSE | MAE:  nan 157.60714285714494 157.60714285714494\n",
            "Neural Net Test Val:  [444] Predicted Val:  [[5729.72705078125]] Errors R2 | RMSE | MAE:  nan 5285.72705078125 5285.72705078125\n",
            "2018 BEST MLP:  [444] [719.39289995]\n",
            "~~~~~~~~~~~~~~~~~~~~~ Police Assault ~~~~~~~~~~~~~~~~~~~~~\n",
            "[2010 2011 2012 2013 2014 2015 2016 2017]\n"
          ],
          "name": "stdout"
        },
        {
          "output_type": "stream",
          "text": [
            "/usr/local/lib/python3.7/dist-packages/sklearn/metrics/_regression.py:582: UndefinedMetricWarning: R^2 score is not well-defined with less than two samples.\n",
            "  warnings.warn(msg, UndefinedMetricWarning)\n",
            "/usr/local/lib/python3.7/dist-packages/sklearn/metrics/_regression.py:582: UndefinedMetricWarning: R^2 score is not well-defined with less than two samples.\n",
            "  warnings.warn(msg, UndefinedMetricWarning)\n",
            "/usr/local/lib/python3.7/dist-packages/sklearn/metrics/_regression.py:582: UndefinedMetricWarning: R^2 score is not well-defined with less than two samples.\n",
            "  warnings.warn(msg, UndefinedMetricWarning)\n",
            "/usr/local/lib/python3.7/dist-packages/sklearn/metrics/_regression.py:582: UndefinedMetricWarning: R^2 score is not well-defined with less than two samples.\n",
            "  warnings.warn(msg, UndefinedMetricWarning)\n",
            "/usr/local/lib/python3.7/dist-packages/sklearn/metrics/_regression.py:582: UndefinedMetricWarning: R^2 score is not well-defined with less than two samples.\n",
            "  warnings.warn(msg, UndefinedMetricWarning)\n",
            "/usr/local/lib/python3.7/dist-packages/sklearn/metrics/_regression.py:582: UndefinedMetricWarning: R^2 score is not well-defined with less than two samples.\n",
            "  warnings.warn(msg, UndefinedMetricWarning)\n",
            "/usr/local/lib/python3.7/dist-packages/sklearn/metrics/_regression.py:582: UndefinedMetricWarning: R^2 score is not well-defined with less than two samples.\n",
            "  warnings.warn(msg, UndefinedMetricWarning)\n",
            "/usr/local/lib/python3.7/dist-packages/sklearn/metrics/_regression.py:582: UndefinedMetricWarning: R^2 score is not well-defined with less than two samples.\n",
            "  warnings.warn(msg, UndefinedMetricWarning)\n",
            "/usr/local/lib/python3.7/dist-packages/sklearn/metrics/_regression.py:582: UndefinedMetricWarning: R^2 score is not well-defined with less than two samples.\n",
            "  warnings.warn(msg, UndefinedMetricWarning)\n"
          ],
          "name": "stderr"
        },
        {
          "output_type": "stream",
          "text": [
            "Decision Tree Test Val:  [811] Predicted Val:  [543.] Errors R2 | RMSE | MAE:  nan 268.0 268.0\n",
            "Random Forest Test Val:  [811] Predicted Val:  [568.52516667] Errors R2 | RMSE | MAE:  nan 242.47483333333332 242.47483333333332\n",
            "SVR Test Val:  [811] Predicted Val:  [606.03932465] Errors R2 | RMSE | MAE:  nan 204.96067535319628 204.96067535319628\n",
            "MLP(Adam) Test Val:  [811] Predicted Val:  [728.76689582] Errors R2 | RMSE | MAE:  nan 82.23310418432789 82.23310418432789\n",
            "Lasso Test Val:  [811] Predicted Val:  [647.76428571] Errors R2 | RMSE | MAE:  nan 163.23571428571267 163.23571428571267\n",
            "Bayesian Test Val:  [811] Predicted Val:  [671.24949331] Errors R2 | RMSE | MAE:  nan 139.75050669317125 139.75050669317125\n",
            "Ridge Test Val:  [811] Predicted Val:  [648.22674419] Errors R2 | RMSE | MAE:  nan 162.77325581395417 162.77325581395417\n",
            "Linear Regression Test Val:  [811] Predicted Val:  [647.67857143] Errors R2 | RMSE | MAE:  nan 163.32142857142935 163.32142857142935\n",
            "Neural Net Test Val:  [811] Predicted Val:  [[3712.414306640625]] Errors R2 | RMSE | MAE:  nan 2901.414306640625 2901.414306640625\n",
            "2018 BEST MLP:  [811] [728.76689582]\n",
            "~~~~~~~~~~~~~~~~~~~~~ Burglary ~~~~~~~~~~~~~~~~~~~~~\n",
            "[2010 2011 2012 2013 2014 2015 2016 2017]\n"
          ],
          "name": "stdout"
        },
        {
          "output_type": "stream",
          "text": [
            "/usr/local/lib/python3.7/dist-packages/sklearn/metrics/_regression.py:582: UndefinedMetricWarning: R^2 score is not well-defined with less than two samples.\n",
            "  warnings.warn(msg, UndefinedMetricWarning)\n",
            "/usr/local/lib/python3.7/dist-packages/sklearn/metrics/_regression.py:582: UndefinedMetricWarning: R^2 score is not well-defined with less than two samples.\n",
            "  warnings.warn(msg, UndefinedMetricWarning)\n",
            "/usr/local/lib/python3.7/dist-packages/sklearn/metrics/_regression.py:582: UndefinedMetricWarning: R^2 score is not well-defined with less than two samples.\n",
            "  warnings.warn(msg, UndefinedMetricWarning)\n",
            "/usr/local/lib/python3.7/dist-packages/sklearn/metrics/_regression.py:582: UndefinedMetricWarning: R^2 score is not well-defined with less than two samples.\n",
            "  warnings.warn(msg, UndefinedMetricWarning)\n",
            "/usr/local/lib/python3.7/dist-packages/sklearn/metrics/_regression.py:582: UndefinedMetricWarning: R^2 score is not well-defined with less than two samples.\n",
            "  warnings.warn(msg, UndefinedMetricWarning)\n",
            "/usr/local/lib/python3.7/dist-packages/sklearn/metrics/_regression.py:582: UndefinedMetricWarning: R^2 score is not well-defined with less than two samples.\n",
            "  warnings.warn(msg, UndefinedMetricWarning)\n",
            "/usr/local/lib/python3.7/dist-packages/sklearn/metrics/_regression.py:582: UndefinedMetricWarning: R^2 score is not well-defined with less than two samples.\n",
            "  warnings.warn(msg, UndefinedMetricWarning)\n",
            "/usr/local/lib/python3.7/dist-packages/sklearn/metrics/_regression.py:582: UndefinedMetricWarning: R^2 score is not well-defined with less than two samples.\n",
            "  warnings.warn(msg, UndefinedMetricWarning)\n",
            "/usr/local/lib/python3.7/dist-packages/sklearn/metrics/_regression.py:582: UndefinedMetricWarning: R^2 score is not well-defined with less than two samples.\n",
            "  warnings.warn(msg, UndefinedMetricWarning)\n"
          ],
          "name": "stderr"
        },
        {
          "output_type": "stream",
          "text": [
            "Decision Tree Test Val:  [2137] Predicted Val:  [2163.] Errors R2 | RMSE | MAE:  nan 26.0 26.0\n",
            "Random Forest Test Val:  [2137] Predicted Val:  [2213.66666667] Errors R2 | RMSE | MAE:  nan 76.66666666666606 76.66666666666606\n",
            "SVR Test Val:  [2137] Predicted Val:  [2784.0666337] Errors R2 | RMSE | MAE:  nan 647.0666336978725 647.0666336978725\n",
            "MLP(Adam) Test Val:  [2137] Predicted Val:  [2422.83433131] Errors R2 | RMSE | MAE:  nan 285.8343313138407 285.8343313138407\n",
            "Lasso Test Val:  [2137] Predicted Val:  [2035.22857143] Errors R2 | RMSE | MAE:  nan 101.7714285714319 101.7714285714319\n",
            "Bayesian Test Val:  [2137] Predicted Val:  [2041.95230407] Errors R2 | RMSE | MAE:  nan 95.04769593081437 95.04769593081437\n",
            "Ridge Test Val:  [2137] Predicted Val:  [2050.61627907] Errors R2 | RMSE | MAE:  nan 86.38372093020007 86.38372093020007\n",
            "Linear Regression Test Val:  [2137] Predicted Val:  [2035.14285714] Errors R2 | RMSE | MAE:  nan 101.85714285715949 101.85714285715949\n",
            "Neural Net Test Val:  [2137] Predicted Val:  [[3340.475830078125]] Errors R2 | RMSE | MAE:  nan 1203.475830078125 1203.475830078125\n",
            "2018 BEST MLP:  [2137] [2422.83433131]\n",
            "~~~~~~~~~~~~~~~~~~~~~ Theft ~~~~~~~~~~~~~~~~~~~~~\n",
            "[2010 2011 2012 2013 2014 2015 2016 2017]\n"
          ],
          "name": "stdout"
        },
        {
          "output_type": "stream",
          "text": [
            "/usr/local/lib/python3.7/dist-packages/sklearn/metrics/_regression.py:582: UndefinedMetricWarning: R^2 score is not well-defined with less than two samples.\n",
            "  warnings.warn(msg, UndefinedMetricWarning)\n",
            "/usr/local/lib/python3.7/dist-packages/sklearn/metrics/_regression.py:582: UndefinedMetricWarning: R^2 score is not well-defined with less than two samples.\n",
            "  warnings.warn(msg, UndefinedMetricWarning)\n",
            "/usr/local/lib/python3.7/dist-packages/sklearn/metrics/_regression.py:582: UndefinedMetricWarning: R^2 score is not well-defined with less than two samples.\n",
            "  warnings.warn(msg, UndefinedMetricWarning)\n",
            "/usr/local/lib/python3.7/dist-packages/sklearn/metrics/_regression.py:582: UndefinedMetricWarning: R^2 score is not well-defined with less than two samples.\n",
            "  warnings.warn(msg, UndefinedMetricWarning)\n",
            "/usr/local/lib/python3.7/dist-packages/sklearn/metrics/_regression.py:582: UndefinedMetricWarning: R^2 score is not well-defined with less than two samples.\n",
            "  warnings.warn(msg, UndefinedMetricWarning)\n",
            "/usr/local/lib/python3.7/dist-packages/sklearn/metrics/_regression.py:582: UndefinedMetricWarning: R^2 score is not well-defined with less than two samples.\n",
            "  warnings.warn(msg, UndefinedMetricWarning)\n",
            "/usr/local/lib/python3.7/dist-packages/sklearn/metrics/_regression.py:582: UndefinedMetricWarning: R^2 score is not well-defined with less than two samples.\n",
            "  warnings.warn(msg, UndefinedMetricWarning)\n",
            "/usr/local/lib/python3.7/dist-packages/sklearn/metrics/_regression.py:582: UndefinedMetricWarning: R^2 score is not well-defined with less than two samples.\n",
            "  warnings.warn(msg, UndefinedMetricWarning)\n",
            "/usr/local/lib/python3.7/dist-packages/sklearn/metrics/_regression.py:582: UndefinedMetricWarning: R^2 score is not well-defined with less than two samples.\n",
            "  warnings.warn(msg, UndefinedMetricWarning)\n"
          ],
          "name": "stderr"
        },
        {
          "output_type": "stream",
          "text": [
            "Decision Tree Test Val:  [5561] Predicted Val:  [5833.] Errors R2 | RMSE | MAE:  nan 272.0 272.0\n",
            "Random Forest Test Val:  [5561] Predicted Val:  [6020.46083333] Errors R2 | RMSE | MAE:  nan 459.46083333333354 459.46083333333354\n",
            "SVR Test Val:  [5561] Predicted Val:  [7769.48878868] Errors R2 | RMSE | MAE:  nan 2208.4887886806746 2208.4887886806746\n",
            "MLP(Adam) Test Val:  [5561] Predicted Val:  [6702.34810153] Errors R2 | RMSE | MAE:  nan 1141.3481015304533 1141.3481015304533\n",
            "Lasso Test Val:  [5561] Predicted Val:  [5489.76428571] Errors R2 | RMSE | MAE:  nan 71.23571428563446 71.23571428563446\n",
            "Bayesian Test Val:  [5561] Predicted Val:  [5515.8122099] Errors R2 | RMSE | MAE:  nan 45.18779009731952 45.18779009731952\n",
            "Ridge Test Val:  [5561] Predicted Val:  [5537.31976744] Errors R2 | RMSE | MAE:  nan 23.680232558166608 23.680232558166608\n",
            "Linear Regression Test Val:  [5561] Predicted Val:  [5489.67857143] Errors R2 | RMSE | MAE:  nan 71.32142857147846 71.32142857147846\n",
            "Neural Net Test Val:  [5561] Predicted Val:  [[4919.43115234375]] Errors R2 | RMSE | MAE:  nan 641.56884765625 641.56884765625\n",
            "2018 BEST MLP:  [5561] [6702.34810153]\n",
            "~~~~~~~~~~~~~~~~~~~~~ Arms Act ~~~~~~~~~~~~~~~~~~~~~\n",
            "[2010 2011 2012 2013 2014 2015 2016 2017]\n"
          ],
          "name": "stdout"
        },
        {
          "output_type": "stream",
          "text": [
            "/usr/local/lib/python3.7/dist-packages/sklearn/metrics/_regression.py:582: UndefinedMetricWarning: R^2 score is not well-defined with less than two samples.\n",
            "  warnings.warn(msg, UndefinedMetricWarning)\n",
            "/usr/local/lib/python3.7/dist-packages/sklearn/metrics/_regression.py:582: UndefinedMetricWarning: R^2 score is not well-defined with less than two samples.\n",
            "  warnings.warn(msg, UndefinedMetricWarning)\n",
            "/usr/local/lib/python3.7/dist-packages/sklearn/metrics/_regression.py:582: UndefinedMetricWarning: R^2 score is not well-defined with less than two samples.\n",
            "  warnings.warn(msg, UndefinedMetricWarning)\n",
            "/usr/local/lib/python3.7/dist-packages/sklearn/metrics/_regression.py:582: UndefinedMetricWarning: R^2 score is not well-defined with less than two samples.\n",
            "  warnings.warn(msg, UndefinedMetricWarning)\n",
            "/usr/local/lib/python3.7/dist-packages/sklearn/metrics/_regression.py:582: UndefinedMetricWarning: R^2 score is not well-defined with less than two samples.\n",
            "  warnings.warn(msg, UndefinedMetricWarning)\n",
            "/usr/local/lib/python3.7/dist-packages/sklearn/metrics/_regression.py:582: UndefinedMetricWarning: R^2 score is not well-defined with less than two samples.\n",
            "  warnings.warn(msg, UndefinedMetricWarning)\n",
            "/usr/local/lib/python3.7/dist-packages/sklearn/metrics/_regression.py:582: UndefinedMetricWarning: R^2 score is not well-defined with less than two samples.\n",
            "  warnings.warn(msg, UndefinedMetricWarning)\n",
            "/usr/local/lib/python3.7/dist-packages/sklearn/metrics/_regression.py:582: UndefinedMetricWarning: R^2 score is not well-defined with less than two samples.\n",
            "  warnings.warn(msg, UndefinedMetricWarning)\n",
            "/usr/local/lib/python3.7/dist-packages/sklearn/metrics/_regression.py:582: UndefinedMetricWarning: R^2 score is not well-defined with less than two samples.\n",
            "  warnings.warn(msg, UndefinedMetricWarning)\n"
          ],
          "name": "stderr"
        },
        {
          "output_type": "stream",
          "text": [
            "Decision Tree Test Val:  [2515] Predicted Val:  [2208.] Errors R2 | RMSE | MAE:  nan 307.0 307.0\n",
            "Random Forest Test Val:  [2515] Predicted Val:  [2231.03266667] Errors R2 | RMSE | MAE:  nan 283.9673333333335 283.9673333333335\n",
            "SVR Test Val:  [2515] Predicted Val:  [1801.24308361] Errors R2 | RMSE | MAE:  nan 713.7569163865796 713.7569163865796\n",
            "MLP(Adam) Test Val:  [2515] Predicted Val:  [2757.25939834] Errors R2 | RMSE | MAE:  nan 242.25939834050178 242.25939834050178\n",
            "Lasso Test Val:  [2515] Predicted Val:  [2438.55714286] Errors R2 | RMSE | MAE:  nan 76.44285714282887 76.44285714282887\n",
            "Bayesian Test Val:  [2515] Predicted Val:  [2415.80780367] Errors R2 | RMSE | MAE:  nan 99.19219632691238 99.19219632691238\n",
            "Ridge Test Val:  [2515] Predicted Val:  [2424.00290698] Errors R2 | RMSE | MAE:  nan 90.99709302326664 90.99709302326664\n",
            "Linear Regression Test Val:  [2515] Predicted Val:  [2438.64285714] Errors R2 | RMSE | MAE:  nan 76.35714285715949 76.35714285715949\n",
            "Neural Net Test Val:  [2515] Predicted Val:  [[3685.64697265625]] Errors R2 | RMSE | MAE:  nan 1170.64697265625 1170.64697265625\n",
            "2018 BEST MLP:  [2515] [2757.25939834]\n",
            "~~~~~~~~~~~~~~~~~~~~~ Explosive ~~~~~~~~~~~~~~~~~~~~~\n",
            "[2010 2011 2012 2013 2014 2015 2016 2017]\n"
          ],
          "name": "stdout"
        },
        {
          "output_type": "stream",
          "text": [
            "/usr/local/lib/python3.7/dist-packages/sklearn/metrics/_regression.py:582: UndefinedMetricWarning: R^2 score is not well-defined with less than two samples.\n",
            "  warnings.warn(msg, UndefinedMetricWarning)\n",
            "/usr/local/lib/python3.7/dist-packages/sklearn/metrics/_regression.py:582: UndefinedMetricWarning: R^2 score is not well-defined with less than two samples.\n",
            "  warnings.warn(msg, UndefinedMetricWarning)\n",
            "/usr/local/lib/python3.7/dist-packages/sklearn/metrics/_regression.py:582: UndefinedMetricWarning: R^2 score is not well-defined with less than two samples.\n",
            "  warnings.warn(msg, UndefinedMetricWarning)\n",
            "/usr/local/lib/python3.7/dist-packages/sklearn/metrics/_regression.py:582: UndefinedMetricWarning: R^2 score is not well-defined with less than two samples.\n",
            "  warnings.warn(msg, UndefinedMetricWarning)\n",
            "/usr/local/lib/python3.7/dist-packages/sklearn/metrics/_regression.py:582: UndefinedMetricWarning: R^2 score is not well-defined with less than two samples.\n",
            "  warnings.warn(msg, UndefinedMetricWarning)\n",
            "/usr/local/lib/python3.7/dist-packages/sklearn/metrics/_regression.py:582: UndefinedMetricWarning: R^2 score is not well-defined with less than two samples.\n",
            "  warnings.warn(msg, UndefinedMetricWarning)\n",
            "/usr/local/lib/python3.7/dist-packages/sklearn/metrics/_regression.py:582: UndefinedMetricWarning: R^2 score is not well-defined with less than two samples.\n",
            "  warnings.warn(msg, UndefinedMetricWarning)\n",
            "/usr/local/lib/python3.7/dist-packages/sklearn/metrics/_regression.py:582: UndefinedMetricWarning: R^2 score is not well-defined with less than two samples.\n",
            "  warnings.warn(msg, UndefinedMetricWarning)\n",
            "/usr/local/lib/python3.7/dist-packages/sklearn/metrics/_regression.py:582: UndefinedMetricWarning: R^2 score is not well-defined with less than two samples.\n",
            "  warnings.warn(msg, UndefinedMetricWarning)\n"
          ],
          "name": "stderr"
        },
        {
          "output_type": "stream",
          "text": [
            "Decision Tree Test Val:  [1310] Predicted Val:  [362.] Errors R2 | RMSE | MAE:  nan 948.0 948.0\n",
            "Random Forest Test Val:  [1310] Predicted Val:  [471.2335] Errors R2 | RMSE | MAE:  nan 838.7665 838.7665\n",
            "SVR Test Val:  [1310] Predicted Val:  [423.32467298] Errors R2 | RMSE | MAE:  nan 886.6753270164127 886.6753270164127\n",
            "MLP(Adam) Test Val:  [1310] Predicted Val:  [641.0979059] Errors R2 | RMSE | MAE:  nan 668.9020940951294 668.9020940951294\n",
            "Lasso Test Val:  [1310] Predicted Val:  [641.02142857] Errors R2 | RMSE | MAE:  nan 668.9785714285681 668.9785714285681\n",
            "Bayesian Test Val:  [1310] Predicted Val:  [481.27086053] Errors R2 | RMSE | MAE:  nan 828.7291394689148 828.7291394689148\n",
            "Ridge Test Val:  [1310] Predicted Val:  [637.38953488] Errors R2 | RMSE | MAE:  nan 672.610465116275 672.610465116275\n",
            "Linear Regression Test Val:  [1310] Predicted Val:  [641.10714286] Errors R2 | RMSE | MAE:  nan 668.8928571428551 668.8928571428551\n",
            "Neural Net Test Val:  [1310] Predicted Val:  [[2595.81884765625]] Errors R2 | RMSE | MAE:  nan 1285.81884765625 1285.81884765625\n",
            "2018 BEST MLP:  [1310] [641.0979059]\n",
            "~~~~~~~~~~~~~~~~~~~~~ Narcotics ~~~~~~~~~~~~~~~~~~~~~\n",
            "[2010 2011 2012 2013 2014 2015 2016 2017]\n"
          ],
          "name": "stdout"
        },
        {
          "output_type": "stream",
          "text": [
            "/usr/local/lib/python3.7/dist-packages/sklearn/neural_network/_multilayer_perceptron.py:571: ConvergenceWarning: Stochastic Optimizer: Maximum iterations (10000) reached and the optimization hasn't converged yet.\n",
            "  % self.max_iter, ConvergenceWarning)\n",
            "/usr/local/lib/python3.7/dist-packages/sklearn/metrics/_regression.py:582: UndefinedMetricWarning: R^2 score is not well-defined with less than two samples.\n",
            "  warnings.warn(msg, UndefinedMetricWarning)\n",
            "/usr/local/lib/python3.7/dist-packages/sklearn/metrics/_regression.py:582: UndefinedMetricWarning: R^2 score is not well-defined with less than two samples.\n",
            "  warnings.warn(msg, UndefinedMetricWarning)\n",
            "/usr/local/lib/python3.7/dist-packages/sklearn/metrics/_regression.py:582: UndefinedMetricWarning: R^2 score is not well-defined with less than two samples.\n",
            "  warnings.warn(msg, UndefinedMetricWarning)\n",
            "/usr/local/lib/python3.7/dist-packages/sklearn/metrics/_regression.py:582: UndefinedMetricWarning: R^2 score is not well-defined with less than two samples.\n",
            "  warnings.warn(msg, UndefinedMetricWarning)\n",
            "/usr/local/lib/python3.7/dist-packages/sklearn/metrics/_regression.py:582: UndefinedMetricWarning: R^2 score is not well-defined with less than two samples.\n",
            "  warnings.warn(msg, UndefinedMetricWarning)\n",
            "/usr/local/lib/python3.7/dist-packages/sklearn/metrics/_regression.py:582: UndefinedMetricWarning: R^2 score is not well-defined with less than two samples.\n",
            "  warnings.warn(msg, UndefinedMetricWarning)\n",
            "/usr/local/lib/python3.7/dist-packages/sklearn/metrics/_regression.py:582: UndefinedMetricWarning: R^2 score is not well-defined with less than two samples.\n",
            "  warnings.warn(msg, UndefinedMetricWarning)\n",
            "/usr/local/lib/python3.7/dist-packages/sklearn/metrics/_regression.py:582: UndefinedMetricWarning: R^2 score is not well-defined with less than two samples.\n",
            "  warnings.warn(msg, UndefinedMetricWarning)\n",
            "/usr/local/lib/python3.7/dist-packages/sklearn/metrics/_regression.py:582: UndefinedMetricWarning: R^2 score is not well-defined with less than two samples.\n",
            "  warnings.warn(msg, UndefinedMetricWarning)\n"
          ],
          "name": "stderr"
        },
        {
          "output_type": "stream",
          "text": [
            "Decision Tree Test Val:  [112549] Predicted Val:  [98984.] Errors R2 | RMSE | MAE:  nan 13565.0 13565.0\n",
            "Random Forest Test Val:  [112549] Predicted Val:  [85923.195] Errors R2 | RMSE | MAE:  nan 26625.804999999993 26625.804999999993\n",
            "SVR Test Val:  [112549] Predicted Val:  [39884.74345596] Errors R2 | RMSE | MAE:  nan 72664.25654404334 72664.25654404334\n",
            "MLP(Adam) Test Val:  [112549] Predicted Val:  [101269.7823392] Errors R2 | RMSE | MAE:  nan 11279.217660796276 11279.217660796276\n",
            "Lasso Test Val:  [112549] Predicted Val:  [84503.66428571] Errors R2 | RMSE | MAE:  nan 28045.335714286193 28045.335714286193\n",
            "Bayesian Test Val:  [112549] Predicted Val:  [48186.87934476] Errors R2 | RMSE | MAE:  nan 64362.12065524275 64362.12065524275\n",
            "Ridge Test Val:  [112549] Predicted Val:  [83659.17151163] Errors R2 | RMSE | MAE:  nan 28889.828488372266 28889.828488372266\n",
            "Linear Regression Test Val:  [112549] Predicted Val:  [84503.75] Errors R2 | RMSE | MAE:  nan 28045.25 28045.25\n",
            "Neural Net Test Val:  [112549] Predicted Val:  [[29375.783203125]] Errors R2 | RMSE | MAE:  nan 83173.216796875 83173.216796875\n",
            "2018 BEST MLP:  [112549] [101269.7823392]\n",
            "~~~~~~~~~~~~~~~~~~~~~ Smuggling ~~~~~~~~~~~~~~~~~~~~~\n",
            "[2010 2011 2012 2013 2014 2015 2016 2017]\n"
          ],
          "name": "stdout"
        },
        {
          "output_type": "stream",
          "text": [
            "/usr/local/lib/python3.7/dist-packages/sklearn/metrics/_regression.py:582: UndefinedMetricWarning: R^2 score is not well-defined with less than two samples.\n",
            "  warnings.warn(msg, UndefinedMetricWarning)\n",
            "/usr/local/lib/python3.7/dist-packages/sklearn/metrics/_regression.py:582: UndefinedMetricWarning: R^2 score is not well-defined with less than two samples.\n",
            "  warnings.warn(msg, UndefinedMetricWarning)\n",
            "/usr/local/lib/python3.7/dist-packages/sklearn/metrics/_regression.py:582: UndefinedMetricWarning: R^2 score is not well-defined with less than two samples.\n",
            "  warnings.warn(msg, UndefinedMetricWarning)\n",
            "/usr/local/lib/python3.7/dist-packages/sklearn/metrics/_regression.py:582: UndefinedMetricWarning: R^2 score is not well-defined with less than two samples.\n",
            "  warnings.warn(msg, UndefinedMetricWarning)\n",
            "/usr/local/lib/python3.7/dist-packages/sklearn/metrics/_regression.py:582: UndefinedMetricWarning: R^2 score is not well-defined with less than two samples.\n",
            "  warnings.warn(msg, UndefinedMetricWarning)\n",
            "/usr/local/lib/python3.7/dist-packages/sklearn/metrics/_regression.py:582: UndefinedMetricWarning: R^2 score is not well-defined with less than two samples.\n",
            "  warnings.warn(msg, UndefinedMetricWarning)\n",
            "/usr/local/lib/python3.7/dist-packages/sklearn/metrics/_regression.py:582: UndefinedMetricWarning: R^2 score is not well-defined with less than two samples.\n",
            "  warnings.warn(msg, UndefinedMetricWarning)\n",
            "/usr/local/lib/python3.7/dist-packages/sklearn/metrics/_regression.py:582: UndefinedMetricWarning: R^2 score is not well-defined with less than two samples.\n",
            "  warnings.warn(msg, UndefinedMetricWarning)\n",
            "/usr/local/lib/python3.7/dist-packages/sklearn/metrics/_regression.py:582: UndefinedMetricWarning: R^2 score is not well-defined with less than two samples.\n",
            "  warnings.warn(msg, UndefinedMetricWarning)\n"
          ],
          "name": "stderr"
        },
        {
          "output_type": "stream",
          "text": [
            "Decision Tree Test Val:  [4501] Predicted Val:  [5599.] Errors R2 | RMSE | MAE:  nan 1098.0 1098.0\n",
            "Random Forest Test Val:  [4501] Predicted Val:  [5439.92] Errors R2 | RMSE | MAE:  nan 938.9200000000001 938.9200000000001\n",
            "SVR Test Val:  [4501] Predicted Val:  [6269.58392781] Errors R2 | RMSE | MAE:  nan 1768.5839278060894 1768.5839278060894\n",
            "MLP(Adam) Test Val:  [4501] Predicted Val:  [5475.81479434] Errors R2 | RMSE | MAE:  nan 974.8147943363847 974.8147943363847\n",
            "Lasso Test Val:  [4501] Predicted Val:  [5433.55] Errors R2 | RMSE | MAE:  nan 932.5499999999884 932.5499999999884\n",
            "Bayesian Test Val:  [4501] Predicted Val:  [5717.653916] Errors R2 | RMSE | MAE:  nan 1216.6539159981185 1216.6539159981185\n",
            "Ridge Test Val:  [4501] Predicted Val:  [5447.62209302] Errors R2 | RMSE | MAE:  nan 946.6220930232666 946.6220930232666\n",
            "Linear Regression Test Val:  [4501] Predicted Val:  [5433.46428571] Errors R2 | RMSE | MAE:  nan 932.4642857142608 932.4642857142608\n",
            "Neural Net Test Val:  [4501] Predicted Val:  [[15312.06640625]] Errors R2 | RMSE | MAE:  nan 10811.06640625 10811.06640625\n",
            "2018 BEST MLP:  [4501] [5475.81479434]\n",
            "~~~~~~~~~~~~~~~~~~~~~ Other Cases ~~~~~~~~~~~~~~~~~~~~~\n",
            "[2010 2011 2012 2013 2014 2015 2016 2017]\n",
            "Decision Tree Test Val:  [69736] Predicted Val:  [74645.] Errors R2 | RMSE | MAE:  nan 4909.0 4909.0\n",
            "Random Forest Test Val:  [69736] Predicted Val:  [76399.96] Errors R2 | RMSE | MAE:  nan 6663.960000000006 6663.960000000006\n",
            "SVR Test Val:  [69736] Predicted Val:  [87744.53321608] Errors R2 | RMSE | MAE:  nan 18008.53321608019 18008.53321608019\n",
            "MLP(Adam) Test Val:  [69736] Predicted Val:  [76912.15151266] Errors R2 | RMSE | MAE:  nan 7176.151512658951 7176.151512658951\n",
            "Lasso Test Val:  [69736] Predicted Val:  [76912.15714286] Errors R2 | RMSE | MAE:  nan 7176.15714285709 7176.15714285709\n",
            "Bayesian Test Val:  [69736] Predicted Val:  [78316.11417811] Errors R2 | RMSE | MAE:  nan 8580.114178112708 8580.114178112708\n",
            "Ridge Test Val:  [69736] Predicted Val:  [77136.34011628] Errors R2 | RMSE | MAE:  nan 7400.3401162792 7400.3401162792\n",
            "Linear Regression Test Val:  [69736] Predicted Val:  [76912.07142857] Errors R2 | RMSE | MAE:  nan 7176.071428571828 7176.071428571828\n",
            "Neural Net Test Val:  [69736] Predicted Val:  [[61687.97265625]] Errors R2 | RMSE | MAE:  nan 8048.02734375 8048.02734375\n",
            "2018 BEST MLP:  [69736] [76912.15151266]\n"
          ],
          "name": "stdout"
        },
        {
          "output_type": "stream",
          "text": [
            "/usr/local/lib/python3.7/dist-packages/sklearn/metrics/_regression.py:582: UndefinedMetricWarning: R^2 score is not well-defined with less than two samples.\n",
            "  warnings.warn(msg, UndefinedMetricWarning)\n",
            "/usr/local/lib/python3.7/dist-packages/sklearn/metrics/_regression.py:582: UndefinedMetricWarning: R^2 score is not well-defined with less than two samples.\n",
            "  warnings.warn(msg, UndefinedMetricWarning)\n",
            "/usr/local/lib/python3.7/dist-packages/sklearn/metrics/_regression.py:582: UndefinedMetricWarning: R^2 score is not well-defined with less than two samples.\n",
            "  warnings.warn(msg, UndefinedMetricWarning)\n",
            "/usr/local/lib/python3.7/dist-packages/sklearn/metrics/_regression.py:582: UndefinedMetricWarning: R^2 score is not well-defined with less than two samples.\n",
            "  warnings.warn(msg, UndefinedMetricWarning)\n",
            "/usr/local/lib/python3.7/dist-packages/sklearn/metrics/_regression.py:582: UndefinedMetricWarning: R^2 score is not well-defined with less than two samples.\n",
            "  warnings.warn(msg, UndefinedMetricWarning)\n",
            "/usr/local/lib/python3.7/dist-packages/sklearn/metrics/_regression.py:582: UndefinedMetricWarning: R^2 score is not well-defined with less than two samples.\n",
            "  warnings.warn(msg, UndefinedMetricWarning)\n",
            "/usr/local/lib/python3.7/dist-packages/sklearn/metrics/_regression.py:582: UndefinedMetricWarning: R^2 score is not well-defined with less than two samples.\n",
            "  warnings.warn(msg, UndefinedMetricWarning)\n",
            "/usr/local/lib/python3.7/dist-packages/sklearn/metrics/_regression.py:582: UndefinedMetricWarning: R^2 score is not well-defined with less than two samples.\n",
            "  warnings.warn(msg, UndefinedMetricWarning)\n",
            "/usr/local/lib/python3.7/dist-packages/sklearn/metrics/_regression.py:582: UndefinedMetricWarning: R^2 score is not well-defined with less than two samples.\n",
            "  warnings.warn(msg, UndefinedMetricWarning)\n"
          ],
          "name": "stderr"
        }
      ]
    },
    {
      "cell_type": "code",
      "metadata": {
        "id": "-pc-bosPC2xN",
        "cellView": "form"
      },
      "source": [
        "#@title Hidden code\n",
        "# # dmp_x = dmp.loc[:, dmp.columns != 'Robbery']\n",
        "# # dmp_y = dmp['Robbery']\n",
        "# for col in dmp.columns[1:].unique():\n",
        "#   print('~~~~~~~~~~~~~~~~~~~~~', col, '~~~~~~~~~~~~~~~~~~~~~')\n",
        "#   dmp_x = dmp['Year'].values\n",
        "#   dmp_y = dmp[col].values\n",
        "\n",
        "#   train_x, test_x, train_y, test_y = train_test_split(dmp_x, dmp_y, test_size = 0.25, random_state=0)\n",
        "\n",
        "#   # Standard scaling\n",
        "#   ss = StandardScaler()\n",
        "#   ss.fit(train_x.reshape(-1, 1))\n",
        "#   ss_train_x = ss.transform(train_x.reshape(-1, 1))\n",
        "#   ss_test_x = ss.transform(test_x.reshape(-1, 1))\n",
        "\n",
        "#   print(train_x)\n",
        "#   print(test_x)\n",
        "\n",
        "\n",
        "\n",
        "#   # pred for single data\n",
        "#   Xnew = [[2018]]\n",
        "#   print(len(Xnew[0]))\n",
        "#   # print(len(dmp_x.columns))\n",
        "\n",
        "\n",
        "\n",
        "\n",
        "#   regressor = DecisionTreeRegressor(random_state=0)\n",
        "#   forest = RandomForestRegressor(max_depth=2, random_state=0)\n",
        "#   svr = make_pipeline(StandardScaler(), SVR(C=1.0, epsilon=0.2))\n",
        "#   mlp = MLPRegressor(random_state=0, max_iter = 2000)\n",
        "#   lasso = linear_model.Lasso(alpha=0.1)\n",
        "#   bayesian = linear_model.BayesianRidge()\n",
        "#   ridge = linear_model.Ridge()\n",
        "#   lr = LinearRegression()\n",
        "\n",
        "#   regressor.fit(train_x.reshape(-1, 1),train_y)  \n",
        "#   forest.fit(train_x.reshape(-1, 1),train_y) \n",
        "#   svr.fit(train_x.reshape(-1, 1),train_y)\n",
        "#   mlp.fit(ss_train_x.reshape(-1,1),train_y) \n",
        "#   lasso.fit(train_x.reshape(-1,1),train_y) \n",
        "#   bayesian.fit(train_x.reshape(-1,1),train_y) \n",
        "#   ridge.fit(train_x.reshape(-1,1),train_y) \n",
        "#   lr.fit(train_x.reshape(-1,1),train_y)\n",
        "\n",
        "\n",
        "#   pred_y = regressor.predict(test_x.reshape(-1, 1))\n",
        "#   pred_y1 = forest.predict(test_x.reshape(-1, 1)) \n",
        "#   pred_y2 = svr.predict(test_x.reshape(-1, 1)) \n",
        "#   pred_y3 = mlp.predict(ss_test_x.reshape(-1, 1))\n",
        "#   pred_y4 = lasso.predict(test_x.reshape(-1,1))\n",
        "#   pred_y5 = bayesian.predict(test_x.reshape(-1,1))\n",
        "#   pred_y6 = ridge.predict(test_x.reshape(-1,1))\n",
        "#   pred_y7 = lr.predict(test_x.reshape(-1,1))\n",
        "\n",
        "#   error_y = (pred_y - test_y) / test_y #lower the better\n",
        "#   error_y1 = (pred_y1 - test_y) / test_y\n",
        "#   error_y2 = (pred_y2 - test_y) / test_y\n",
        "#   error_y3 = (pred_y3 - test_y) / test_y\n",
        "#   error_y4 = (pred_y4 - test_y) / test_y\n",
        "#   error_y5 = (pred_y5 - test_y) / test_y\n",
        "#   error_y6 = (pred_y6 - test_y) / test_y\n",
        "#   error_y7 = (pred_y7 - test_y) / test_y\n",
        "\n",
        "\n",
        "#   Xpred_y = mlp.predict(Xnew) #one data only\n",
        "\n",
        "\n",
        "#   # m2_y = mean_squared_error(test_y,pred_y, squared=False)\n",
        "\n",
        "#   # print(test_y)\n",
        "#   print('Test DT: ',test_y,pred_y,error_y) # Decision Tree\n",
        "#   print('Test RF: ',test_y,pred_y1,error_y1) # Random Forest\n",
        "#   print('Test SVR: ',test_y,pred_y2,error_y2) # SVM\n",
        "#   print('Test MLP: ',test_y,pred_y3,error_y3) # mlp\n",
        "#   print('Test Lasso: ',test_y,pred_y4,error_y4) # lasso\n",
        "#   print('Test Bayesian: ',test_y,pred_y5,error_y5) # bayesian\n",
        "#   print('Test Ridge: ',test_y,pred_y6,error_y6) # ridge\n",
        "#   print('Test Linear Regression: ',test_y,pred_y7,error_y7) # lr\n",
        "\n",
        "#   print('2018 BEST MLP: ',Xnew,Xpred_y) # Decision Tree\n",
        "\n",
        "\n"
      ],
      "execution_count": null,
      "outputs": []
    },
    {
      "cell_type": "markdown",
      "metadata": {
        "id": "U1BfsePCmAlB"
      },
      "source": [
        "K Fold Stuff"
      ]
    },
    {
      "cell_type": "code",
      "metadata": {
        "id": "Ohmwjbp3Ywge"
      },
      "source": [
        "# # scikit-learn k-fold cross-validation\n",
        "# from numpy import array\n",
        "# from sklearn.model_selection import KFold\n",
        "# # data sample\n",
        "# data = array([0.1, 0.2, 0.3, 0.4, 0.5, 0.6])\n",
        "# # prepare cross validation\n",
        "# kfold = KFold(3, True, 1)\n",
        "# # enumerate splits\n",
        "# for train, test in kfold.split(data):\n",
        "# \tprint('train: %s, test: %s' % (data[train], data[test]))"
      ],
      "execution_count": null,
      "outputs": []
    },
    {
      "cell_type": "code",
      "metadata": {
        "id": "cF47a3kqmqOO"
      },
      "source": [
        "def kfoldize(dmp, dmp_2018, kfoldnumber):\n",
        "  kfold = KFold(kfoldnumber, True, 1)\n",
        "  writer = pd.ExcelWriter('Kfoldtrain_test_pred_errors_data.xlsx', engine='xlsxwriter')\n",
        "\n",
        "  for col in dmp.columns[1:].unique():\n",
        "    print('~~~~~~~~~~~~~~~~~~~~~', col, '~~~~~~~~~~~~~~~~~~~~~')\n",
        "    dmp_x = dmp['Year'].values\n",
        "    dmp_y = dmp[col].values\n",
        "\n",
        "    dmp_2018_x = dmp_2018['Year'].values\n",
        "    dmp_2018_y = dmp_2018[col].values\n",
        "\n",
        "    count = 0\n",
        "    test_pred_error_data = pd.DataFrame(columns =['Kfold Iteration','Algorithms','Test Years','Test Values','Predicted Values','R2 Score','Mean Square Error(MSE)','Mean Absolute Error(MAE)'])\n",
        "\n",
        "    for train_index, test_index in kfold.split(dmp_x):\n",
        "      # all kfolds train test splits\n",
        "      print('train: %s, test: %s' % (dmp_x[train_index], dmp_x[test_index]))\n",
        "      print('train: %s, test: %s' % (dmp_y[train_index], dmp_y[test_index]))\n",
        "      # print(\"TRAIN:\", train_index, \"TEST:\", test_index)\n",
        "\n",
        "      mlp = make_pipeline(StandardScaler(), MLPRegressor(random_state=None, max_iter = 10000, learning_rate_init=0.01))\n",
        "      # bayesian = linear_model.BayesianRidge() \n",
        "      # mlp = LinearRegression() # Test purposes\n",
        "      mlp.fit(dmp_x[train_index].reshape(-1,1),dmp_y[train_index])\n",
        "      pred_y3 = mlp.predict(dmp_x[test_index].reshape(-1, 1))\n",
        "\n",
        "      # predict 2018\n",
        "      Xpred_y = mlp.predict(dmp_2018_x.reshape(-1, 1))\n",
        "\n",
        "      r2_y = R2_calc(pred_y3, dmp_y[test_index])\n",
        "      mse_y = MSE_calc(pred_y3, dmp_y[test_index])\n",
        "      mae_y = MAE_calc(pred_y3, dmp_y[test_index])\n",
        "\n",
        "\n",
        "      # Put in dataframes\n",
        "      # errors_data = pd.DataFrame('MLP',r2_y,mse_y,mae_y,\n",
        "      #           columns =['Algorithms','R2 Score','Mean Square Error(MSE)','Mean Absolute Error(MAE)'])\n",
        "      # print(errors_data)\n",
        "      test_pred_error_data.loc[count] = [count,'MLP', dmp_x[test_index],dmp_y[test_index], np.around(pred_y3,2), r2_y, mse_y, mae_y]\n",
        "      count+=1\n",
        "      print(count)\n",
        "      \n",
        "\n",
        "\n",
        "\n",
        "      print('Test Val: ',dmp_y[test_index], 'Predicted Val: ', pred_y3, 'R2 | RMSE | MAE Errors', r2_y, mse_y, mae_y)\n",
        "\n",
        "      # print(precision_recall_fscore_support(dmp_y[test_index], pred_y3, average='macro'))\n",
        "      # error_y3 = (pred_y3 - dmp_y[test_index]) / dmp_y[test_index]\n",
        "      # print(error_y3)\n",
        "\n",
        "      print(dmp_2018_x[0], 'BEST MLP: ', 'Test Val: ', dmp_2018_y[0], 'Predicted Val: ',Xpred_y) # Decision Tree\n",
        "\n",
        "      print('\\n')\n",
        "\n",
        "    # print(test_pred_error_data)\n",
        "    test_pred_error_data.to_excel(writer, sheet_name=col,index=False)\n",
        "\n",
        "  writer.save()\n",
        "\n"
      ],
      "execution_count": null,
      "outputs": []
    },
    {
      "cell_type": "code",
      "metadata": {
        "colab": {
          "base_uri": "https://localhost:8080/"
        },
        "id": "DLiB5nyQf_Nc",
        "outputId": "ee10fb01-5c90-4571-df3b-02b132cf67f5"
      },
      "source": [
        "kfoldize(dmp_till2017, dmp_2018, 5) # kfold with 5 folds"
      ],
      "execution_count": null,
      "outputs": [
        {
          "output_type": "stream",
          "text": [
            "~~~~~~~~~~~~~~~~~~~~~ Dacoity ~~~~~~~~~~~~~~~~~~~~~\n",
            "train: [2010 2011 2013 2014 2015 2016], test: [2012 2017]\n",
            "train: [656 650 613 651 492 408], test: [593 336]\n",
            "1\n",
            "Test Val:  [593 336] Predicted Val:  [621.26826173 544.24312778] R2 | RMSE | MAE Errors -13.888000415048374 148.6006307004739 118.25569475515027\n",
            "2018 BEST MLP:  Test Val:  262 Predicted Val:  [618.1404588]\n",
            "\n",
            "\n",
            "train: [2010 2012 2013 2014 2015 2017], test: [2011 2016]\n",
            "train: [656 593 613 651 492 336], test: [650 408]\n",
            "2\n",
            "Test Val:  [650 408] Predicted Val:  [662.96565274 450.702353  ] R2 | RMSE | MAE Errors 0.9115939279110745 31.556291790259507 27.83400287296257\n",
            "2018 BEST MLP:  Test Val:  262 Predicted Val:  [423.7399618]\n",
            "\n",
            "\n",
            "train: [2011 2012 2013 2015 2016 2017], test: [2010 2014]\n",
            "train: [650 593 613 492 408 336], test: [656 651]\n",
            "3\n",
            "Test Val:  [656 651] Predicted Val:  [734.46855847 515.34939023] R2 | RMSE | MAE Errors -0.02298524325625606 110.81155761172712 107.05958412258678\n",
            "2018 BEST MLP:  Test Val:  262 Predicted Val:  [401.04588249]\n",
            "\n",
            "\n",
            "train: [2010 2011 2012 2014 2015 2016 2017], test: [2013]\n",
            "train: [656 650 593 651 492 408 336], test: [613]\n"
          ],
          "name": "stdout"
        },
        {
          "output_type": "stream",
          "text": [
            "/usr/local/lib/python3.7/dist-packages/sklearn/metrics/_regression.py:582: UndefinedMetricWarning: R^2 score is not well-defined with less than two samples.\n",
            "  warnings.warn(msg, UndefinedMetricWarning)\n"
          ],
          "name": "stderr"
        },
        {
          "output_type": "stream",
          "text": [
            "4\n",
            "Test Val:  [613] Predicted Val:  [565.81511111] R2 | RMSE | MAE Errors nan 47.18488888905347 47.18488888905347\n",
            "2018 BEST MLP:  Test Val:  262 Predicted Val:  [442.4977761]\n",
            "\n",
            "\n",
            "train: [2010 2011 2012 2013 2014 2016 2017], test: [2015]\n",
            "train: [656 650 593 613 651 408 336], test: [492]\n"
          ],
          "name": "stdout"
        },
        {
          "output_type": "stream",
          "text": [
            "/usr/local/lib/python3.7/dist-packages/sklearn/metrics/_regression.py:582: UndefinedMetricWarning: R^2 score is not well-defined with less than two samples.\n",
            "  warnings.warn(msg, UndefinedMetricWarning)\n"
          ],
          "name": "stderr"
        },
        {
          "output_type": "stream",
          "text": [
            "5\n",
            "Test Val:  [492] Predicted Val:  [481.68637641] R2 | RMSE | MAE Errors nan 10.313623588689552 10.313623588689552\n",
            "2018 BEST MLP:  Test Val:  262 Predicted Val:  [419.63421219]\n",
            "\n",
            "\n",
            "~~~~~~~~~~~~~~~~~~~~~ Robbery ~~~~~~~~~~~~~~~~~~~~~\n",
            "train: [2010 2011 2013 2014 2015 2016], test: [2012 2017]\n",
            "train: [1059 1069 1021 1155  933  722], test: [964 657]\n",
            "1\n",
            "Test Val:  [964 657] Predicted Val:  [1041.92617534  838.36622487] R2 | RMSE | MAE Errors -0.8807598149620621 139.58186903102887 129.64620010079426\n",
            "2018 BEST MLP:  Test Val:  562 Predicted Val:  [928.91342601]\n",
            "\n",
            "\n",
            "train: [2010 2012 2013 2014 2015 2017], test: [2011 2016]\n",
            "train: [1059  964 1021 1155  933  657], test: [1069  722]\n",
            "2\n",
            "Test Val:  [1069  722] Predicted Val:  [1082.31538955  847.3073672 ] R2 | RMSE | MAE Errors 0.4249650785014395 89.10453376274363 69.3113783771501\n",
            "2018 BEST MLP:  Test Val:  562 Predicted Val:  [897.63847128]\n",
            "\n",
            "\n",
            "train: [2011 2012 2013 2015 2016 2017], test: [2010 2014]\n",
            "train: [1069  964 1021  933  722  657], test: [1059 1155]\n",
            "3\n",
            "Test Val:  [1059 1155] Predicted Val:  [1189.95798613  894.35490869] R2 | RMSE | MAE Errors -0.9474641644384358 206.259372825115 195.80153872024124\n",
            "2018 BEST MLP:  Test Val:  562 Predicted Val:  [798.16916964]\n",
            "\n",
            "\n",
            "train: [2010 2011 2012 2014 2015 2016 2017], test: [2013]\n",
            "train: [1059 1069  964 1155  933  722  657], test: [1021]\n"
          ],
          "name": "stdout"
        },
        {
          "output_type": "stream",
          "text": [
            "/usr/local/lib/python3.7/dist-packages/sklearn/metrics/_regression.py:582: UndefinedMetricWarning: R^2 score is not well-defined with less than two samples.\n",
            "  warnings.warn(msg, UndefinedMetricWarning)\n"
          ],
          "name": "stderr"
        },
        {
          "output_type": "stream",
          "text": [
            "4\n",
            "Test Val:  [1021] Predicted Val:  [967.30393964] R2 | RMSE | MAE Errors nan 53.69606035728202 53.69606035728202\n",
            "2018 BEST MLP:  Test Val:  562 Predicted Val:  [731.70959993]\n",
            "\n",
            "\n",
            "train: [2010 2011 2012 2013 2014 2016 2017], test: [2015]\n",
            "train: [1059 1069  964 1021 1155  722  657], test: [933]\n"
          ],
          "name": "stdout"
        },
        {
          "output_type": "stream",
          "text": [
            "/usr/local/lib/python3.7/dist-packages/sklearn/metrics/_regression.py:582: UndefinedMetricWarning: R^2 score is not well-defined with less than two samples.\n",
            "  warnings.warn(msg, UndefinedMetricWarning)\n"
          ],
          "name": "stderr"
        },
        {
          "output_type": "stream",
          "text": [
            "5\n",
            "Test Val:  [933] Predicted Val:  [852.67909075] R2 | RMSE | MAE Errors nan 80.32090925010391 80.32090925010391\n",
            "2018 BEST MLP:  Test Val:  562 Predicted Val:  [833.66269549]\n",
            "\n",
            "\n",
            "~~~~~~~~~~~~~~~~~~~~~ Murder ~~~~~~~~~~~~~~~~~~~~~\n",
            "train: [2010 2011 2013 2014 2015 2016], test: [2012 2017]\n",
            "train: [3988 3966 4393 4514 4037 3591], test: [4114 3549]\n",
            "1\n",
            "Test Val:  [4114 3549] Predicted Val:  [4108.33563912 4103.77838198] R2 | RMSE | MAE Errors -29640.983249300833 392.3080027828584 280.2213714280733\n",
            "2018 BEST MLP:  Test Val:  3830 Predicted Val:  [4648.07231796]\n",
            "\n",
            "\n",
            "train: [2010 2012 2013 2014 2015 2017], test: [2011 2016]\n",
            "train: [3988 4114 4393 4514 4037 3549], test: [3966 3591]\n",
            "2\n",
            "Test Val:  [3966 3591] Predicted Val:  [4233.98828749 3964.24016594] R2 | RMSE | MAE Errors -4.8030290060259 324.90455806606195 320.6142267162129\n",
            "2018 BEST MLP:  Test Val:  3830 Predicted Val:  [3949.264401]\n",
            "\n",
            "\n",
            "train: [2011 2012 2013 2015 2016 2017], test: [2010 2014]\n",
            "train: [3966 4114 4393 4037 3591 3549], test: [3988 4514]\n",
            "3\n",
            "Test Val:  [3988 4514] Predicted Val:  [4898.10462243 3941.65549206] R2 | RMSE | MAE Errors -1.5270552126530292 760.2199219776367 741.2245651865251\n",
            "2018 BEST MLP:  Test Val:  3830 Predicted Val:  [4065.55912906]\n",
            "\n",
            "\n",
            "train: [2010 2011 2012 2014 2015 2016 2017], test: [2013]\n",
            "train: [3988 3966 4114 4514 4037 3591 3549], test: [4393]\n"
          ],
          "name": "stdout"
        },
        {
          "output_type": "stream",
          "text": [
            "/usr/local/lib/python3.7/dist-packages/sklearn/metrics/_regression.py:582: UndefinedMetricWarning: R^2 score is not well-defined with less than two samples.\n",
            "  warnings.warn(msg, UndefinedMetricWarning)\n"
          ],
          "name": "stderr"
        },
        {
          "output_type": "stream",
          "text": [
            "4\n",
            "Test Val:  [4393] Predicted Val:  [3997.33060676] R2 | RMSE | MAE Errors nan 395.6693932439871 395.6693932439871\n",
            "2018 BEST MLP:  Test Val:  3830 Predicted Val:  [3901.61729254]\n",
            "\n",
            "\n",
            "train: [2010 2011 2012 2013 2014 2016 2017], test: [2015]\n",
            "train: [3988 3966 4114 4393 4514 3591 3549], test: [4037]\n"
          ],
          "name": "stdout"
        },
        {
          "output_type": "stream",
          "text": [
            "/usr/local/lib/python3.7/dist-packages/sklearn/metrics/_regression.py:582: UndefinedMetricWarning: R^2 score is not well-defined with less than two samples.\n",
            "  warnings.warn(msg, UndefinedMetricWarning)\n"
          ],
          "name": "stderr"
        },
        {
          "output_type": "stream",
          "text": [
            "5\n",
            "Test Val:  [4037] Predicted Val:  [3905.19370039] R2 | RMSE | MAE Errors nan 131.8062996123299 131.8062996123299\n",
            "2018 BEST MLP:  Test Val:  3830 Predicted Val:  [4295.74204756]\n",
            "\n",
            "\n",
            "~~~~~~~~~~~~~~~~~~~~~ Speedy Trial ~~~~~~~~~~~~~~~~~~~~~\n",
            "train: [2010 2011 2013 2014 2015 2016], test: [2012 2017]\n",
            "train: [1666 1863 1896 1716 1549 1052], test: [1907 1045]\n",
            "1\n",
            "Test Val:  [1907 1045] Predicted Val:  [1727.0742252  1472.39816856] R2 | RMSE | MAE Errors -5.630984610903494 327.90431449002256 303.66197167679763\n",
            "2018 BEST MLP:  Test Val:  922 Predicted Val:  [1681.49015096]\n",
            "\n",
            "\n",
            "train: [2010 2012 2013 2014 2015 2017], test: [2011 2016]\n",
            "train: [1666 1907 1896 1716 1549 1045], test: [1863 1052]\n",
            "2\n",
            "Test Val:  [1863 1052] Predicted Val:  [1867.12424765 1392.46257813] R2 | RMSE | MAE Errors -0.029115600554879384 240.76106052162345 172.29341288943965\n",
            "2018 BEST MLP:  Test Val:  922 Predicted Val:  [1404.41660479]\n",
            "\n",
            "\n",
            "train: [2011 2012 2013 2015 2016 2017], test: [2010 2014]\n",
            "train: [1863 1907 1896 1549 1052 1045], test: [1666 1716]\n",
            "3\n",
            "Test Val:  [1666 1716] Predicted Val:  [2241.14709535 1552.01849447] R2 | RMSE | MAE Errors -0.5063611272455184 422.8972188640933 369.56430044125636\n",
            "2018 BEST MLP:  Test Val:  922 Predicted Val:  [1187.03587123]\n",
            "\n",
            "\n",
            "train: [2010 2011 2012 2014 2015 2016 2017], test: [2013]\n",
            "train: [1666 1863 1907 1716 1549 1052 1045], test: [1896]\n"
          ],
          "name": "stdout"
        },
        {
          "output_type": "stream",
          "text": [
            "/usr/local/lib/python3.7/dist-packages/sklearn/metrics/_regression.py:582: UndefinedMetricWarning: R^2 score is not well-defined with less than two samples.\n",
            "  warnings.warn(msg, UndefinedMetricWarning)\n"
          ],
          "name": "stderr"
        },
        {
          "output_type": "stream",
          "text": [
            "4\n",
            "Test Val:  [1896] Predicted Val:  [1606.30695278] R2 | RMSE | MAE Errors nan 289.69304722145944 289.69304722145944\n",
            "2018 BEST MLP:  Test Val:  922 Predicted Val:  [1317.20546128]\n",
            "\n",
            "\n",
            "train: [2010 2011 2012 2013 2014 2016 2017], test: [2015]\n",
            "train: [1666 1863 1907 1896 1716 1052 1045], test: [1549]\n"
          ],
          "name": "stdout"
        },
        {
          "output_type": "stream",
          "text": [
            "/usr/local/lib/python3.7/dist-packages/sklearn/metrics/_regression.py:582: UndefinedMetricWarning: R^2 score is not well-defined with less than two samples.\n",
            "  warnings.warn(msg, UndefinedMetricWarning)\n"
          ],
          "name": "stderr"
        },
        {
          "output_type": "stream",
          "text": [
            "5\n",
            "Test Val:  [1549] Predicted Val:  [1385.07473503] R2 | RMSE | MAE Errors nan 163.92526497381823 163.92526497381823\n",
            "2018 BEST MLP:  Test Val:  922 Predicted Val:  [1264.7655112]\n",
            "\n",
            "\n",
            "~~~~~~~~~~~~~~~~~~~~~ Riot ~~~~~~~~~~~~~~~~~~~~~\n",
            "train: [2010 2011 2013 2014 2015 2016], test: [2012 2017]\n",
            "train: [130 109 172  79  93  53], test: [94 23]\n",
            "1\n",
            "Test Val:  [94 23] Predicted Val:  [118.63139866  83.22559694] R2 | RMSE | MAE Errors -5.754829232502208 46.00993548567548 42.42849780019018\n",
            "2018 BEST MLP:  Test Val:  26 Predicted Val:  [94.3398812]\n",
            "\n",
            "\n",
            "train: [2010 2012 2013 2014 2015 2017], test: [2011 2016]\n",
            "train: [130  94 172  79  93  23], test: [109  53]\n",
            "2\n",
            "Test Val:  [109  53] Predicted Val:  [108.5022747   51.04189242] R2 | RMSE | MAE Errors 0.9975273820820728 1.4286209724603938 1.2279164388913593\n",
            "2018 BEST MLP:  Test Val:  26 Predicted Val:  [-0.77488317]\n",
            "\n",
            "\n",
            "train: [2011 2012 2013 2015 2016 2017], test: [2010 2014]\n",
            "train: [109  94 172  93  53  23], test: [130  79]\n",
            "3\n",
            "Test Val:  [130  79] Predicted Val:  [123.28045326 132.37252625] R2 | RMSE | MAE Errors -69.01152049991431 38.03799985837207 30.046036492555906\n",
            "2018 BEST MLP:  Test Val:  26 Predicted Val:  [-18.05645377]\n",
            "\n",
            "\n",
            "train: [2010 2011 2012 2014 2015 2016 2017], test: [2013]\n",
            "train: [130 109  94  79  93  53  23], test: [172]\n"
          ],
          "name": "stdout"
        },
        {
          "output_type": "stream",
          "text": [
            "/usr/local/lib/python3.7/dist-packages/sklearn/metrics/_regression.py:582: UndefinedMetricWarning: R^2 score is not well-defined with less than two samples.\n",
            "  warnings.warn(msg, UndefinedMetricWarning)\n"
          ],
          "name": "stderr"
        },
        {
          "output_type": "stream",
          "text": [
            "4\n",
            "Test Val:  [172] Predicted Val:  [74.68776521] R2 | RMSE | MAE Errors nan 97.31223478563827 97.31223478563827\n",
            "2018 BEST MLP:  Test Val:  26 Predicted Val:  [-0.1504226]\n",
            "\n",
            "\n",
            "train: [2010 2011 2012 2013 2014 2016 2017], test: [2015]\n",
            "train: [130 109  94 172  79  53  23], test: [93]\n"
          ],
          "name": "stdout"
        },
        {
          "output_type": "stream",
          "text": [
            "/usr/local/lib/python3.7/dist-packages/sklearn/metrics/_regression.py:582: UndefinedMetricWarning: R^2 score is not well-defined with less than two samples.\n",
            "  warnings.warn(msg, UndefinedMetricWarning)\n"
          ],
          "name": "stderr"
        },
        {
          "output_type": "stream",
          "text": [
            "5\n",
            "Test Val:  [93] Predicted Val:  [73.35134477] R2 | RMSE | MAE Errors nan 19.648655231817173 19.648655231817173\n",
            "2018 BEST MLP:  Test Val:  26 Predicted Val:  [-3.5782881]\n",
            "\n",
            "\n",
            "~~~~~~~~~~~~~~~~~~~~~ Woman & Child Repression ~~~~~~~~~~~~~~~~~~~~~\n",
            "train: [2010 2011 2013 2014 2015 2016], test: [2012 2017]\n",
            "train: [17752 21389 19601 21291 21210 18446], test: [20947 17073]\n",
            "1\n",
            "Test Val:  [20947 17073] Predicted Val:  [19815.05826134 23318.6730761 ] R2 | RMSE | MAE Errors -5.564347792816847 4488.302812492139 3688.8074073786047\n",
            "2018 BEST MLP:  Test Val:  16253 Predicted Val:  [26636.67856538]\n",
            "\n",
            "\n",
            "train: [2010 2012 2013 2014 2015 2017], test: [2011 2016]\n",
            "train: [17752 20947 19601 21291 21210 17073], test: [21389 18446]\n",
            "2\n",
            "Test Val:  [21389 18446] Predicted Val:  [19741.93982016 19549.22793719] R2 | RMSE | MAE Errors -210.6394469717302 1401.7701518776548 1375.144058511376\n",
            "2018 BEST MLP:  Test Val:  16253 Predicted Val:  [21814.12693141]\n",
            "\n",
            "\n",
            "train: [2011 2012 2013 2015 2016 2017], test: [2010 2014]\n",
            "train: [21389 20947 19601 21210 18446 17073], test: [17752 21291]\n",
            "3\n",
            "Test Val:  [17752 21291] Predicted Val:  [24895.66005624 19777.6903361 ] R2 | RMSE | MAE Errors -3.071372894426231 5163.428373572076 4328.484860073329\n",
            "2018 BEST MLP:  Test Val:  16253 Predicted Val:  [19505.09446183]\n",
            "\n",
            "\n",
            "train: [2010 2011 2012 2014 2015 2016 2017], test: [2013]\n",
            "train: [17752 21389 20947 21291 21210 18446 17073], test: [19601]\n"
          ],
          "name": "stdout"
        },
        {
          "output_type": "stream",
          "text": [
            "/usr/local/lib/python3.7/dist-packages/sklearn/metrics/_regression.py:582: UndefinedMetricWarning: R^2 score is not well-defined with less than two samples.\n",
            "  warnings.warn(msg, UndefinedMetricWarning)\n"
          ],
          "name": "stderr"
        },
        {
          "output_type": "stream",
          "text": [
            "4\n",
            "Test Val:  [19601] Predicted Val:  [19847.03803194] R2 | RMSE | MAE Errors nan 246.03803194215288 246.03803194215288\n",
            "2018 BEST MLP:  Test Val:  16253 Predicted Val:  [18821.15018926]\n",
            "\n",
            "\n",
            "train: [2010 2011 2012 2013 2014 2016 2017], test: [2015]\n",
            "train: [17752 21389 20947 19601 21291 18446 17073], test: [21210]\n"
          ],
          "name": "stdout"
        },
        {
          "output_type": "stream",
          "text": [
            "/usr/local/lib/python3.7/dist-packages/sklearn/metrics/_regression.py:582: UndefinedMetricWarning: R^2 score is not well-defined with less than two samples.\n",
            "  warnings.warn(msg, UndefinedMetricWarning)\n"
          ],
          "name": "stderr"
        },
        {
          "output_type": "stream",
          "text": [
            "5\n",
            "Test Val:  [21210] Predicted Val:  [19018.24237765] R2 | RMSE | MAE Errors nan 2191.757622349858 2191.757622349858\n",
            "2018 BEST MLP:  Test Val:  16253 Predicted Val:  [20562.07055703]\n",
            "\n",
            "\n",
            "~~~~~~~~~~~~~~~~~~~~~ Kidnapping ~~~~~~~~~~~~~~~~~~~~~\n",
            "train: [2010 2011 2013 2014 2015 2016], test: [2012 2017]\n",
            "train: [870 792 879 920 805 639], test: [850 509]\n",
            "1\n",
            "Test Val:  [850 509] Predicted Val:  [842.0637779 850.9291624] R2 | RMSE | MAE Errors -2975.7408310066226 241.84554546148036 174.9326922482132\n",
            "2018 BEST MLP:  Test Val:  444 Predicted Val:  [972.09708669]\n",
            "\n",
            "\n",
            "train: [2010 2012 2013 2014 2015 2017], test: [2011 2016]\n",
            "train: [870 850 879 920 805 509], test: [792 639]\n",
            "2\n",
            "Test Val:  [792 639] Predicted Val:  [916.54782673 694.42655008] R2 | RMSE | MAE Errors 0.24665305642877355 96.39570425553774 89.98718840653197\n",
            "2018 BEST MLP:  Test Val:  444 Predicted Val:  [716.19220794]\n",
            "\n",
            "\n",
            "train: [2011 2012 2013 2015 2016 2017], test: [2010 2014]\n",
            "train: [792 850 879 805 639 509], test: [870 920]\n",
            "3\n",
            "Test Val:  [870 920] Predicted Val:  [943.55279943 745.69167376] R2 | RMSE | MAE Errors -0.8285720706529109 133.77856125125763 123.93056283468604\n",
            "2018 BEST MLP:  Test Val:  444 Predicted Val:  [656.00851506]\n",
            "\n",
            "\n",
            "train: [2010 2011 2012 2014 2015 2016 2017], test: [2013]\n",
            "train: [870 792 850 920 805 639 509], test: [879]\n"
          ],
          "name": "stdout"
        },
        {
          "output_type": "stream",
          "text": [
            "/usr/local/lib/python3.7/dist-packages/sklearn/metrics/_regression.py:582: UndefinedMetricWarning: R^2 score is not well-defined with less than two samples.\n",
            "  warnings.warn(msg, UndefinedMetricWarning)\n"
          ],
          "name": "stderr"
        },
        {
          "output_type": "stream",
          "text": [
            "4\n",
            "Test Val:  [879] Predicted Val:  [791.74345202] R2 | RMSE | MAE Errors nan 87.25654797751895 87.25654797751895\n",
            "2018 BEST MLP:  Test Val:  444 Predicted Val:  [718.68574073]\n",
            "\n",
            "\n",
            "train: [2010 2011 2012 2013 2014 2016 2017], test: [2015]\n",
            "train: [870 792 850 879 920 639 509], test: [805]\n"
          ],
          "name": "stdout"
        },
        {
          "output_type": "stream",
          "text": [
            "/usr/local/lib/python3.7/dist-packages/sklearn/metrics/_regression.py:582: UndefinedMetricWarning: R^2 score is not well-defined with less than two samples.\n",
            "  warnings.warn(msg, UndefinedMetricWarning)\n"
          ],
          "name": "stderr"
        },
        {
          "output_type": "stream",
          "text": [
            "5\n",
            "Test Val:  [805] Predicted Val:  [704.6167234] R2 | RMSE | MAE Errors nan 100.38327659749314 100.38327659749314\n",
            "2018 BEST MLP:  Test Val:  444 Predicted Val:  [696.88009983]\n",
            "\n",
            "\n",
            "~~~~~~~~~~~~~~~~~~~~~ Police Assault ~~~~~~~~~~~~~~~~~~~~~\n",
            "train: [2010 2011 2013 2014 2015 2016], test: [2012 2017]\n",
            "train: [ 473  581 1257  702  634  521], test: [659 543]\n",
            "1\n",
            "Test Val:  [659 543] Predicted Val:  [683.46067807 806.3317061 ] R2 | RMSE | MAE Errors -8.265492600224535 187.00523015208344 143.8961920835494\n",
            "2018 BEST MLP:  Test Val:  811 Predicted Val:  [900.38610513]\n",
            "\n",
            "\n",
            "train: [2010 2012 2013 2014 2015 2017], test: [2011 2016]\n",
            "train: [ 473  659 1257  702  634  543], test: [581 521]\n",
            "2\n",
            "Test Val:  [581 521] Predicted Val:  [717.2477665  705.38346486] R2 | RMSE | MAE Errors -745.8044695761689 162.11217719220295 160.3156156771314\n",
            "2018 BEST MLP:  Test Val:  811 Predicted Val:  [760.99265835]\n",
            "\n",
            "\n",
            "train: [2011 2012 2013 2015 2016 2017], test: [2010 2014]\n",
            "train: [ 581  659 1257  634  521  543], test: [473 702]\n",
            "3\n",
            "Test Val:  [473 702] Predicted Val:  [926.43874668 699.1950869 ] R2 | RMSE | MAE Errors -6.963432806012543 320.63574701639476 228.12182989092184\n",
            "2018 BEST MLP:  Test Val:  811 Predicted Val:  [681.85610893]\n",
            "\n",
            "\n",
            "train: [2010 2011 2012 2014 2015 2016 2017], test: [2013]\n",
            "train: [473 581 659 702 634 521 543], test: [1257]\n",
            "4\n",
            "Test Val:  [1257] Predicted Val:  [586.01398912] R2 | RMSE | MAE Errors nan 670.9860108842101 670.9860108842101\n",
            "2018 BEST MLP:  Test Val:  811 Predicted Val:  [665.06228565]\n",
            "\n",
            "\n"
          ],
          "name": "stdout"
        },
        {
          "output_type": "stream",
          "text": [
            "/usr/local/lib/python3.7/dist-packages/sklearn/metrics/_regression.py:582: UndefinedMetricWarning: R^2 score is not well-defined with less than two samples.\n",
            "  warnings.warn(msg, UndefinedMetricWarning)\n",
            "/usr/local/lib/python3.7/dist-packages/sklearn/metrics/_regression.py:582: UndefinedMetricWarning: R^2 score is not well-defined with less than two samples.\n",
            "  warnings.warn(msg, UndefinedMetricWarning)\n"
          ],
          "name": "stderr"
        },
        {
          "output_type": "stream",
          "text": [
            "train: [2010 2011 2012 2013 2014 2016 2017], test: [2015]\n",
            "train: [ 473  581  659 1257  702  521  543], test: [634]\n",
            "5\n",
            "Test Val:  [634] Predicted Val:  [669.79363595] R2 | RMSE | MAE Errors nan 35.793635949762006 35.793635949762006\n",
            "2018 BEST MLP:  Test Val:  811 Predicted Val:  [740.48826263]\n",
            "\n",
            "\n",
            "~~~~~~~~~~~~~~~~~~~~~ Burglary ~~~~~~~~~~~~~~~~~~~~~\n",
            "train: [2010 2011 2013 2014 2015 2016], test: [2012 2017]\n",
            "train: [3101 3134 2762 2809 2495 2213], test: [2927 2163]\n",
            "1\n",
            "Test Val:  [2927 2163] Predicted Val:  [2921.29418829 2723.90327437] R2 | RMSE | MAE Errors -15.150894090519195 396.63902952262833 283.30454303579427\n",
            "2018 BEST MLP:  Test Val:  2137 Predicted Val:  [3106.67902704]\n",
            "\n",
            "\n",
            "train: [2010 2012 2013 2014 2015 2017], test: [2011 2016]\n",
            "train: [3101 2927 2762 2809 2495 2163], test: [3134 2213]\n",
            "2\n",
            "Test Val:  [3134 2213] Predicted Val:  [3040.68088255 2378.39852974] R2 | RMSE | MAE Errors 0.8355510338191756 134.28538885930175 129.35882359508037\n",
            "2018 BEST MLP:  Test Val:  2137 Predicted Val:  [2544.81601444]\n",
            "\n",
            "\n",
            "train: [2011 2012 2013 2015 2016 2017], test: [2010 2014]\n",
            "train: [3134 2927 2762 2495 2213 2163], test: [3101 2809]\n",
            "3\n",
            "Test Val:  [3101 2809] Predicted Val:  [3394.88184771 2602.22636954] R2 | RMSE | MAE Errors 0.5889819565826975 254.08844392014493 250.3277390851074\n",
            "2018 BEST MLP:  Test Val:  2137 Predicted Val:  [2369.7893055]\n",
            "\n",
            "\n",
            "train: [2010 2011 2012 2014 2015 2016 2017], test: [2013]\n",
            "train: [3101 3134 2927 2809 2495 2213 2163], test: [2762]\n"
          ],
          "name": "stdout"
        },
        {
          "output_type": "stream",
          "text": [
            "/usr/local/lib/python3.7/dist-packages/sklearn/metrics/_regression.py:582: UndefinedMetricWarning: R^2 score is not well-defined with less than two samples.\n",
            "  warnings.warn(msg, UndefinedMetricWarning)\n"
          ],
          "name": "stderr"
        },
        {
          "output_type": "stream",
          "text": [
            "4\n",
            "Test Val:  [2762] Predicted Val:  [2776.31036452] R2 | RMSE | MAE Errors nan 14.310364521350493 14.310364521350493\n",
            "2018 BEST MLP:  Test Val:  2137 Predicted Val:  [2432.49419097]\n",
            "\n",
            "\n",
            "train: [2010 2011 2012 2013 2014 2016 2017], test: [2015]\n",
            "train: [3101 3134 2927 2762 2809 2213 2163], test: [2495]\n"
          ],
          "name": "stdout"
        },
        {
          "output_type": "stream",
          "text": [
            "/usr/local/lib/python3.7/dist-packages/sklearn/metrics/_regression.py:582: UndefinedMetricWarning: R^2 score is not well-defined with less than two samples.\n",
            "  warnings.warn(msg, UndefinedMetricWarning)\n"
          ],
          "name": "stderr"
        },
        {
          "output_type": "stream",
          "text": [
            "5\n",
            "Test Val:  [2495] Predicted Val:  [2475.19596691] R2 | RMSE | MAE Errors nan 19.80403309324447 19.80403309324447\n",
            "2018 BEST MLP:  Test Val:  2137 Predicted Val:  [2449.52046341]\n",
            "\n",
            "\n",
            "~~~~~~~~~~~~~~~~~~~~~ Theft ~~~~~~~~~~~~~~~~~~~~~\n",
            "train: [2010 2011 2013 2014 2015 2016], test: [2012 2017]\n",
            "train: [8529 8873 7882 7660 6821 6110], test: [8598 5833]\n",
            "1\n",
            "Test Val:  [8598 5833] Predicted Val:  [8140.15726204 7353.92881266] R2 | RMSE | MAE Errors -7.1624955336674905 1123.1305413658442 989.3857753142538\n",
            "2018 BEST MLP:  Test Val:  5561 Predicted Val:  [8403.21507044]\n",
            "\n",
            "\n",
            "train: [2010 2012 2013 2014 2015 2017], test: [2011 2016]\n",
            "train: [8529 8598 7882 7660 6821 5833], test: [8873 6110]\n",
            "2\n",
            "Test Val:  [8873 6110] Predicted Val:  [8588.73274478 6518.80904573] R2 | RMSE | MAE Errors 0.8842675502120751 352.0885600665021 346.53815047329226\n",
            "2018 BEST MLP:  Test Val:  5561 Predicted Val:  [5963.92889681]\n",
            "\n",
            "\n",
            "train: [2011 2012 2013 2015 2016 2017], test: [2010 2014]\n",
            "train: [8873 8598 7882 6821 6110 5833], test: [8529 7660]\n",
            "3\n",
            "Test Val:  [8529 7660] Predicted Val:  [10005.97185524  7318.85922319] R2 | RMSE | MAE Errors 0.3635345898667891 1071.8728681058155 909.0563160224783\n",
            "2018 BEST MLP:  Test Val:  5561 Predicted Val:  [6706.30692303]\n",
            "\n",
            "\n",
            "train: [2010 2011 2012 2014 2015 2016 2017], test: [2013]\n",
            "train: [8529 8873 8598 7660 6821 6110 5833], test: [7882]\n"
          ],
          "name": "stdout"
        },
        {
          "output_type": "stream",
          "text": [
            "/usr/local/lib/python3.7/dist-packages/sklearn/metrics/_regression.py:582: UndefinedMetricWarning: R^2 score is not well-defined with less than two samples.\n",
            "  warnings.warn(msg, UndefinedMetricWarning)\n"
          ],
          "name": "stderr"
        },
        {
          "output_type": "stream",
          "text": [
            "4\n",
            "Test Val:  [7882] Predicted Val:  [7748.39772398] R2 | RMSE | MAE Errors nan 133.602276020717 133.602276020717\n",
            "2018 BEST MLP:  Test Val:  5561 Predicted Val:  [6557.56623097]\n",
            "\n",
            "\n",
            "train: [2010 2011 2012 2013 2014 2016 2017], test: [2015]\n",
            "train: [8529 8873 8598 7882 7660 6110 5833], test: [6821]\n"
          ],
          "name": "stdout"
        },
        {
          "output_type": "stream",
          "text": [
            "/usr/local/lib/python3.7/dist-packages/sklearn/metrics/_regression.py:582: UndefinedMetricWarning: R^2 score is not well-defined with less than two samples.\n",
            "  warnings.warn(msg, UndefinedMetricWarning)\n"
          ],
          "name": "stderr"
        },
        {
          "output_type": "stream",
          "text": [
            "5\n",
            "Test Val:  [6821] Predicted Val:  [6862.90781922] R2 | RMSE | MAE Errors nan 41.90781921591679 41.90781921591679\n",
            "2018 BEST MLP:  Test Val:  5561 Predicted Val:  [6524.66958288]\n",
            "\n",
            "\n",
            "~~~~~~~~~~~~~~~~~~~~~ Arms Act ~~~~~~~~~~~~~~~~~~~~~\n",
            "train: [2010 2011 2013 2014 2015 2016], test: [2012 2017]\n",
            "train: [1575 1269 1517 2023 2079 2291], test: [1511 2208]\n",
            "1\n",
            "Test Val:  [1511 2208] Predicted Val:  [1385.35169485 2828.47748076] R2 | RMSE | MAE Errors 0.615118136084672 447.6493051046916 373.06289295521117\n",
            "2018 BEST MLP:  Test Val:  2515 Predicted Val:  [3323.74335448]\n",
            "\n",
            "\n",
            "train: [2010 2012 2013 2014 2015 2017], test: [2011 2016]\n",
            "train: [1575 1511 1517 2023 2079 2208], test: [1269 2291]\n",
            "2\n",
            "Test Val:  [1269 2291] Predicted Val:  [1372.38702241 2146.93449776] R2 | RMSE | MAE Errors 0.8951742011864907 125.38689193682357 123.7262623261048\n",
            "2018 BEST MLP:  Test Val:  2515 Predicted Val:  [2663.52696618]\n",
            "\n",
            "\n",
            "train: [2011 2012 2013 2015 2016 2017], test: [2010 2014]\n",
            "train: [1269 1511 1517 2079 2291 2208], test: [1575 2023]\n",
            "3\n",
            "Test Val:  [1575 2023] Predicted Val:  [1411.33719558 1812.51030109] R2 | RMSE | MAE Errors 0.11654668225244968 188.53570868328953 187.0762516647552\n",
            "2018 BEST MLP:  Test Val:  2515 Predicted Val:  [2554.0485819]\n",
            "\n",
            "\n",
            "train: [2010 2011 2012 2014 2015 2016 2017], test: [2013]\n",
            "train: [1575 1269 1511 2023 2079 2291 2208], test: [1517]\n"
          ],
          "name": "stdout"
        },
        {
          "output_type": "stream",
          "text": [
            "/usr/local/lib/python3.7/dist-packages/sklearn/metrics/_regression.py:582: UndefinedMetricWarning: R^2 score is not well-defined with less than two samples.\n",
            "  warnings.warn(msg, UndefinedMetricWarning)\n"
          ],
          "name": "stderr"
        },
        {
          "output_type": "stream",
          "text": [
            "4\n",
            "Test Val:  [1517] Predicted Val:  [1706.19720451] R2 | RMSE | MAE Errors nan 189.19720450803538 189.19720450803538\n",
            "2018 BEST MLP:  Test Val:  2515 Predicted Val:  [2685.1732602]\n",
            "\n",
            "\n",
            "train: [2010 2011 2012 2013 2014 2016 2017], test: [2015]\n",
            "train: [1575 1269 1511 1517 2023 2291 2208], test: [2079]\n"
          ],
          "name": "stdout"
        },
        {
          "output_type": "stream",
          "text": [
            "/usr/local/lib/python3.7/dist-packages/sklearn/metrics/_regression.py:582: UndefinedMetricWarning: R^2 score is not well-defined with less than two samples.\n",
            "  warnings.warn(msg, UndefinedMetricWarning)\n"
          ],
          "name": "stderr"
        },
        {
          "output_type": "stream",
          "text": [
            "5\n",
            "Test Val:  [2079] Predicted Val:  [2007.421526] R2 | RMSE | MAE Errors nan 71.57847399647198 71.57847399647198\n",
            "2018 BEST MLP:  Test Val:  2515 Predicted Val:  [2738.50254731]\n",
            "\n",
            "\n",
            "~~~~~~~~~~~~~~~~~~~~~ Explosive ~~~~~~~~~~~~~~~~~~~~~\n",
            "train: [2010 2011 2013 2014 2015 2016], test: [2012 2017]\n",
            "train: [ 253  207 1007  520  725  487], test: [289 362]\n",
            "1\n",
            "Test Val:  [289 362] Predicted Val:  [458.29357382 798.404584  ] R2 | RMSE | MAE Errors -2.7883437115979213 330.99038888772264 302.8490789100581\n",
            "2018 BEST MLP:  Test Val:  1310 Predicted Val:  [888.59136299]\n",
            "\n",
            "\n",
            "train: [2010 2012 2013 2014 2015 2017], test: [2011 2016]\n",
            "train: [ 253  289 1007  520  725  362], test: [207 487]\n",
            "2\n",
            "Test Val:  [207 487] Predicted Val:  [458.94792802 593.18362758] R2 | RMSE | MAE Errors -7.296997161449276 193.32966818031295 179.0657777978994\n",
            "2018 BEST MLP:  Test Val:  1310 Predicted Val:  [672.35466896]\n",
            "\n",
            "\n",
            "train: [2011 2012 2013 2015 2016 2017], test: [2010 2014]\n",
            "train: [ 207  289 1007  725  487  362], test: [253 520]\n",
            "3\n",
            "Test Val:  [253 520] Predicted Val:  [463.62596617 512.85404635] R2 | RMSE | MAE Errors -35.65452770068564 149.02074063753759 108.88595991320071\n",
            "2018 BEST MLP:  Test Val:  1310 Predicted Val:  [596.56190463]\n",
            "\n",
            "\n",
            "train: [2010 2011 2012 2014 2015 2016 2017], test: [2013]\n",
            "train: [253 207 289 520 725 487 362], test: [1007]\n"
          ],
          "name": "stdout"
        },
        {
          "output_type": "stream",
          "text": [
            "/usr/local/lib/python3.7/dist-packages/sklearn/metrics/_regression.py:582: UndefinedMetricWarning: R^2 score is not well-defined with less than two samples.\n",
            "  warnings.warn(msg, UndefinedMetricWarning)\n",
            "/usr/local/lib/python3.7/dist-packages/sklearn/metrics/_regression.py:582: UndefinedMetricWarning: R^2 score is not well-defined with less than two samples.\n",
            "  warnings.warn(msg, UndefinedMetricWarning)\n"
          ],
          "name": "stderr"
        },
        {
          "output_type": "stream",
          "text": [
            "4\n",
            "Test Val:  [1007] Predicted Val:  [381.3427815] R2 | RMSE | MAE Errors nan 625.6572185019015 625.6572185019015\n",
            "2018 BEST MLP:  Test Val:  1310 Predicted Val:  [599.23615669]\n",
            "\n",
            "\n",
            "train: [2010 2011 2012 2013 2014 2016 2017], test: [2015]\n",
            "train: [ 253  207  289 1007  520  487  362], test: [725]\n",
            "5\n",
            "Test Val:  [725] Predicted Val:  [493.47607981] R2 | RMSE | MAE Errors nan 231.52392019422177 231.52392019422177\n",
            "2018 BEST MLP:  Test Val:  1310 Predicted Val:  [575.78477933]\n",
            "\n",
            "\n",
            "~~~~~~~~~~~~~~~~~~~~~ Narcotics ~~~~~~~~~~~~~~~~~~~~~\n",
            "train: [2010 2011 2013 2014 2015 2016], test: [2012 2017]\n",
            "train: [29344 31696 35832 42501 47666 62208], test: [37264 98984]\n"
          ],
          "name": "stdout"
        },
        {
          "output_type": "stream",
          "text": [
            "/usr/local/lib/python3.7/dist-packages/sklearn/neural_network/_multilayer_perceptron.py:571: ConvergenceWarning: Stochastic Optimizer: Maximum iterations (10000) reached and the optimization hasn't converged yet.\n",
            "  % self.max_iter, ConvergenceWarning)\n"
          ],
          "name": "stderr"
        },
        {
          "output_type": "stream",
          "text": [
            "1\n",
            "Test Val:  [37264 98984] Predicted Val:  [29325.81721221 74419.30299225] R2 | RMSE | MAE Errors 0.34451487752113996 18254.302027944217 16251.43989776769\n",
            "2018 BEST MLP:  Test Val:  112549 Predicted Val:  [87232.0870544]\n",
            "\n",
            "\n",
            "train: [2010 2012 2013 2014 2015 2017], test: [2011 2016]\n",
            "train: [29344 37264 35832 42501 47666 98984], test: [31696 62208]\n"
          ],
          "name": "stdout"
        },
        {
          "output_type": "stream",
          "text": [
            "/usr/local/lib/python3.7/dist-packages/sklearn/neural_network/_multilayer_perceptron.py:571: ConvergenceWarning: Stochastic Optimizer: Maximum iterations (10000) reached and the optimization hasn't converged yet.\n",
            "  % self.max_iter, ConvergenceWarning)\n"
          ],
          "name": "stderr"
        },
        {
          "output_type": "stream",
          "text": [
            "2\n",
            "Test Val:  [31696 62208] Predicted Val:  [24908.46243075 74971.05291329] R2 | RMSE | MAE Errors 0.8332448040999474 10221.697166355854 9775.295241269116\n",
            "2018 BEST MLP:  Test Val:  112549 Predicted Val:  [106159.58124984]\n",
            "\n",
            "\n",
            "train: [2011 2012 2013 2015 2016 2017], test: [2010 2014]\n",
            "train: [31696 37264 35832 47666 62208 98984], test: [29344 42501]\n"
          ],
          "name": "stdout"
        },
        {
          "output_type": "stream",
          "text": [
            "/usr/local/lib/python3.7/dist-packages/sklearn/neural_network/_multilayer_perceptron.py:571: ConvergenceWarning: Stochastic Optimizer: Maximum iterations (10000) reached and the optimization hasn't converged yet.\n",
            "  % self.max_iter, ConvergenceWarning)\n"
          ],
          "name": "stderr"
        },
        {
          "output_type": "stream",
          "text": [
            "3\n",
            "Test Val:  [29344 42501] Predicted Val:  [44054.77247541 46397.61009446] R2 | RMSE | MAE Errors -83.38517690407002 10760.817744288703 9303.691284935889\n",
            "2018 BEST MLP:  Test Val:  112549 Predicted Val:  [104197.00015567]\n",
            "\n",
            "\n",
            "train: [2010 2011 2012 2014 2015 2016 2017], test: [2013]\n",
            "train: [29344 31696 37264 42501 47666 62208 98984], test: [35832]\n"
          ],
          "name": "stdout"
        },
        {
          "output_type": "stream",
          "text": [
            "/usr/local/lib/python3.7/dist-packages/sklearn/neural_network/_multilayer_perceptron.py:571: ConvergenceWarning: Stochastic Optimizer: Maximum iterations (10000) reached and the optimization hasn't converged yet.\n",
            "  % self.max_iter, ConvergenceWarning)\n",
            "/usr/local/lib/python3.7/dist-packages/sklearn/metrics/_regression.py:582: UndefinedMetricWarning: R^2 score is not well-defined with less than two samples.\n",
            "  warnings.warn(msg, UndefinedMetricWarning)\n"
          ],
          "name": "stderr"
        },
        {
          "output_type": "stream",
          "text": [
            "4\n",
            "Test Val:  [35832] Predicted Val:  [38345.2867147] R2 | RMSE | MAE Errors nan 2513.2867146959616 2513.2867146959616\n",
            "2018 BEST MLP:  Test Val:  112549 Predicted Val:  [101275.71132477]\n",
            "\n",
            "\n",
            "train: [2010 2011 2012 2013 2014 2016 2017], test: [2015]\n",
            "train: [29344 31696 37264 35832 42501 62208 98984], test: [47666]\n"
          ],
          "name": "stdout"
        },
        {
          "output_type": "stream",
          "text": [
            "/usr/local/lib/python3.7/dist-packages/sklearn/neural_network/_multilayer_perceptron.py:571: ConvergenceWarning: Stochastic Optimizer: Maximum iterations (10000) reached and the optimization hasn't converged yet.\n",
            "  % self.max_iter, ConvergenceWarning)\n",
            "/usr/local/lib/python3.7/dist-packages/sklearn/metrics/_regression.py:582: UndefinedMetricWarning: R^2 score is not well-defined with less than two samples.\n",
            "  warnings.warn(msg, UndefinedMetricWarning)\n"
          ],
          "name": "stderr"
        },
        {
          "output_type": "stream",
          "text": [
            "5\n",
            "Test Val:  [47666] Predicted Val:  [58509.92228076] R2 | RMSE | MAE Errors nan 10843.922280763058 10843.922280763058\n",
            "2018 BEST MLP:  Test Val:  112549 Predicted Val:  [103567.37775441]\n",
            "\n",
            "\n",
            "~~~~~~~~~~~~~~~~~~~~~ Smuggling ~~~~~~~~~~~~~~~~~~~~~\n",
            "train: [2010 2011 2013 2014 2015 2016], test: [2012 2017]\n",
            "train: [6363 5714 6437 6788 6179 4680], test: [6578 5599]\n",
            "1\n",
            "Test Val:  [6578 5599] Predicted Val:  [6172.91231338 6096.79626896] R2 | RMSE | MAE Errors -141.18912140453705 453.8155788682909 451.441977792947\n",
            "2018 BEST MLP:  Test Val:  4501 Predicted Val:  [6966.7620766]\n",
            "\n",
            "\n",
            "train: [2010 2012 2013 2014 2015 2017], test: [2011 2016]\n",
            "train: [6363 6578 6437 6788 6179 5599], test: [5714 4680]\n",
            "2\n",
            "Test Val:  [5714 4680] Predicted Val:  [6586.3996357  6061.48207319] R2 | RMSE | MAE Errors -18.37714223077143 1155.3297890446013 1126.940854442806\n",
            "2018 BEST MLP:  Test Val:  4501 Predicted Val:  [6367.59222054]\n",
            "\n",
            "\n",
            "train: [2011 2012 2013 2015 2016 2017], test: [2010 2014]\n",
            "train: [5714 6578 6437 6179 4680 5599], test: [6363 6788]\n",
            "3\n",
            "Test Val:  [6363 6788] Predicted Val:  [7185.51330051 5864.51274622] R2 | RMSE | MAE Errors -0.7528018584974763 874.4589291140024 873.0002771461927\n",
            "2018 BEST MLP:  Test Val:  4501 Predicted Val:  [5240.5438098]\n",
            "\n",
            "\n",
            "train: [2010 2011 2012 2014 2015 2016 2017], test: [2013]\n",
            "train: [6363 5714 6578 6788 6179 4680 5599], test: [6437]\n"
          ],
          "name": "stdout"
        },
        {
          "output_type": "stream",
          "text": [
            "/usr/local/lib/python3.7/dist-packages/sklearn/metrics/_regression.py:582: UndefinedMetricWarning: R^2 score is not well-defined with less than two samples.\n",
            "  warnings.warn(msg, UndefinedMetricWarning)\n"
          ],
          "name": "stderr"
        },
        {
          "output_type": "stream",
          "text": [
            "4\n",
            "Test Val:  [6437] Predicted Val:  [6060.63677401] R2 | RMSE | MAE Errors nan 376.3632259857741 376.3632259857741\n",
            "2018 BEST MLP:  Test Val:  4501 Predicted Val:  [5673.28767921]\n",
            "\n",
            "\n",
            "train: [2010 2011 2012 2013 2014 2016 2017], test: [2015]\n",
            "train: [6363 5714 6578 6437 6788 4680 5599], test: [6179]\n"
          ],
          "name": "stdout"
        },
        {
          "output_type": "stream",
          "text": [
            "/usr/local/lib/python3.7/dist-packages/sklearn/metrics/_regression.py:582: UndefinedMetricWarning: R^2 score is not well-defined with less than two samples.\n",
            "  warnings.warn(msg, UndefinedMetricWarning)\n"
          ],
          "name": "stderr"
        },
        {
          "output_type": "stream",
          "text": [
            "5\n",
            "Test Val:  [6179] Predicted Val:  [5685.15409253] R2 | RMSE | MAE Errors nan 493.8459074716902 493.8459074716902\n",
            "2018 BEST MLP:  Test Val:  4501 Predicted Val:  [6191.47358092]\n",
            "\n",
            "\n",
            "~~~~~~~~~~~~~~~~~~~~~ Other Cases ~~~~~~~~~~~~~~~~~~~~~\n",
            "train: [2010 2011 2013 2014 2015 2016], test: [2012 2017]\n",
            "train: [87139 88355 93930 90400 84117 77747], test: [96112 74645]\n",
            "1\n",
            "Test Val:  [96112 74645] Predicted Val:  [88391.54533515 82205.21327326] R2 | RMSE | MAE Errors -5.101912513039408 7640.754052096805 7640.333969057814\n",
            "2018 BEST MLP:  Test Val:  69736 Predicted Val:  [80967.94467161]\n",
            "\n",
            "\n",
            "train: [2010 2012 2013 2014 2015 2017], test: [2011 2016]\n",
            "train: [87139 96112 93930 90400 84117 74645], test: [88355 77747]\n",
            "2\n",
            "Test Val:  [88355 77747] Predicted Val:  [93103.95044269 82343.52368996] R2 | RMSE | MAE Errors 0.24550006714278494 4673.358553520264 4672.737066326721\n",
            "2018 BEST MLP:  Test Val:  69736 Predicted Val:  [91256.16131988]\n",
            "\n",
            "\n",
            "train: [2011 2012 2013 2015 2016 2017], test: [2010 2014]\n",
            "train: [88355 96112 93930 84117 77747 74645], test: [87139 90400]\n",
            "3\n",
            "Test Val:  [87139 90400] Predicted Val:  [107018.14540524  85817.90640654] R2 | RMSE | MAE Errors -0.8519340528683312 14425.255695165686 12230.619499349203\n",
            "2018 BEST MLP:  Test Val:  69736 Predicted Val:  [88573.26018423]\n",
            "\n",
            "\n",
            "train: [2010 2011 2012 2014 2015 2016 2017], test: [2013]\n",
            "train: [87139 88355 96112 90400 84117 77747 74645], test: [93930]\n"
          ],
          "name": "stdout"
        },
        {
          "output_type": "stream",
          "text": [
            "/usr/local/lib/python3.7/dist-packages/sklearn/metrics/_regression.py:582: UndefinedMetricWarning: R^2 score is not well-defined with less than two samples.\n",
            "  warnings.warn(msg, UndefinedMetricWarning)\n"
          ],
          "name": "stderr"
        },
        {
          "output_type": "stream",
          "text": [
            "4\n",
            "Test Val:  [93930] Predicted Val:  [86677.46487116] R2 | RMSE | MAE Errors nan 7252.535128835967 7252.535128835967\n",
            "2018 BEST MLP:  Test Val:  69736 Predicted Val:  [76394.11731212]\n",
            "\n",
            "\n",
            "train: [2010 2011 2012 2013 2014 2016 2017], test: [2015]\n",
            "train: [87139 88355 96112 93930 90400 77747 74645], test: [84117]\n",
            "5\n",
            "Test Val:  [84117] Predicted Val:  [83172.79098525] R2 | RMSE | MAE Errors nan 944.2090147469862 944.2090147469862\n",
            "2018 BEST MLP:  Test Val:  69736 Predicted Val:  [89205.48101475]\n",
            "\n",
            "\n"
          ],
          "name": "stdout"
        },
        {
          "output_type": "stream",
          "text": [
            "/usr/local/lib/python3.7/dist-packages/sklearn/metrics/_regression.py:582: UndefinedMetricWarning: R^2 score is not well-defined with less than two samples.\n",
            "  warnings.warn(msg, UndefinedMetricWarning)\n"
          ],
          "name": "stderr"
        }
      ]
    },
    {
      "cell_type": "markdown",
      "metadata": {
        "id": "91vKLtqQgLNO"
      },
      "source": [
        "Neural Net"
      ]
    },
    {
      "cell_type": "code",
      "metadata": {
        "id": "4-E8LOO3Sgp1"
      },
      "source": [
        "# def nn(dmp, dmp_2018):\n",
        "#   # # Create a Pandas Excel writer using XlsxWriter as the engine.\n",
        "#   # writer = pd.ExcelWriter('NeuralNet_Without2018train_test_pred_data.xlsx', engine='xlsxwriter')\n",
        "#   # # writer1 = pd.ExcelWriter('Without2018train_errors_data.xlsx', engine='xlsxwriter')\n",
        "\n",
        "#   model = Sequential()\n",
        "\n",
        "#   model.add(Dense(8, input_dim=1, activation='relu'))\n",
        "#   model.add(Dense(16, kernel_initializer='normal', activation='relu'))\n",
        "#   model.add(Dense(1, kernel_initializer='normal'))\n",
        "\n",
        "#   # used binary loss function \n",
        "#   model.compile(loss='mse', optimizer='adam', metrics=['mean_absolute_error'])\n",
        "\n",
        "#   print(model.summary())\n",
        "\n",
        "#   predictions_list = []\n",
        "#   for col in dmp.columns[1:].unique():\n",
        "#     predictions = []\n",
        "#     print('~~~~~~~~~~~~~~~~~~~~~', col, '~~~~~~~~~~~~~~~~~~~~~')\n",
        "#     dmp_x = dmp['Year'].values\n",
        "#     dmp_y = dmp[col].values\n",
        "\n",
        "#     # ASSIGN MANUALLY\n",
        "#     train_x = dmp_x\n",
        "#     train_y = dmp_y\n",
        "\n",
        "#     test_x = dmp_2018['Year'].values\n",
        "#     test_y = dmp_2018[col].values\n",
        "\n",
        "#     # # Standard scaling\n",
        "#     # ss = StandardScaler()\n",
        "#     # ss.fit(train_x.reshape(-1, 1))\n",
        "#     # ss_train_x = ss.transform(train_x.reshape(-1, 1))\n",
        "#     # ss_test_x = ss.transform(test_x.reshape(-1, 1))\n",
        "\n",
        "#     history = model.fit(train_x,train_y, epochs=30, batch_size=2)\n",
        "\n",
        "#     # # Plot stuff\n",
        "#     # plt.plot(history.history['mean_squared_error']) # can use loss, precision, recall etc \n",
        "#     # plt.title('model acc')\n",
        "#     # plt.xlabel('epoch')\n",
        "#     # plt.ylabel('accuracy')\n",
        "#     # plt.legend(['train'], loc='upper right')\n",
        "#     # plt.show()\n",
        "\n",
        "#     p = model.predict(test_x)\n",
        "\n",
        "#     print(test_y)\n",
        "#     print(p)\n",
        "#     predictions.append(col)\n",
        "#     predictions.append(test_y[0])\n",
        "#     predictions.append(p[0][0])\n",
        "#     predictions_list.append(predictions)\n",
        "\n",
        "#       r2_y = R2_calc(pred_y,test_y)\n",
        "#       r2_y_list.append(r2_y)\n",
        "\n",
        "#       mse_y = MSE_calc(pred_y,test_y)\n",
        "#       mse_y_list.append(mse_y)\n",
        "\n",
        "#       mae_y = MAE_calc(pred_y,test_y)\n",
        "#       mae_y_list.append(mae_y)\n",
        "\n",
        "#   print('Predictions: Test | Predicted: ', predictions_list)\n",
        "\n",
        "\n"
      ],
      "execution_count": null,
      "outputs": []
    },
    {
      "cell_type": "code",
      "metadata": {
        "id": "zaxYeoP4P9XL"
      },
      "source": [
        "# nn(dmp_till2017, dmp_2018)\n"
      ],
      "execution_count": null,
      "outputs": []
    },
    {
      "cell_type": "code",
      "metadata": {
        "id": "CZkb03EqSGpy"
      },
      "source": [
        ""
      ],
      "execution_count": null,
      "outputs": []
    }
  ]
}